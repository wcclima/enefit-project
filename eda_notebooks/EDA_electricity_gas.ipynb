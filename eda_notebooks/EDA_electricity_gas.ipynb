{
 "cells": [
  {
   "cell_type": "markdown",
   "id": "1ff6e51a-0c52-49e7-9adc-73fbf477d604",
   "metadata": {},
   "source": [
    "# **Electricity and gas data exploration**"
   ]
  },
  {
   "cell_type": "markdown",
   "id": "da99c2bf-ab1d-4b1d-8e2e-86cf8516483f",
   "metadata": {
    "tags": []
   },
   "source": [
    "## 0 - Set up"
   ]
  },
  {
   "cell_type": "markdown",
   "id": "f06ad225-833b-4983-95ea-1703236cd74f",
   "metadata": {},
   "source": [
    "###  0.1 - Libraries"
   ]
  },
  {
   "cell_type": "code",
   "execution_count": null,
   "id": "92de89b0-3b63-4560-8ffc-32d1af593a74",
   "metadata": {},
   "outputs": [],
   "source": [
    "#packages for EDA\n",
    "import numpy as np\n",
    "import pandas as pd\n",
    "\n",
    "#packages for visualisation\n",
    "import matplotlib.pyplot as plt\n",
    "import matplotlib.gridspec as gridspec\n",
    "import seaborn as sns\n",
    "\n",
    "#package for import data in json format\n",
    "import json\n",
    "\n",
    "#miscellania\n",
    "import warnings\n",
    "warnings.filterwarnings('ignore')\n",
    "sns.set() # set seaborn as default style"
   ]
  },
  {
   "cell_type": "markdown",
   "id": "8aa652dd-1e16-4102-ae80-e855865d7f27",
   "metadata": {},
   "source": [
    "### 0.2 - User-defined functions "
   ]
  },
  {
   "cell_type": "code",
   "execution_count": null,
   "id": "33b640e3-8e8c-4ca1-9dea-d9a4d01037ae",
   "metadata": {
    "tags": []
   },
   "outputs": [],
   "source": [
    "def compute_lagged_corr(df, var, lagged_var, n_lags):\n",
    "    return [df[var].corr(df[lagged_var].shift(j)) for j in range(n_lags + 1)]"
   ]
  },
  {
   "cell_type": "code",
   "execution_count": null,
   "id": "3b84f83e-df06-4810-85b3-36838c8ca20d",
   "metadata": {
    "tags": []
   },
   "outputs": [],
   "source": [
    "def plot_full_corr(df, is_business, is_consumption, var, lagged_var, n_lags):\n",
    "    mask_busi = df['is_business'] == is_business\n",
    "    mask_cons = df['is_consumption'] == is_consumption\n",
    "    mask_full = mask_busi&mask_cons\n",
    "    corr_list = compute_lagged_corr(df[mask_full], \n",
    "                                    var, \n",
    "                                    lagged_var, \n",
    "                                    n_lags\n",
    "                                   )\n",
    "\n",
    "    \n",
    "    plt.figure(figsize=(12,5),dpi=100)\n",
    "    aux_series = pd.Series(data = corr_list, \n",
    "                           index = [lag for lag in range(n_lags + 1)]\n",
    "                          )\n",
    "    aux_series.plot()\n",
    "    plt.title(f'Target-price Pearson correlation for is_business = {is_business} and is_consumption = {is_consumption}')\n",
    "    plt.xlabel('hourly lag')\n",
    "    plt.ylabel('correlation')\n",
    "    plt.show()\n",
    "    \n",
    "    print(f\"Min correlation datetime: {aux_series.min()}, {aux_series.idxmin()}\")\n",
    "    print(f\"Max correlation datetime: {aux_series.max()}, {aux_series.idxmax()}\")"
   ]
  },
  {
   "cell_type": "code",
   "execution_count": null,
   "id": "84de3ad8-e5e0-4d64-9ce4-eeabb113aa0d",
   "metadata": {},
   "outputs": [],
   "source": [
    "def make_correlation_df(df, target_var, lagged_vars, n_lags):\n",
    "    \"\"\"\n",
    "    df: dataframe\n",
    "    target_var: target variable, string\n",
    "    lagged_vars: list of lagged variables, list of string\n",
    "    n_lags: number of lagged periods, integer\n",
    "    \"\"\"\n",
    "\n",
    "    pred_ids = pd.unique(df['prediction_unit_id'])\n",
    "\n",
    "    n_lagged_vars = len(lagged_vars)\n",
    "    corr_list = [[] for i in range(n_lagged_vars)]\n",
    "    lag_list = []\n",
    "    is_cons_list = []\n",
    "    pred_id_list = []\n",
    "    \n",
    "    data_dict = {}\n",
    "    \n",
    "    corr_vars = [target_var] + lagged_vars\n",
    "\n",
    "    for pred_id in pred_ids:\n",
    "        for is_cons in [0, 1]:\n",
    "            mask_pred_id = df.prediction_unit_id == pred_id\n",
    "            mask_is_cons = df.is_consumption == is_cons\n",
    "            mask_full = mask_pred_id&mask_is_cons\n",
    "            aux_df = df[mask_full][corr_vars].copy()\n",
    "\n",
    "            for i in range(n_lagged_vars):\n",
    "                corr_list[i] += compute_lagged_corr(aux_df, \n",
    "                                             target_var, \n",
    "                                             lagged_vars[i], \n",
    "                                             n_lags\n",
    "                                            )\n",
    "            \n",
    "            lag_list += [lag for lag in range(n_lags + 1)]\n",
    "            is_cons_list += [is_cons]*(n_lags + 1)\n",
    "            pred_id_list += [pred_id]*(n_lags + 1)\n",
    "\n",
    "            \n",
    "    for i, var in enumerate(lagged_vars):\n",
    "        col_name = 'corr_' + var\n",
    "        data_dict.update({col_name : corr_list[i]})\n",
    "        \n",
    "    data_dict.update({'hours_lag' : lag_list,\n",
    "                      'is_consumption' : is_cons_list,\n",
    "                      'prediction_unit_id' : pred_id_list\n",
    "                     }\n",
    "                    )\n",
    "    \n",
    "    return pd.DataFrame(data = data_dict)"
   ]
  },
  {
   "cell_type": "markdown",
   "id": "68be698b-3082-47a2-a366-9fd344d4941e",
   "metadata": {
    "tags": []
   },
   "source": [
    "## 1 - Load the data"
   ]
  },
  {
   "cell_type": "code",
   "execution_count": null,
   "id": "49830e61-522d-4b14-b4cc-535d99f7c5b4",
   "metadata": {
    "tags": []
   },
   "outputs": [],
   "source": [
    "#load the data in the csv format \n",
    "elect_df = pd.read_csv('../data/electricity_prices.csv')\n",
    "gas_df = pd.read_csv('../data/gas_prices.csv')"
   ]
  },
  {
   "cell_type": "markdown",
   "id": "43e25aa5-3b8e-43b8-8b5e-e3cc63d7ef3a",
   "metadata": {},
   "source": [
    "## 2 - Data exploration for electricity prices"
   ]
  },
  {
   "cell_type": "markdown",
   "id": "08f3d71a-fdb4-4bc4-8e38-73512abc790d",
   "metadata": {
    "tags": []
   },
   "source": [
    "### 2.1 - Data documentation\n",
    "\n",
    "- `origin_date`\n",
    "- `forecast_date` - Represents the start of the 1-hour period when the price is valid\n",
    "- `euros_per_mwh` - The price of electricity on the day ahead markets in euros per megawatt hour.\n",
    "- `data_block_id`"
   ]
  },
  {
   "cell_type": "code",
   "execution_count": null,
   "id": "82312ba5-2ef9-419b-b3e3-1d8f703cdfc0",
   "metadata": {
    "tags": []
   },
   "outputs": [],
   "source": [
    "elect_df.head()"
   ]
  },
  {
   "cell_type": "code",
   "execution_count": null,
   "id": "3808c11d-26ba-42d2-b74d-d09026231af7",
   "metadata": {
    "tags": []
   },
   "outputs": [],
   "source": [
    "elect_df['origin_date'] = pd.to_datetime(elect_df['origin_date'])\n",
    "elect_df['forecast_date'] = pd.to_datetime(elect_df['forecast_date'])"
   ]
  },
  {
   "cell_type": "markdown",
   "id": "42577a48-0ac0-4aa7-bc4e-9115a8388555",
   "metadata": {},
   "source": [
    "### 2.2 - Checking for missing values and duplicates"
   ]
  },
  {
   "cell_type": "code",
   "execution_count": null,
   "id": "eb5bc1c3-c807-480c-a66c-f2a6c6ca4251",
   "metadata": {
    "tags": []
   },
   "outputs": [],
   "source": [
    "elect_df.info(show_counts = True)"
   ]
  },
  {
   "cell_type": "code",
   "execution_count": null,
   "id": "d758f09f-2662-4da5-b243-c0ef6ff7b564",
   "metadata": {
    "tags": []
   },
   "outputs": [],
   "source": [
    "elect_df.isnull().sum()"
   ]
  },
  {
   "cell_type": "markdown",
   "id": "5b5d4514-019e-4e90-b4d6-8ec6cef10da4",
   "metadata": {},
   "source": [
    "There are no missing values in the dataset."
   ]
  },
  {
   "cell_type": "code",
   "execution_count": null,
   "id": "b41c5271-fd09-42ac-94c1-502cb2163733",
   "metadata": {
    "tags": []
   },
   "outputs": [],
   "source": [
    "elect_df.duplicated().sum()"
   ]
  },
  {
   "cell_type": "markdown",
   "id": "0a13ee76-09a1-4349-9c08-1b357b2441b7",
   "metadata": {},
   "source": [
    "Also, no duplicated rows."
   ]
  },
  {
   "cell_type": "markdown",
   "id": "a788b1c7-4644-444a-8ca6-7e1e4eae2cdf",
   "metadata": {},
   "source": [
    "#### 2.3 - Check for Daylight Saving Time\n",
    "\n",
    "The start and end timestamps for DST for Estonia in the years 2021, 2022 and 2023 are\n",
    "\n",
    "- `2021-03-28 03:00:00` to `2021-10-31 04:00:00`\n",
    "- `2022-03-27 03:00:00` to `2022-10-30 04:00:00`\n",
    "- `2023-03-26 03:00:00` to `2023-10-29 04:00:00`"
   ]
  },
  {
   "cell_type": "markdown",
   "id": "3ccffa76-2a88-4b33-8e48-16713f3f6352",
   "metadata": {},
   "source": [
    "#### End DST 2021"
   ]
  },
  {
   "cell_type": "code",
   "execution_count": null,
   "id": "88d7af70-aef1-46d6-8e50-36682de02be3",
   "metadata": {
    "tags": []
   },
   "outputs": [],
   "source": [
    "end_dst_2021 = elect_df['origin_date'].dt.strftime('%Y-%m-%d') == '2021-10-30'\n",
    "elect_df[end_dst_2021][0:6]"
   ]
  },
  {
   "cell_type": "code",
   "execution_count": null,
   "id": "8964ce8f-2119-418d-a5dc-3851ba89814d",
   "metadata": {
    "tags": []
   },
   "outputs": [],
   "source": [
    "end_dst_2021 = elect_df['origin_date'].dt.strftime('%Y-%m-%d') == '2021-10-31'\n",
    "elect_df[end_dst_2021][0:6]"
   ]
  },
  {
   "cell_type": "markdown",
   "id": "dc1b2488-3361-4799-b86f-7a3bf733fae0",
   "metadata": {},
   "source": [
    "#### Start DST 2022"
   ]
  },
  {
   "cell_type": "code",
   "execution_count": null,
   "id": "5a086045-b68c-4a5d-bd74-c003db9b854b",
   "metadata": {
    "tags": []
   },
   "outputs": [],
   "source": [
    "start_dst_2022 = elect_df['origin_date'].dt.strftime('%Y-%m-%d') == '2022-03-26'\n",
    "elect_df[start_dst_2022][0:6]"
   ]
  },
  {
   "cell_type": "code",
   "execution_count": null,
   "id": "e230edc4-ae45-4bf7-9766-3ab565ff36ed",
   "metadata": {
    "tags": []
   },
   "outputs": [],
   "source": [
    "start_dst_2022 = elect_df['origin_date'].dt.strftime('%Y-%m-%d') == '2022-03-27'\n",
    "elect_df[start_dst_2022][0:6]"
   ]
  },
  {
   "cell_type": "markdown",
   "id": "bf36d675-59c7-4b6b-93f2-db9b0bdb7a8d",
   "metadata": {
    "tags": []
   },
   "source": [
    "#### End DST 2022"
   ]
  },
  {
   "cell_type": "code",
   "execution_count": null,
   "id": "652c0e2b-f76a-4308-afaa-29b364ac4cb8",
   "metadata": {
    "tags": []
   },
   "outputs": [],
   "source": [
    "end_dst_2022 = elect_df['origin_date'].dt.strftime('%Y-%m-%d') == '2022-10-29'\n",
    "elect_df[end_dst_2022][0:6]"
   ]
  },
  {
   "cell_type": "code",
   "execution_count": null,
   "id": "f82ac4ee-af27-42d6-bb9f-db4c145c7a92",
   "metadata": {
    "tags": []
   },
   "outputs": [],
   "source": [
    "end_dst_2022 = elect_df['origin_date'].dt.strftime('%Y-%m-%d') == '2022-10-30'\n",
    "elect_df[end_dst_2022][0:6]"
   ]
  },
  {
   "cell_type": "markdown",
   "id": "bbf3134d-a0ed-45d0-8019-9091a9b70368",
   "metadata": {},
   "source": [
    "#### Start DST 2023"
   ]
  },
  {
   "cell_type": "code",
   "execution_count": null,
   "id": "a4119822-2da7-40d5-9ae3-cc1e68446b96",
   "metadata": {
    "tags": []
   },
   "outputs": [],
   "source": [
    "start_dst_2023 = elect_df['origin_date'].dt.strftime('%Y-%m-%d') == '2023-03-25'\n",
    "elect_df[start_dst_2023][0:6]"
   ]
  },
  {
   "cell_type": "code",
   "execution_count": null,
   "id": "4f5fdcbc-a30e-441b-adcd-1a9ac65ca616",
   "metadata": {
    "tags": []
   },
   "outputs": [],
   "source": [
    "start_dst_2023 = elect_df['origin_date'].dt.strftime('%Y-%m-%d') == '2023-03-26'\n",
    "elect_df[start_dst_2023][0:6]"
   ]
  },
  {
   "cell_type": "markdown",
   "id": "63623e69-d638-4447-a488-c6ab7aa9fe9a",
   "metadata": {},
   "source": [
    "Hence, we see that there is no change at the start of DST, but the timestamp `02:00:00` is skipped at the end of the DST."
   ]
  },
  {
   "cell_type": "markdown",
   "id": "88910612-f31f-4c1a-ada3-e676235fc621",
   "metadata": {
    "tags": []
   },
   "source": [
    "### 2.4 - Getting the Tallinn time zone right"
   ]
  },
  {
   "cell_type": "markdown",
   "id": "b984b606-2c31-4fd7-bb96-5322205b9595",
   "metadata": {},
   "source": [
    "We first create a dataset with the timestamps in the Tallinn time zone."
   ]
  },
  {
   "cell_type": "code",
   "execution_count": null,
   "id": "3cee89b4-5dd6-4839-be8e-f89ab703bfa6",
   "metadata": {
    "tags": []
   },
   "outputs": [],
   "source": [
    "dt = pd.date_range(start = '2021-09-01 00:00:00', end = '2023-06-01 02:00:00', \n",
    "              freq = 'h', tz = 'Europe/Tallinn')\n",
    "\n",
    "datetime_df = pd.DataFrame(data={'datetime_new' : dt.tz_localize(None)})"
   ]
  },
  {
   "cell_type": "markdown",
   "id": "995e4c9c-4e24-42ac-ad62-4c46ec92057c",
   "metadata": {},
   "source": [
    "From the fact that the timestamp `02:00:00` is skipped at the end of the DST, it seems that the electricity prices need to be shifted by one hour."
   ]
  },
  {
   "cell_type": "code",
   "execution_count": null,
   "id": "f630cc9b-c846-466a-a8eb-03270f14d90b",
   "metadata": {
    "tags": []
   },
   "outputs": [],
   "source": [
    "elect_df['origin_date'] = elect_df['origin_date'] + pd.Timedelta(1, \"h\")\n",
    "elect_df['forecast_date'] = elect_df['forecast_date'] + pd.Timedelta(1, \"h\")"
   ]
  },
  {
   "cell_type": "markdown",
   "id": "4dc270fd-04aa-4a20-af09-cb2978566d1a",
   "metadata": {},
   "source": [
    "We then merge the datetime dataset created above with our electricity prices dataset. So now the timestamp `03:00:00` is duplicated and at the end of the DST, but it is skipped at the start of the DST."
   ]
  },
  {
   "cell_type": "code",
   "execution_count": null,
   "id": "aee688f3-c26e-421b-86fa-77dc343b565e",
   "metadata": {
    "tags": []
   },
   "outputs": [],
   "source": [
    "elect_df = elect_df.merge(datetime_df, how = 'left', left_on = 'forecast_date', right_on = 'datetime_new')"
   ]
  },
  {
   "cell_type": "code",
   "execution_count": null,
   "id": "f5f99a8c-2297-4930-8c0f-acabe819f298",
   "metadata": {
    "tags": []
   },
   "outputs": [],
   "source": [
    "elect_df[(elect_df['forecast_date'].dt.strftime('%Y-%m-%d') == '2021-10-31')][0:6]"
   ]
  },
  {
   "cell_type": "code",
   "execution_count": null,
   "id": "55464cf9-01f9-4772-869a-b6d77451d29f",
   "metadata": {
    "tags": []
   },
   "outputs": [],
   "source": [
    "elect_df[(elect_df['forecast_date'].dt.strftime('%Y-%m-%d') == '2022-03-27')][0:6]"
   ]
  },
  {
   "cell_type": "code",
   "execution_count": null,
   "id": "155e2429-8683-4920-9574-7a7fbdd446b0",
   "metadata": {
    "tags": []
   },
   "outputs": [],
   "source": [
    "elect_df.drop(columns = 'datetime_new', inplace = True)"
   ]
  },
  {
   "cell_type": "markdown",
   "id": "c562aaab-cfb5-417a-b325-edc95b6763cc",
   "metadata": {},
   "source": [
    "The final result is a dataset that is in the Tallinn time zone."
   ]
  },
  {
   "cell_type": "markdown",
   "id": "fa8a4621-9d20-4cef-8e47-b202b6ed1927",
   "metadata": {
    "tags": []
   },
   "source": [
    "### 2.5 - Distribution"
   ]
  },
  {
   "cell_type": "code",
   "execution_count": null,
   "id": "8e4076b5-041d-4825-b89a-0ad13f5582cc",
   "metadata": {
    "tags": []
   },
   "outputs": [],
   "source": [
    "plt.figure(figsize=(12,5),dpi=100)\n",
    "sns.lineplot(elect_df, x = 'forecast_date', y = 'euros_per_mwh')\n",
    "plt.title('Electricity prices')\n",
    "plt.xlabel('forecast date')\n",
    "plt.ylabel('price per MW-h')\n",
    "plt.show()"
   ]
  },
  {
   "cell_type": "code",
   "execution_count": null,
   "id": "25a044da-c269-4369-92c6-baa22239b75d",
   "metadata": {
    "tags": []
   },
   "outputs": [],
   "source": [
    "plt.figure(figsize=(10,6),dpi=100)\n",
    "sns.boxplot(elect_df['euros_per_mwh'])\n",
    "plt.title('Electricity prices boxplot')\n",
    "plt.xlabel('Electricity prices')\n",
    "plt.ylabel('price per MW-h')\n",
    "plt.show()"
   ]
  },
  {
   "cell_type": "code",
   "execution_count": null,
   "id": "c7fcd0ab-c191-4954-8d46-51e88a1159c3",
   "metadata": {
    "tags": []
   },
   "outputs": [],
   "source": [
    "plt.figure(figsize=(12,5),dpi=100)\n",
    "sns.distplot(elect_df['euros_per_mwh'])\n",
    "plt.title('Electricity prices')\n",
    "#plt.xlabel('forecast date')\n",
    "#plt.ylabel('price per MW-h')\n",
    "plt.show()"
   ]
  },
  {
   "cell_type": "markdown",
   "id": "56df3915-f2da-4312-88fd-8cf59d5662e8",
   "metadata": {},
   "source": [
    "Hence, there is one outlier and the distribution seems to be skewed towards small values."
   ]
  },
  {
   "cell_type": "markdown",
   "id": "397fac05-f859-44e6-a706-c9f45cd23b29",
   "metadata": {},
   "source": [
    "### 2.6 - Correlation with target"
   ]
  },
  {
   "cell_type": "code",
   "execution_count": null,
   "id": "569d9174-b876-456c-adbe-8b71a2ee1491",
   "metadata": {
    "tags": []
   },
   "outputs": [],
   "source": [
    "target_df = pd.read_csv('../data/train_clean.csv')"
   ]
  },
  {
   "cell_type": "code",
   "execution_count": null,
   "id": "a947e146-db35-4e8f-961b-97aa1483a2ca",
   "metadata": {
    "tags": []
   },
   "outputs": [],
   "source": [
    "target_df['datetime'] = pd.to_datetime(target_df['datetime'])"
   ]
  },
  {
   "cell_type": "code",
   "execution_count": null,
   "id": "763a25d4-ceda-4b1e-8418-2a39360b3cdf",
   "metadata": {
    "tags": []
   },
   "outputs": [],
   "source": [
    "target_df.head()"
   ]
  },
  {
   "cell_type": "code",
   "execution_count": null,
   "id": "955da3c2-d7d8-4552-8967-100cba5ddd37",
   "metadata": {
    "tags": []
   },
   "outputs": [],
   "source": [
    "target_df = target_df.merge(datetime_df, how = 'left', left_on = 'datetime', right_on = 'datetime_new')"
   ]
  },
  {
   "cell_type": "code",
   "execution_count": null,
   "id": "acfa281e-9e05-4b47-858d-0199e46e9bcd",
   "metadata": {
    "tags": []
   },
   "outputs": [],
   "source": [
    "target_df[(target_df['is_consumption']==0)&(target_df['prediction_unit_id']==0)&(target_df['datetime'].dt.strftime('%Y-%m-%d') == '2021-10-31')][0:6]"
   ]
  },
  {
   "cell_type": "code",
   "execution_count": null,
   "id": "f91ebbb4-dc7c-4e10-928d-bb433d9425cd",
   "metadata": {
    "tags": []
   },
   "outputs": [],
   "source": [
    "target_df.drop(columns = 'datetime_new', inplace = True)"
   ]
  },
  {
   "cell_type": "code",
   "execution_count": null,
   "id": "69a10289-85dc-48b5-a8f4-e34696293cdf",
   "metadata": {
    "tags": []
   },
   "outputs": [],
   "source": [
    "elect_df['diff_euros_per_mwh'] = elect_df['euros_per_mwh'].diff(1)"
   ]
  },
  {
   "cell_type": "code",
   "execution_count": null,
   "id": "0110306f-30a1-4189-af7a-8c768f914cfc",
   "metadata": {
    "tags": []
   },
   "outputs": [],
   "source": [
    "target_price_df = target_df.merge(elect_df, how = 'left', left_on = 'datetime', right_on = 'forecast_date')\n",
    "target_price_df.dropna(inplace = True)"
   ]
  },
  {
   "cell_type": "code",
   "execution_count": null,
   "id": "e2379a09-2b1c-457b-a636-66b777f4e089",
   "metadata": {
    "tags": []
   },
   "outputs": [],
   "source": [
    "target_price_df[(target_price_df['is_consumption']==0)&(target_price_df['prediction_unit_id']==0)&(target_price_df['datetime'].dt.strftime('%Y-%m-%d') == '2021-10-31')][0:6]"
   ]
  },
  {
   "cell_type": "code",
   "execution_count": null,
   "id": "323ca7ec-b8ce-46d1-a512-1872b9540a1f",
   "metadata": {},
   "outputs": [],
   "source": [
    "hourly_lag = 24*7*4*3"
   ]
  },
  {
   "cell_type": "markdown",
   "id": "72aa4583-b9f9-4ddd-b143-2c5b5b63d717",
   "metadata": {
    "tags": []
   },
   "source": [
    "#### Plots of the target-electricity price Pearson correlation vs. hourly lag "
   ]
  },
  {
   "cell_type": "code",
   "execution_count": null,
   "id": "2ce1761d-6cd1-4c44-9a81-ae3ff82f72dc",
   "metadata": {
    "tags": []
   },
   "outputs": [],
   "source": [
    "plot_full_corr(target_price_df, 0, 0, 'target', 'euros_per_mwh', hourly_lag)"
   ]
  },
  {
   "cell_type": "code",
   "execution_count": null,
   "id": "ba8db5f4-b32e-4f53-a3ce-8a19ce16cbd2",
   "metadata": {
    "tags": []
   },
   "outputs": [],
   "source": [
    "plot_full_corr(target_price_df, 0, 1, 'target', 'euros_per_mwh', hourly_lag)"
   ]
  },
  {
   "cell_type": "code",
   "execution_count": null,
   "id": "1ae37d30-cdcc-40ba-a282-9606d319da5d",
   "metadata": {
    "tags": []
   },
   "outputs": [],
   "source": [
    "plot_full_corr(target_price_df, 1, 0, 'target', 'euros_per_mwh', hourly_lag)"
   ]
  },
  {
   "cell_type": "code",
   "execution_count": null,
   "id": "087a7e18-42e1-42b6-a237-3588a7f5ed55",
   "metadata": {
    "tags": []
   },
   "outputs": [],
   "source": [
    "plot_full_corr(target_price_df, 1, 1, 'target', 'euros_per_mwh', hourly_lag)"
   ]
  },
  {
   "cell_type": "markdown",
   "id": "bf091100-4a73-488c-abaf-666caf63ce74",
   "metadata": {
    "jp-MarkdownHeadingCollapsed": true,
    "tags": []
   },
   "source": [
    "#### Plots of the target-diff electricity price Pearson correlation vs. hourly lag "
   ]
  },
  {
   "cell_type": "code",
   "execution_count": null,
   "id": "027acecf-5df1-4977-8a34-082879cb35fa",
   "metadata": {
    "tags": []
   },
   "outputs": [],
   "source": [
    "plot_full_corr(target_price_df, 0, 0, 'target', 'diff_euros_per_mwh', 24*7*4*6)"
   ]
  },
  {
   "cell_type": "code",
   "execution_count": null,
   "id": "6eecbd15-3ddd-4851-a3f1-498f54b8f530",
   "metadata": {
    "tags": []
   },
   "outputs": [],
   "source": [
    "plot_full_corr(target_price_df, 0, 1, 'target', 'diff_euros_per_mwh', 24*7*4*6)"
   ]
  },
  {
   "cell_type": "code",
   "execution_count": null,
   "id": "a52c323d-e9c6-4361-b133-9be43d88fb6c",
   "metadata": {
    "tags": []
   },
   "outputs": [],
   "source": [
    "plot_full_corr(target_price_df, 1, 0, 'target', 'diff_euros_per_mwh', 24*7*4*6)"
   ]
  },
  {
   "cell_type": "code",
   "execution_count": null,
   "id": "232818da-e293-4650-b26a-0b2d06400f37",
   "metadata": {
    "tags": []
   },
   "outputs": [],
   "source": [
    "plot_full_corr(target_price_df, 1, 1, 'target', 'diff_euros_per_mwh', 24*7*4*6)"
   ]
  },
  {
   "cell_type": "markdown",
   "id": "6c004d46-bcbb-4ae5-a09a-29ecf75998c0",
   "metadata": {},
   "source": [
    "It seems that the target is more strongly correlated with actual prices rather than with their difference."
   ]
  },
  {
   "cell_type": "markdown",
   "id": "18871d16-dedc-42a7-a2c9-527c36639be0",
   "metadata": {},
   "source": [
    "#### Create a target-electricity price correlation dataframe for each target time series "
   ]
  },
  {
   "cell_type": "markdown",
   "id": "18a1f6cf-5e8f-4bec-b49e-ac62b3376a52",
   "metadata": {},
   "source": [
    "We now compute the Pearson correlation between consumption/production and lagged electricity prices as a function of the hourly lag for individual prediction unit ids time series."
   ]
  },
  {
   "cell_type": "code",
   "execution_count": null,
   "id": "5abf96e9-4054-4fde-b718-78053a3dc042",
   "metadata": {
    "tags": []
   },
   "outputs": [],
   "source": [
    "corr_df = make_correlation_df(target_price_df, 'target', ['euros_per_mwh'], 24*7*4*6)"
   ]
  },
  {
   "cell_type": "code",
   "execution_count": null,
   "id": "ebd3ded9-5db2-477a-a0c2-d3ce410e7c38",
   "metadata": {
    "tags": []
   },
   "outputs": [],
   "source": [
    "corr_df.head()"
   ]
  },
  {
   "cell_type": "code",
   "execution_count": null,
   "id": "99d04fb9-7f3f-421b-88d5-381b94123e62",
   "metadata": {
    "tags": []
   },
   "outputs": [],
   "source": [
    "corr_df.to_csv('../data/corr_target_elect_prices.csv', index = False)"
   ]
  },
  {
   "cell_type": "markdown",
   "id": "2e9d180a-7ae3-4850-a516-ffa9347d41a3",
   "metadata": {
    "jp-MarkdownHeadingCollapsed": true,
    "tags": []
   },
   "source": [
    "#### Plot of the Pearson correlation between production and lagged electricity prices vs. hourly lag"
   ]
  },
  {
   "cell_type": "code",
   "execution_count": null,
   "id": "98c4e7bc-717b-4eea-afe8-ef2f21fcecd7",
   "metadata": {
    "tags": []
   },
   "outputs": [],
   "source": [
    "mask = corr_df['is_consumption'] == 0\n",
    "g = sns.FacetGrid(corr_df[mask], col = 'prediction_unit_id', col_wrap = 2, \n",
    "                  sharex=False, sharey=False, aspect=2.2, height=3)\n",
    "g.map_dataframe(sns.lineplot, x=\"hours_lag\", y=\"correlation\")\n",
    "g.add_legend()\n",
    "g.fig.suptitle('Pearson correlation between production and lagged electricity prices')\n",
    "g.fig.subplots_adjust(top=0.975)"
   ]
  },
  {
   "cell_type": "code",
   "execution_count": null,
   "id": "0e0499a2-98c5-4293-9cb8-8f7ec0f0465e",
   "metadata": {
    "tags": []
   },
   "outputs": [],
   "source": [
    "mask = (corr_df['is_consumption'] == 0)&(corr_df['hours_lag'] <= 24*7)\n",
    "g = sns.FacetGrid(corr_df[mask], col = 'prediction_unit_id', col_wrap = 2, \n",
    "                  sharex=False, sharey=False, aspect=2.2, height=3)\n",
    "g.map_dataframe(sns.lineplot, x=\"hours_lag\", y=\"correlation\")\n",
    "g.add_legend()\n",
    "g.fig.suptitle('Pearson correlation between production and lagged electricity prices')\n",
    "g.fig.subplots_adjust(top=0.975)"
   ]
  },
  {
   "cell_type": "markdown",
   "id": "8e33a39c-da0e-4d9b-8dca-8b543e133fc0",
   "metadata": {
    "jp-MarkdownHeadingCollapsed": true,
    "tags": []
   },
   "source": [
    "#### Plot of the Pearson correlation between consumption and lagged electricity prices vs. hourly lag"
   ]
  },
  {
   "cell_type": "code",
   "execution_count": null,
   "id": "2da93ec6-eba8-4889-8bfd-b6b71661c3e4",
   "metadata": {
    "tags": []
   },
   "outputs": [],
   "source": [
    "mask = corr_df['is_consumption'] == 1\n",
    "g = sns.FacetGrid(corr_df[mask], col = 'prediction_unit_id', col_wrap = 2, \n",
    "                  sharex=False, sharey=False, aspect=2.2, height=3)\n",
    "g.map_dataframe(sns.lineplot, x=\"hours_lag\", y=\"correlation\")\n",
    "g.add_legend()\n",
    "g.fig.suptitle('Pearson correlation between consumption and lagged electricity prices')\n",
    "g.fig.subplots_adjust(top=0.975)"
   ]
  },
  {
   "cell_type": "code",
   "execution_count": null,
   "id": "3aa3acde-ef3f-4575-9ecb-106023d520e2",
   "metadata": {
    "tags": []
   },
   "outputs": [],
   "source": [
    "mask = (corr_df['is_consumption'] == 1)&(corr_df['hours_lag'] <= 24*7)\n",
    "g = sns.FacetGrid(corr_df[mask], col = 'prediction_unit_id', col_wrap = 2, \n",
    "                  sharex=False, sharey=False, aspect=2.2, height=3)\n",
    "g.map_dataframe(sns.lineplot, x=\"hours_lag\", y=\"correlation\")\n",
    "g.add_legend()\n",
    "g.fig.suptitle('Pearson correlation between consumption and lagged electricity prices')\n",
    "g.fig.subplots_adjust(top=0.975)"
   ]
  },
  {
   "cell_type": "markdown",
   "id": "513a3b29-43a4-41fd-992e-0b939a86a7fe",
   "metadata": {},
   "source": [
    "The target-electricity prices correlation shows quite a lot of structure with respect to the lagged time. There is a clear hourly seasonality that might be related to the natural hourly seasonality of energy consumption and solar energy production. For many of the `prediction_unit_id`'s there is also a monthly seasonality, which might be related to the seasons of the year or so quartley planning in the offer and demand.  "
   ]
  },
  {
   "cell_type": "markdown",
   "id": "42bc58e2-bc8a-439d-a6d6-8dee48157dcd",
   "metadata": {
    "tags": []
   },
   "source": [
    "## 3 - Data exploration for gas prices"
   ]
  },
  {
   "cell_type": "markdown",
   "id": "b22d7900-1b92-44fb-86fd-14dd570e022e",
   "metadata": {
    "tags": []
   },
   "source": [
    "### 3.1 - Data documentation\n",
    "\n",
    "\n",
    " - `origin_date` - The date when the day-ahead prices became available.\n",
    " - `forecast_date` - The date when the forecast prices should be relevant.\n",
    " - `[lowest/highest]_price_per_mwh` - The lowest/highest price of natural gas that on the day ahead market that trading day, in Euros per megawatt hour equivalent.\n",
    " - `data_block_id`"
   ]
  },
  {
   "cell_type": "code",
   "execution_count": null,
   "id": "21cc0cbe-77b5-4c17-880f-d6799b5185ce",
   "metadata": {
    "tags": []
   },
   "outputs": [],
   "source": [
    "gas_df.head()"
   ]
  },
  {
   "cell_type": "code",
   "execution_count": null,
   "id": "7f436ef4-632a-482e-94ab-84bede6ce6e6",
   "metadata": {
    "tags": []
   },
   "outputs": [],
   "source": [
    "gas_df['origin_date'] = pd.to_datetime(gas_df['origin_date'])\n",
    "gas_df['forecast_date'] = pd.to_datetime(gas_df['forecast_date'])"
   ]
  },
  {
   "cell_type": "markdown",
   "id": "19cb9109-0069-42f6-9ce9-20382dfbc3db",
   "metadata": {},
   "source": [
    "### 3.2 - Checking for missing values and duplicates"
   ]
  },
  {
   "cell_type": "code",
   "execution_count": null,
   "id": "d236c083-cad3-4c36-98f5-c1cbab9b5027",
   "metadata": {
    "tags": []
   },
   "outputs": [],
   "source": [
    "gas_df.info(show_counts = True)"
   ]
  },
  {
   "cell_type": "code",
   "execution_count": null,
   "id": "0db5f155-74c3-4067-a497-8f1d46d17780",
   "metadata": {
    "tags": []
   },
   "outputs": [],
   "source": [
    "gas_df.isnull().sum()"
   ]
  },
  {
   "cell_type": "markdown",
   "id": "968dc143-c83f-43ea-843d-a754dff0d92e",
   "metadata": {},
   "source": [
    "There are no missing values in the dataset."
   ]
  },
  {
   "cell_type": "code",
   "execution_count": null,
   "id": "5bc8f1f2-8081-40d7-8a96-a290fd6c13cb",
   "metadata": {
    "tags": []
   },
   "outputs": [],
   "source": [
    "gas_df.duplicated().sum()"
   ]
  },
  {
   "cell_type": "markdown",
   "id": "6b0b6abf-3ade-4288-8fd3-ec477fc2d4d5",
   "metadata": {},
   "source": [
    "Also, no duplicated rows."
   ]
  },
  {
   "cell_type": "markdown",
   "id": "3445c05e-23af-42a3-91f2-47be0e3b37a8",
   "metadata": {
    "tags": []
   },
   "source": [
    "### 3.3 - Distribution"
   ]
  },
  {
   "cell_type": "code",
   "execution_count": null,
   "id": "f8c70067-227a-468a-be67-055ac4f781d0",
   "metadata": {
    "tags": []
   },
   "outputs": [],
   "source": [
    "plt.figure(figsize=(12,5),dpi=100)\n",
    "sns.lineplot(gas_df, x = 'forecast_date', y = 'lowest_price_per_mwh', label = 'lowest price')\n",
    "sns.lineplot(gas_df, x = 'forecast_date', y = 'highest_price_per_mwh', label = 'highest price')\n",
    "plt.title('Gas prices time series')\n",
    "plt.xlabel('forecast date')\n",
    "plt.ylabel('price per MW-h')\n",
    "plt.legend()\n",
    "plt.show()"
   ]
  },
  {
   "cell_type": "code",
   "execution_count": null,
   "id": "1678ef60-666c-4024-b9b6-6f32d31d61fe",
   "metadata": {
    "tags": []
   },
   "outputs": [],
   "source": [
    "plt.figure(figsize=(10,6),dpi=100)\n",
    "sns.boxplot(gas_df[['lowest_price_per_mwh', 'highest_price_per_mwh']])\n",
    "plt.title('Gas prices boxplot')\n",
    "plt.xlabel('Gas prices')\n",
    "plt.ylabel('price per MW-h')\n",
    "plt.show()"
   ]
  },
  {
   "cell_type": "code",
   "execution_count": null,
   "id": "cf48c278-981a-4689-86ee-d0600cfc2d8c",
   "metadata": {
    "tags": []
   },
   "outputs": [],
   "source": [
    "plt.figure(figsize=(12,5),dpi=100)\n",
    "sns.distplot(gas_df['lowest_price_per_mwh'], label = 'lowest price')\n",
    "sns.distplot(gas_df['highest_price_per_mwh'], label = 'highest price')\n",
    "plt.title('Gas prices ditribution')\n",
    "plt.xlabel('gas price per MW-h')\n",
    "#plt.ylabel('price per MW-h')\n",
    "plt.legend()\n",
    "plt.show()"
   ]
  },
  {
   "cell_type": "markdown",
   "id": "4d674556-785f-4c43-8566-8d1e7d83e5ce",
   "metadata": {},
   "source": [
    "Hence, there is no outlier and the distributions seems to be skewed towards small values."
   ]
  },
  {
   "cell_type": "markdown",
   "id": "11547aef-74b8-48bb-b5af-5ecca3fd9a18",
   "metadata": {},
   "source": [
    "### 3.4 - Correlation with target"
   ]
  },
  {
   "cell_type": "code",
   "execution_count": null,
   "id": "0b7e6cb7-a6ef-45d8-be27-d75273ef7dc5",
   "metadata": {
    "tags": []
   },
   "outputs": [],
   "source": [
    "gas_df['mean_price_per_mwh'] = 0.5*(gas_df['lowest_price_per_mwh'] + gas_df['highest_price_per_mwh'])\n",
    "gas_df['var_price_per_mwh'] = gas_df['highest_price_per_mwh'] - gas_df['lowest_price_per_mwh']"
   ]
  },
  {
   "cell_type": "code",
   "execution_count": null,
   "id": "42f6e8c0-b584-4c23-9f7d-e4ab64c2598e",
   "metadata": {
    "tags": []
   },
   "outputs": [],
   "source": [
    "target_df['date'] = pd.to_datetime(target_df['datetime'].dt.date)\n",
    "target_df.info()"
   ]
  },
  {
   "cell_type": "code",
   "execution_count": null,
   "id": "95996306-f3de-4866-9e80-e6d0365ad13d",
   "metadata": {
    "tags": []
   },
   "outputs": [],
   "source": [
    "target_gas_price_df = target_df.merge(gas_df, how = 'left', left_on = 'date', right_on = 'forecast_date')\n",
    "target_gas_price_df.dropna(inplace = True)"
   ]
  },
  {
   "cell_type": "code",
   "execution_count": null,
   "id": "435716ff-5efa-4e05-be0d-bfe7b55002a4",
   "metadata": {
    "tags": []
   },
   "outputs": [],
   "source": [
    "target_gas_price_df[(target_gas_price_df['is_consumption']==0)&(target_gas_price_df['prediction_unit_id']==0)&(target_gas_price_df['datetime'].dt.strftime('%Y-%m-%d') == '2021-10-31')][0:6]"
   ]
  },
  {
   "cell_type": "markdown",
   "id": "b34dd151-94e9-4809-8075-0a8e7f929356",
   "metadata": {},
   "source": [
    "#### Plots of the target-gas price Pearson correlation vs. hourly lag "
   ]
  },
  {
   "cell_type": "markdown",
   "id": "335ae1e3-d963-4e15-8bce-78aec1c409f2",
   "metadata": {
    "tags": []
   },
   "source": [
    "##### Correlation with mean price"
   ]
  },
  {
   "cell_type": "code",
   "execution_count": null,
   "id": "13ee5b99-ac2f-4b07-8d4b-11487b9d677a",
   "metadata": {
    "tags": []
   },
   "outputs": [],
   "source": [
    "plot_full_corr(target_gas_price_df, 0, 0, 'target', 'mean_price_per_mwh', 24*7*4*6)"
   ]
  },
  {
   "cell_type": "code",
   "execution_count": null,
   "id": "4a9187fa-8d55-44da-8f09-70f7d2bd6bfe",
   "metadata": {
    "tags": []
   },
   "outputs": [],
   "source": [
    "plot_full_corr(target_gas_price_df, 0, 1, 'target', 'mean_price_per_mwh', 24*7*4*6)"
   ]
  },
  {
   "cell_type": "code",
   "execution_count": null,
   "id": "568ce5f8-3a5e-4ad3-bb23-e1bf8178c8c0",
   "metadata": {
    "tags": []
   },
   "outputs": [],
   "source": [
    "plot_full_corr(target_gas_price_df, 1, 0, 'target', 'mean_price_per_mwh', 24*7*4*6)"
   ]
  },
  {
   "cell_type": "code",
   "execution_count": null,
   "id": "e816f015-f4e9-4c94-94bb-3e1f35545e17",
   "metadata": {
    "tags": []
   },
   "outputs": [],
   "source": [
    "plot_full_corr(target_gas_price_df, 1, 1, 'target', 'mean_price_per_mwh', 24*7*4*6)"
   ]
  },
  {
   "cell_type": "markdown",
   "id": "5277958a-67f0-44e5-94e5-390c6882dbbf",
   "metadata": {
    "jp-MarkdownHeadingCollapsed": true,
    "tags": []
   },
   "source": [
    "##### Correlation with highest price"
   ]
  },
  {
   "cell_type": "code",
   "execution_count": null,
   "id": "71a09c82-e6c9-4fa0-82d2-96a16c571c4b",
   "metadata": {
    "tags": []
   },
   "outputs": [],
   "source": [
    "plot_full_corr(target_gas_price_df, 0, 0, 'target', 'highest_price_per_mwh', 24*7*4*6)"
   ]
  },
  {
   "cell_type": "code",
   "execution_count": null,
   "id": "1442d257-0ef9-417c-86b5-ba5c8ce88b62",
   "metadata": {
    "tags": []
   },
   "outputs": [],
   "source": [
    "plot_full_corr(target_gas_price_df, 0, 1, 'target', 'highest_price_per_mwh', 24*7*4*6)"
   ]
  },
  {
   "cell_type": "code",
   "execution_count": null,
   "id": "2c9fa8f4-a09f-409f-ac2c-fe162c96aefd",
   "metadata": {
    "tags": []
   },
   "outputs": [],
   "source": [
    "plot_full_corr(target_gas_price_df, 1, 0, 'target', 'highest_price_per_mwh', 24*7*4*6)"
   ]
  },
  {
   "cell_type": "code",
   "execution_count": null,
   "id": "3e99dd6a-c0cf-4870-93b6-7b8129d10a61",
   "metadata": {
    "tags": []
   },
   "outputs": [],
   "source": [
    "plot_full_corr(target_gas_price_df, 1, 1, 'target', 'highest_price_per_mwh', 24*7*4*6)"
   ]
  },
  {
   "cell_type": "markdown",
   "id": "a1bc012f-8008-40ef-8f67-64af22451e85",
   "metadata": {},
   "source": [
    "Overall, it seems that the the target-gas price correlation does not vary mush with respect to the hourly lag."
   ]
  },
  {
   "cell_type": "markdown",
   "id": "e49a3fed-68e3-4f82-9f85-e0dbd9f59df3",
   "metadata": {},
   "source": [
    "#### Create a target-gas price correlation dataframe for each target time series "
   ]
  },
  {
   "cell_type": "code",
   "execution_count": null,
   "id": "5797a461-7abb-468d-907b-f4667eee2cd2",
   "metadata": {
    "tags": []
   },
   "outputs": [],
   "source": [
    "lagged_vars = ['lowest_price_per_mwh', 'highest_price_per_mwh', \n",
    "               'mean_price_per_mwh', 'var_price_per_mwh']\n",
    "corr_gas_df = make_correlation_df(target_gas_price_df, 'target', lagged_vars, 24*7*4*6)"
   ]
  },
  {
   "cell_type": "code",
   "execution_count": null,
   "id": "9eaa1dde-24ee-4158-a516-22dbbb371b23",
   "metadata": {
    "tags": []
   },
   "outputs": [],
   "source": [
    "corr_gas_df.head()"
   ]
  },
  {
   "cell_type": "markdown",
   "id": "92a93aef-5e0f-4a5a-8304-beca2971049a",
   "metadata": {
    "jp-MarkdownHeadingCollapsed": true,
    "tags": []
   },
   "source": [
    "#### Plot of the Pearson correlation between consumption and lagged lowest gas prices vs. hourly lag"
   ]
  },
  {
   "cell_type": "code",
   "execution_count": null,
   "id": "747320a1-53be-40c1-a783-3300c3522cc1",
   "metadata": {
    "tags": []
   },
   "outputs": [],
   "source": [
    "mask = corr_gas_df['is_consumption'] == 1\n",
    "g = sns.FacetGrid(corr_gas_df[mask], col = 'prediction_unit_id', col_wrap = 2, \n",
    "                  sharex=False, sharey=False, aspect=2.2, height=3)\n",
    "g.map_dataframe(sns.lineplot, x=\"hours_lag\", y=\"corr_lowest_price_per_mwh\")\n",
    "g.add_legend()\n",
    "g.fig.suptitle('Pearson correlation between consumption and lagged lowest gas prices')\n",
    "g.fig.subplots_adjust(top=0.975)"
   ]
  },
  {
   "cell_type": "markdown",
   "id": "4900bc98-f9d8-4d94-a629-d5008f50f8a3",
   "metadata": {
    "jp-MarkdownHeadingCollapsed": true,
    "tags": []
   },
   "source": [
    "#### Plot of the Pearson correlation between production and lagged lowest gas prices vs. hourly lag"
   ]
  },
  {
   "cell_type": "code",
   "execution_count": null,
   "id": "6fc1e86c-9d25-43f2-98e1-62a5446c3f2e",
   "metadata": {
    "tags": []
   },
   "outputs": [],
   "source": [
    "mask = corr_gas_df['is_consumption'] == 0\n",
    "g = sns.FacetGrid(corr_gas_df[mask], col = 'prediction_unit_id', col_wrap = 2, \n",
    "                  sharex=False, sharey=False, aspect=2.2, height=3)\n",
    "g.map_dataframe(sns.lineplot, x=\"hours_lag\", y=\"corr_lowest_price_per_mwh\")\n",
    "g.add_legend()\n",
    "g.fig.suptitle('Pearson correlation between production and lagged lowest gas prices')\n",
    "g.fig.subplots_adjust(top=0.975)"
   ]
  },
  {
   "cell_type": "markdown",
   "id": "3f9745bd-b35d-4a7d-9279-0d793335b465",
   "metadata": {
    "jp-MarkdownHeadingCollapsed": true,
    "tags": []
   },
   "source": [
    "#### Plot of the Pearson correlation between consumption and lagged highest gas prices vs. hourly lag"
   ]
  },
  {
   "cell_type": "code",
   "execution_count": null,
   "id": "7c581ca3-b748-4e24-b6a0-46fe0e28ed5d",
   "metadata": {
    "tags": []
   },
   "outputs": [],
   "source": [
    "mask = corr_gas_df['is_consumption'] == 1\n",
    "g = sns.FacetGrid(corr_gas_df[mask], col = 'prediction_unit_id', col_wrap = 2, \n",
    "                  sharex=False, sharey=False, aspect=2.2, height=3)\n",
    "g.map_dataframe(sns.lineplot, x=\"hours_lag\", y=\"corr_highest_price_per_mwh\")\n",
    "g.add_legend()"
   ]
  },
  {
   "cell_type": "markdown",
   "id": "f1b25b8d-e300-4da1-9efb-4aeb5a3c84c7",
   "metadata": {
    "jp-MarkdownHeadingCollapsed": true,
    "tags": []
   },
   "source": [
    "#### Plot of the Pearson correlation between production and lagged highest gas prices vs. hourly lag"
   ]
  },
  {
   "cell_type": "code",
   "execution_count": null,
   "id": "1a2a580d-bf67-49ea-9170-6739c884e2f9",
   "metadata": {
    "tags": []
   },
   "outputs": [],
   "source": [
    "mask = corr_gas_df['is_consumption'] == 0\n",
    "g = sns.FacetGrid(corr_gas_df[mask], col = 'prediction_unit_id', col_wrap = 2, \n",
    "                  sharex=False, sharey=False, aspect=2.2, height=3)\n",
    "g.map_dataframe(sns.lineplot, x=\"hours_lag\", y=\"corr_highest_price_per_mwh\")\n",
    "g.add_legend()"
   ]
  },
  {
   "cell_type": "markdown",
   "id": "d1019d78-5bd2-4f0c-831b-997cf776d898",
   "metadata": {
    "jp-MarkdownHeadingCollapsed": true,
    "tags": []
   },
   "source": [
    "#### Plot of the Pearson correlation between consumption and lagged daily mean gas prices vs. hourly lag"
   ]
  },
  {
   "cell_type": "code",
   "execution_count": null,
   "id": "62008142-cae9-423e-b4d9-2960f6fd8fff",
   "metadata": {
    "tags": []
   },
   "outputs": [],
   "source": [
    "mask = corr_gas_df['is_consumption'] == 1\n",
    "g = sns.FacetGrid(corr_gas_df[mask], col = 'prediction_unit_id', col_wrap = 2, \n",
    "                  sharex=False, sharey=False, aspect=2.2, height=3)\n",
    "g.map_dataframe(sns.lineplot, x=\"hours_lag\", y=\"corr_mean_price_per_mwh\")\n",
    "g.add_legend()"
   ]
  },
  {
   "cell_type": "markdown",
   "id": "738007f6-ec5d-48ba-b099-e7cdaf5523a4",
   "metadata": {
    "jp-MarkdownHeadingCollapsed": true,
    "tags": []
   },
   "source": [
    "#### Plot of the Pearson correlation between production and lagged daily mean gas prices vs. hourly lag"
   ]
  },
  {
   "cell_type": "code",
   "execution_count": null,
   "id": "e81890dc-4a08-4861-a515-0114c9ac27da",
   "metadata": {
    "tags": []
   },
   "outputs": [],
   "source": [
    "mask = corr_gas_df['is_consumption'] == 0\n",
    "g = sns.FacetGrid(corr_gas_df[mask], col = 'prediction_unit_id', col_wrap = 2, \n",
    "                  sharex=False, sharey=False, aspect=2.2, height=3)\n",
    "g.map_dataframe(sns.lineplot, x=\"hours_lag\", y=\"corr_mean_price_per_mwh\")\n",
    "g.add_legend()"
   ]
  },
  {
   "cell_type": "markdown",
   "id": "ee83ed51-48de-414f-b052-abd81b5e4f39",
   "metadata": {
    "jp-MarkdownHeadingCollapsed": true,
    "tags": []
   },
   "source": [
    "#### Plot of the Pearson correlation between consumption and lagged daily variation gas prices vs. hourly lag"
   ]
  },
  {
   "cell_type": "code",
   "execution_count": null,
   "id": "7ca6f02d-e3a8-46e2-a9db-c558c3f9d3d2",
   "metadata": {
    "tags": []
   },
   "outputs": [],
   "source": [
    "mask = corr_gas_df['is_consumption'] == 1\n",
    "g = sns.FacetGrid(corr_gas_df[mask], col = 'prediction_unit_id', col_wrap = 2, \n",
    "                  sharex=False, sharey=False, aspect=2.2, height=3)\n",
    "g.map_dataframe(sns.lineplot, x=\"hours_lag\", y=\"corr_var_price_per_mwh\")\n",
    "g.add_legend()"
   ]
  },
  {
   "cell_type": "markdown",
   "id": "fc7c911d-f54d-43e6-8c49-2af3745d2acb",
   "metadata": {
    "jp-MarkdownHeadingCollapsed": true,
    "tags": []
   },
   "source": [
    "#### Plot of the Pearson correlation between production and lagged daily variation gas prices vs. hourly lag"
   ]
  },
  {
   "cell_type": "code",
   "execution_count": null,
   "id": "34b247cf-19e2-4d63-bfa7-205d1057290e",
   "metadata": {
    "tags": []
   },
   "outputs": [],
   "source": [
    "mask = corr_gas_df['is_consumption'] == 0\n",
    "g = sns.FacetGrid(corr_gas_df[mask], col = 'prediction_unit_id', col_wrap = 2, \n",
    "                  sharex=False, sharey=False, aspect=2.2, height=3)\n",
    "g.map_dataframe(sns.lineplot, x=\"hours_lag\", y=\"corr_var_price_per_mwh\")\n",
    "g.add_legend()"
   ]
  },
  {
   "cell_type": "code",
   "execution_count": null,
   "id": "bb4fa587-d734-405f-9bcf-32c636239600",
   "metadata": {},
   "outputs": [],
   "source": []
  }
 ],
 "metadata": {
  "kernelspec": {
   "display_name": "Python 3 (ipykernel)",
   "language": "python",
   "name": "python3"
  },
  "language_info": {
   "codemirror_mode": {
    "name": "ipython",
    "version": 3
   },
   "file_extension": ".py",
   "mimetype": "text/x-python",
   "name": "python",
   "nbconvert_exporter": "python",
   "pygments_lexer": "ipython3",
   "version": "3.11.3"
  }
 },
 "nbformat": 4,
 "nbformat_minor": 5
}
