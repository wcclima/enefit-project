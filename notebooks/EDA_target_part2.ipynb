{
 "cells": [
  {
   "cell_type": "markdown",
   "id": "fc0b0fa9-bcf8-43e7-be5b-95ecaa6f79f4",
   "metadata": {},
   "source": [
    "# **EDA for the target data - part 2**"
   ]
  },
  {
   "cell_type": "code",
   "execution_count": null,
   "id": "c5f5d828-83be-47ec-a677-e4543742b4ce",
   "metadata": {
    "tags": []
   },
   "outputs": [],
   "source": [
    "import numpy as np\n",
    "import pandas as pd\n",
    "\n",
    "import matplotlib.pyplot as plt\n",
    "import matplotlib.gridspec as gridspec\n",
    "import seaborn as sns\n",
    "\n",
    "sns.set() # set seaborn as default style"
   ]
  },
  {
   "cell_type": "code",
   "execution_count": null,
   "id": "dc6e1f9a-c931-4fd0-ba24-df2756e5888c",
   "metadata": {
    "tags": []
   },
   "outputs": [],
   "source": [
    "cons_df = pd.read_csv('../data/data_consumption.csv')\n",
    "prod_df = pd.read_csv('../data/data_production.csv')\n",
    "pred_id_df = pd.read_csv('../data/prediction_unit_id_dictionary.csv')"
   ]
  },
  {
   "cell_type": "code",
   "execution_count": null,
   "id": "a3d0e6bc-baf6-4b4a-8e8a-6fadf2fc51f4",
   "metadata": {
    "tags": []
   },
   "outputs": [],
   "source": [
    "pred_id_df.head()"
   ]
  },
  {
   "cell_type": "code",
   "execution_count": null,
   "id": "58569412-b06f-48bb-9242-c44b25c10edc",
   "metadata": {
    "tags": []
   },
   "outputs": [],
   "source": [
    "business_ids = pred_id_df[pred_id_df['is_business'] == 1]['prediction_unit_id'].tolist()\n",
    "private_ids = pred_id_df[pred_id_df['is_business'] == 0]['prediction_unit_id'].tolist()"
   ]
  },
  {
   "cell_type": "code",
   "execution_count": null,
   "id": "6537341d-8b5d-4129-9112-f43ae30dbabc",
   "metadata": {
    "tags": []
   },
   "outputs": [],
   "source": [
    "cons_df.head()"
   ]
  },
  {
   "cell_type": "code",
   "execution_count": null,
   "id": "4b59af63-ed51-42c8-b714-2d5d75e9e87d",
   "metadata": {
    "tags": []
   },
   "outputs": [],
   "source": [
    "prod_df.head()"
   ]
  },
  {
   "cell_type": "code",
   "execution_count": null,
   "id": "f5b91595-bb28-45ec-83cf-800af572d30b",
   "metadata": {
    "tags": []
   },
   "outputs": [],
   "source": [
    "sns.scatterplot(prod_df, x = 'eic_count', y = 'installed_capacity', hue = 'is_business')\n",
    "plt.show()"
   ]
  },
  {
   "cell_type": "code",
   "execution_count": null,
   "id": "33e28c70-6b31-41df-adf7-edbd977996a8",
   "metadata": {
    "tags": []
   },
   "outputs": [],
   "source": [
    "prod_df[prod_df['is_business']==1]['target'].corr(cons_df[cons_df['is_business']==1]['target'])"
   ]
  },
  {
   "cell_type": "code",
   "execution_count": null,
   "id": "5d2eaa26-b23e-425c-9247-02502013a359",
   "metadata": {
    "tags": []
   },
   "outputs": [],
   "source": [
    "prod_df[prod_df['is_business']==1]['log1p_target'].corr(cons_df[cons_df['is_business']==1]['log1p_target'])"
   ]
  },
  {
   "cell_type": "code",
   "execution_count": null,
   "id": "a4912023-d171-4c8d-a0b3-66ddee037c3f",
   "metadata": {
    "tags": []
   },
   "outputs": [],
   "source": [
    "prod_df[prod_df['is_business']==0]['target'].corr(cons_df[cons_df['is_business']==0]['target'])"
   ]
  },
  {
   "cell_type": "code",
   "execution_count": null,
   "id": "5199ed2a-001d-41c6-857e-d0316ad7df89",
   "metadata": {
    "tags": []
   },
   "outputs": [],
   "source": [
    "prod_df[prod_df['is_business']==0]['log1p_target'].corr(cons_df[cons_df['is_business']==0]['log1p_target'])"
   ]
  },
  {
   "cell_type": "code",
   "execution_count": null,
   "id": "9a0bb4b6-d0dc-48a5-bb2d-48c1d239836e",
   "metadata": {
    "tags": []
   },
   "outputs": [],
   "source": [
    "rel_cols = ['datetime', 'month', 'prediction_unit_id', 'county', 'is_business', 'product_type', 'eic_count']\n",
    "target_prod_cons_df = prod_df[rel_cols + ['target', 'log1p_target']].merge(cons_df[rel_cols + ['target', 'log1p_target']], \n",
    "                                                                           how = 'inner', on = rel_cols, suffixes = ('_prod', '_cons'))"
   ]
  },
  {
   "cell_type": "code",
   "execution_count": null,
   "id": "98214522-d967-4af1-b249-eff61c7665a6",
   "metadata": {
    "tags": []
   },
   "outputs": [],
   "source": [
    "target_prod_cons_df.head()"
   ]
  },
  {
   "cell_type": "code",
   "execution_count": null,
   "id": "77ed1951-f41d-435a-9aaf-df03492b13c5",
   "metadata": {
    "tags": []
   },
   "outputs": [],
   "source": [
    "target_prod_cons_df['target_cons_+_prod'] = target_prod_cons_df['target_cons'] + target_prod_cons_df['target_prod']"
   ]
  },
  {
   "cell_type": "code",
   "execution_count": null,
   "id": "36f3c1df-f0bc-4319-8680-b0576f30d6f4",
   "metadata": {
    "tags": []
   },
   "outputs": [],
   "source": [
    "target_prod_cons_df['datetime'] = pd.to_datetime(target_prod_cons_df['datetime'])"
   ]
  },
  {
   "cell_type": "code",
   "execution_count": null,
   "id": "ff5caf66-bcb5-45b6-8a5c-85687caadce2",
   "metadata": {
    "tags": []
   },
   "outputs": [],
   "source": [
    "target_prod_cons_df['target_cons_per_eic_count'] = target_prod_cons_df['target_cons']/target_prod_cons_df['eic_count']\n",
    "target_prod_cons_df['target_prod_per_eic_count'] = target_prod_cons_df['target_prod']/target_prod_cons_df['eic_count']\n",
    "target_prod_cons_df['target_cons_+_prod_per_eic_count'] = target_prod_cons_df['target_cons_+_prod']/target_prod_cons_df['eic_count']"
   ]
  },
  {
   "cell_type": "code",
   "execution_count": null,
   "id": "31b26d69-d11f-403a-880e-f37a6d1ac296",
   "metadata": {
    "tags": []
   },
   "outputs": [],
   "source": [
    "sns.scatterplot(target_prod_cons_df, x = 'log1p_target_cons', y = 'log1p_target_prod')"
   ]
  },
  {
   "cell_type": "code",
   "execution_count": null,
   "id": "a862bb75-ce6b-48a7-99cc-781b0ccb7fb4",
   "metadata": {
    "tags": []
   },
   "outputs": [],
   "source": [
    "for id_ in business_ids:\n",
    "    print(id_, prod_df[prod_df['prediction_unit_id']==id_]['target'].corr(cons_df[cons_df['prediction_unit_id']==id_]['target']))"
   ]
  },
  {
   "cell_type": "code",
   "execution_count": null,
   "id": "5c1257d5-8588-46d4-a2df-d9b7aeab0850",
   "metadata": {
    "tags": []
   },
   "outputs": [],
   "source": [
    "for id_ in private_ids:\n",
    "    print(id_, prod_df[prod_df['prediction_unit_id']==id_]['target'].corr(cons_df[cons_df['prediction_unit_id']==id_]['target']))"
   ]
  },
  {
   "cell_type": "code",
   "execution_count": null,
   "id": "0c43b499-c500-4bff-8d10-3e3f3136d6ef",
   "metadata": {
    "tags": []
   },
   "outputs": [],
   "source": [
    "fig, axes = plt.subplots(19, 2, figsize=(22,70), dpi=300)\n",
    "gs = gridspec.GridSpec(19,2)\n",
    "for i, id_ in enumerate(business_ids):\n",
    "    cond = target_prod_cons_df['prediction_unit_id'] == id_\n",
    "    sns.scatterplot(data = target_prod_cons_df[cond], x = 'target_prod', y = 'target_cons', hue = 'month', ax = axes[int(i/2),int(i%2)])\n",
    "    ax.set_title(f'unit_{id_}')\n",
    "    ax.set_xlabel('production')\n",
    "    ax.set_ylabel('consumption')\n",
    "    ax=axes[int(i/2),int(i%2)]\n",
    "    plt.tight_layout()"
   ]
  },
  {
   "cell_type": "code",
   "execution_count": null,
   "id": "c063e15a-8028-475e-8229-3297ad301c55",
   "metadata": {
    "tags": []
   },
   "outputs": [],
   "source": [
    "cond = target_prod_cons_df['is_business'] == 1\n",
    "g = sns.FacetGrid(target_prod_cons_df[cond], hue = 'month', col = 'prediction_unit_id', col_wrap = 2, \n",
    "                  sharex=False, sharey=False, aspect=2.2, height=3)\n",
    "g.map_dataframe(sns.scatterplot, x=\"target_prod\", y=\"target_cons\", ax = axes)\n",
    "axes = g.axes.flatten()\n",
    "for i, ax in enumerate(axes):\n",
    "    ax.axhline(0)"
   ]
  },
  {
   "cell_type": "code",
   "execution_count": null,
   "id": "6a65cbbf-2a7f-4b27-9c74-76da71850cf7",
   "metadata": {
    "tags": []
   },
   "outputs": [],
   "source": [
    "cond = target_prod_cons_df['is_business'] == 0\n",
    "g = sns.FacetGrid(target_prod_cons_df[cond], hue = 'month', col = 'prediction_unit_id', col_wrap = 2, \n",
    "                  sharex=False, sharey=False, aspect=2.2, height=3)\n",
    "g.map_dataframe(sns.scatterplot, x=\"target_prod\", y=\"target_cons\", ax = axes)\n",
    "g.add_legend()"
   ]
  },
  {
   "cell_type": "code",
   "execution_count": null,
   "id": "1db8e9eb-4b12-421b-abfc-78ae4a1613cc",
   "metadata": {
    "tags": []
   },
   "outputs": [],
   "source": [
    "cond = target_prod_cons_df['is_business'] == 1\n",
    "g = sns.FacetGrid(target_prod_cons_df[cond], col = 'prediction_unit_id', col_wrap = 2, \n",
    "                  sharex=False, sharey=False, aspect=2.2, height=3)\n",
    "g.map_dataframe(sns.lineplot, x=\"datetime\", y=\"target_cons_+_prod\", ax = axes)\n",
    "g.add_legend()"
   ]
  },
  {
   "cell_type": "code",
   "execution_count": null,
   "id": "280816aa-1ac4-4b4e-bc64-7a644f0ccac1",
   "metadata": {
    "tags": []
   },
   "outputs": [],
   "source": [
    "cond = target_prod_cons_df['is_business'] == 1\n",
    "g = sns.FacetGrid(target_prod_cons_df[cond], col = 'prediction_unit_id', col_wrap = 2, \n",
    "                  sharex=False, sharey=False, aspect=2.2, height=3)\n",
    "g.map_dataframe(sns.lineplot, x=\"datetime\", y=\"target_cons_+_prod_per_eic_count\", ax = axes)\n",
    "g.add_legend()"
   ]
  },
  {
   "cell_type": "code",
   "execution_count": null,
   "id": "0b7e29a3-873f-41be-a9bf-0a1d97e77659",
   "metadata": {
    "tags": []
   },
   "outputs": [],
   "source": [
    "sns.histplot(np.log1p(target_prod_cons_df[target_prod_cons_df['is_business']==1]['target_cons_+_prod_per_eic_count']))\n",
    "sns.histplot(np.log1p(target_prod_cons_df[target_prod_cons_df['is_business']==1]['target_cons']))"
   ]
  },
  {
   "cell_type": "code",
   "execution_count": null,
   "id": "00b7fe80-0841-4d44-a08a-ac1a4b27fdbd",
   "metadata": {
    "tags": []
   },
   "outputs": [],
   "source": [
    "sns.histplot(np.log1p(target_prod_cons_df[target_prod_cons_df['is_business']==0]['target_cons_+_prod_per_eic_count']))\n",
    "sns.histplot(np.log1p(target_prod_cons_df[target_prod_cons_df['is_business']==0]['target_cons_per_eic_count']))"
   ]
  },
  {
   "cell_type": "code",
   "execution_count": null,
   "id": "d2ca5d14-92c5-4e0a-bbfd-677f9f1d39d1",
   "metadata": {
    "tags": []
   },
   "outputs": [],
   "source": [
    "cond = target_prod_cons_df['is_business'] == 0\n",
    "g = sns.FacetGrid(target_prod_cons_df[cond], col = 'prediction_unit_id', col_wrap = 2, \n",
    "                  sharex=False, sharey=False, aspect=2.2, height=3)\n",
    "g.map_dataframe(sns.lineplot, x=\"datetime\", y=\"target_per_eic_count\", ax = axes)\n",
    "g.add_legend()"
   ]
  },
  {
   "cell_type": "code",
   "execution_count": null,
   "id": "91957fd5-4f58-493c-a76e-9826e78dd762",
   "metadata": {
    "tags": []
   },
   "outputs": [],
   "source": [
    "sns.lineplot(prod_df[prod_df['prediction_unit_id'] == 10]['target'] + cons_df[cons_df['prediction_unit_id'] == 10]['target'])\n",
    "sns.lineplot(prod_df[prod_df['prediction_unit_id'] == 10]['target'])\n",
    "sns.lineplot(cons_df[cons_df['prediction_unit_id'] == 10]['target'])"
   ]
  },
  {
   "cell_type": "code",
   "execution_count": null,
   "id": "ea5c4d3f-b96f-47d3-8fb5-6afa4915eff7",
   "metadata": {
    "tags": []
   },
   "outputs": [],
   "source": [
    "sns.lineplot(cons_df[cons_df['prediction_unit_id'] == 10]['target'] - prod_df[prod_df['prediction_unit_id'] == 10]['target'])"
   ]
  },
  {
   "cell_type": "code",
   "execution_count": null,
   "id": "de5a990f-4ff1-4b47-8c48-0e8a074eddc2",
   "metadata": {
    "tags": []
   },
   "outputs": [],
   "source": [
    "for county in range(16):\n",
    "    ax = sns.histplot(pred_id_df[(pred_id_df['county']==county)&(pred_id_df['is_business']==0)], x = 'product_type', discrete = True, shrink = 0.1)\n",
    "    ax.set_xlim(-1,4)\n",
    "    ax.set_ylim(0,2)\n",
    "    ax.set_title(f'County {county}')\n",
    "    plt.show()"
   ]
  },
  {
   "cell_type": "code",
   "execution_count": null,
   "id": "756d83dc-0054-49f3-ba2a-3b9eb2c533aa",
   "metadata": {
    "tags": []
   },
   "outputs": [],
   "source": [
    "sns.histplot(np.log1p(cons_df[cons_df['is_business']==1]['target_per_eic_count']))\n",
    "sns.histplot(np.log1p(cons_df[cons_df['is_business']==0]['target_per_eic_count']))"
   ]
  },
  {
   "cell_type": "code",
   "execution_count": null,
   "id": "c31ddb68-9b8e-44d2-aeee-abd412e11c57",
   "metadata": {
    "tags": []
   },
   "outputs": [],
   "source": [
    "prod_df[prod_df['is_business']==1]['target'].corr(cons_df[cons_df['is_business']==1]['target'])"
   ]
  },
  {
   "cell_type": "code",
   "execution_count": null,
   "id": "5d39b057-62aa-4f2d-b53e-230c17b461d8",
   "metadata": {
    "tags": []
   },
   "outputs": [],
   "source": [
    "for contract in range(4):\n",
    "    aux_series_buss = np.log1p(cons_df[(cons_df['is_business']==1)&(cons_df['product_type']==contract)]['target_per_eic_count'])\n",
    "    aux_series_hous = np.log1p(cons_df[(cons_df['is_business']==0)&(cons_df['product_type']==contract)]['target_per_eic_count'])\n",
    "    ax1 = sns.histplot(aux_series_buss, label = f'Contract {contract}', kde = True)\n",
    "    ax2 = sns.histplot(aux_series_hous, label = f'Contract {contract}', kde = True)\n",
    "    ax1.set_xlim(0,6)\n",
    "    ax2.set_xlim(0,6)\n",
    "    ax1.set_ylim(0,5000)\n",
    "    ax2.set_ylim(0,5000)\n",
    "    plt.show()\n",
    "    print('skweness:', aux_series.skew())\n",
    "    print('median:', aux_series.median())"
   ]
  },
  {
   "cell_type": "code",
   "execution_count": null,
   "id": "e0b10597-804f-4deb-877e-cb6610b2b993",
   "metadata": {
    "tags": []
   },
   "outputs": [],
   "source": [
    "aux_series_buss02 = np.log1p(cons_df[(cons_df['is_business']==1)&(cons_df['product_type'].isin([0,2]))]['target_per_eic_count'])\n",
    "aux_series_buss13 = np.log1p(cons_df[(cons_df['is_business']==1)&(cons_df['product_type'].isin([1,3]))]['target_per_eic_count'])\n",
    "aux_series_hous = np.log1p(cons_df[(cons_df['is_business']==0)&(cons_df['product_type']==contract)]['target_per_eic_count'])\n",
    "ax02 = sns.histplot(aux_series_buss02, label = f'Contract {contract}', kde = True)\n",
    "ax13 = sns.histplot(aux_series_buss13, label = f'Contract {contract}', kde = True)\n",
    "ax02.set_xlim(0,6)\n",
    "ax13.set_xlim(0,6)\n",
    "ax02.set_ylim(0,7000)\n",
    "ax13.set_ylim(0,7000)\n",
    "plt.show()"
   ]
  },
  {
   "cell_type": "code",
   "execution_count": null,
   "id": "d458ed43-1281-4e0b-8d6a-5d24efbadf82",
   "metadata": {
    "tags": []
   },
   "outputs": [],
   "source": [
    "for county in range(16):\n",
    "    ax = sns.histplot(cons_df[(cons_df['is_business']==1)&(cons_df['county']==county)], x = 'log1p_target', hue = 'product_type')\n",
    "    ax.set_xlim(0,11) \n",
    "    ax.set_ylim(0, 6000)\n",
    "    ax.set_title(f'County {county}')\n",
    "    plt.show()"
   ]
  },
  {
   "cell_type": "code",
   "execution_count": null,
   "id": "ee0ad55a-1c3e-4a63-af65-333705962191",
   "metadata": {
    "tags": []
   },
   "outputs": [],
   "source": [
    "for county in range(16):\n",
    "    ax = sns.histplot(cons_df[(cons_df['is_business']==1)&(cons_df['county']==county)], x = 'log1p_target_per_eic_count', hue = 'product_type')\n",
    "    ax.set_xlim(0,5) \n",
    "    ax.set_ylim(0, 2500)\n",
    "    ax.set_title(f'County {county}')\n",
    "    plt.show()"
   ]
  },
  {
   "cell_type": "code",
   "execution_count": null,
   "id": "6a49f2bd-03ac-42bd-8aa9-ce47df70b04a",
   "metadata": {
    "tags": []
   },
   "outputs": [],
   "source": [
    "for county in range(16):\n",
    "    ax = sns.histplot(np.log1p(cons_df[(cons_df['is_business']==1)&(cons_df['county']==county)]['target_per_eic_count']))\n",
    "    ax.set_xlim(0,11) \n",
    "    ax.set_ylim(0, 5000)\n",
    "    ax.set_title(f'County {county}')\n",
    "    plt.show()"
   ]
  },
  {
   "cell_type": "code",
   "execution_count": null,
   "id": "1e785e5c-1ff7-446f-aaa1-3c66bd63a52b",
   "metadata": {
    "tags": []
   },
   "outputs": [],
   "source": [
    "client_df = pd.read_csv('../data/client.csv')\n",
    "client_df['date'] = pd.to_datetime(client_df['date'])\n",
    "client_df.head()"
   ]
  },
  {
   "cell_type": "code",
   "execution_count": null,
   "id": "08cd5d2a-e7db-4c50-9d35-151ff70f9af1",
   "metadata": {
    "tags": []
   },
   "outputs": [],
   "source": [
    "for contract in range()\n",
    "sns.lineplot(client_df[(client_df['is_business']==1)].groupby('date')['eic_count'].sum())"
   ]
  },
  {
   "cell_type": "code",
   "execution_count": null,
   "id": "34c8d10d-79a2-4c03-9e45-e7abf23b308f",
   "metadata": {},
   "outputs": [],
   "source": []
  },
  {
   "cell_type": "code",
   "execution_count": null,
   "id": "f95e2429-846b-410f-ad23-ca6174254ada",
   "metadata": {
    "tags": []
   },
   "outputs": [],
   "source": [
    "for id_ in pred_id_df[pred_id_df['is_business'] == 1]['prediction_unit_id']:\n",
    "    plt.title(f'unit_{id_}')\n",
    "    ax = sns.histplot(np.log1p(cons_df[cons_df['prediction_unit_id'] == id_]['target']))\n",
    "    ax.set_xlim(0,10)\n",
    "    plt.show()"
   ]
  },
  {
   "cell_type": "code",
   "execution_count": null,
   "id": "8e0dd8f0-8b06-4706-b982-b4ad9644ec4c",
   "metadata": {
    "tags": []
   },
   "outputs": [],
   "source": [
    "sns.histplot(np.log1p(cons_df[(cons_df['is_business']==1)&(cons_df['prediction_unit_id'].isin([5,10,48]))]['target']))\n",
    "sns.histplot(np.log1p(cons_df[(cons_df['is_business']==1)&(~cons_df['prediction_unit_id'].isin([5, 10,48]))]['target']))"
   ]
  },
  {
   "cell_type": "code",
   "execution_count": null,
   "id": "e18e785c-167e-48e5-a723-d399f7ad4722",
   "metadata": {
    "tags": []
   },
   "outputs": [],
   "source": [
    "sns.histplot(np.log1p(cons_df[(cons_df['is_business']==1)&(cons_df['county'].isin([0,2,11]))]['target']))\n",
    "sns.histplot(np.log1p(cons_df[(cons_df['is_business']==1)&(~cons_df['county'].isin([0,2,11]))]['target']))"
   ]
  },
  {
   "cell_type": "code",
   "execution_count": null,
   "id": "ad00c109-5237-4b50-9aad-934d3ce160ac",
   "metadata": {
    "tags": []
   },
   "outputs": [],
   "source": [
    "np.log1p(cons_df[(cons_df['is_business']==1)&(cons_df['prediction_unit_id'].isin([5,10,48]))]['target']).median()"
   ]
  },
  {
   "cell_type": "code",
   "execution_count": null,
   "id": "2c83061c-af02-4c52-a8e2-181c290ab8b6",
   "metadata": {
    "tags": []
   },
   "outputs": [],
   "source": [
    "sns.histplot(np.log1p(cons_df[(cons_df['is_business']==1)&(cons_df['prediction_unit_id'].isin([5,48]))]['target_per_eic_count']))\n",
    "sns.histplot(np.log1p(cons_df[(cons_df['is_business']==1)&(~cons_df['prediction_unit_id'].isin([5,48]))]['target_per_eic_count']))"
   ]
  },
  {
   "cell_type": "code",
   "execution_count": null,
   "id": "c6b3c429-1eee-4cb2-b380-a31da9925100",
   "metadata": {
    "tags": []
   },
   "outputs": [],
   "source": [
    "for id_ in pred_id_df[pred_id_df['is_business'] == 1]['prediction_unit_id']:\n",
    "    plt.title(f'unit_{id_}')\n",
    "    ax = sns.histplot(np.log1p(cons_df[cons_df['prediction_unit_id'] == id_]['target_per_eic_count']))\n",
    "    ax.set_xlim(0,6)\n",
    "    plt.show()"
   ]
  },
  {
   "cell_type": "code",
   "execution_count": null,
   "id": "a9d1ec60-d064-443b-b965-98914e4e2c13",
   "metadata": {},
   "outputs": [],
   "source": [
    "plt.figure(figsize=(22,10),dpi=300)\n",
    "sns.scatterplot(cons_df, x = 'eic_count', y = 'target', hue = 'is_business')\n",
    "plt.show()"
   ]
  },
  {
   "cell_type": "code",
   "execution_count": null,
   "id": "65f47d1f-cad2-4a02-a106-541f696fe8d7",
   "metadata": {},
   "outputs": [],
   "source": [
    "plt.figure(figsize=(22,10),dpi=300)\n",
    "sns.scatterplot(cons_df[(cons_df['is_business']==1)&(cons_df['county'].isin([0,2,11]))], x = 'eic_count', y = 'target', hue = 'county')\n",
    "plt.show()"
   ]
  },
  {
   "cell_type": "code",
   "execution_count": null,
   "id": "ca27c6f0-e469-4672-a40e-b51f5298aefe",
   "metadata": {
    "tags": []
   },
   "outputs": [],
   "source": [
    "pd.unique(cons_df['county'])"
   ]
  },
  {
   "cell_type": "code",
   "execution_count": null,
   "id": "dcd05822-b750-498f-8f90-d223d0ddc519",
   "metadata": {
    "tags": []
   },
   "outputs": [],
   "source": [
    "prod_df = pd.read_csv('../data/data_production.csv')"
   ]
  },
  {
   "cell_type": "code",
   "execution_count": null,
   "id": "eac025ce-53d2-44a0-866d-c40ea264ad60",
   "metadata": {
    "tags": []
   },
   "outputs": [],
   "source": [
    "plt.figure(figsize=(22,10),dpi=300)\n",
    "sns.scatterplot(cons_df['target'] - prod_df['target'])\n",
    "plt.show()"
   ]
  },
  {
   "cell_type": "code",
   "execution_count": null,
   "id": "f97cf54d-0dfd-4200-9cf2-d3bad388c9b1",
   "metadata": {
    "tags": []
   },
   "outputs": [],
   "source": [
    "plt.figure(figsize=(22,10),dpi=300)\n",
    "sns.histplot(np.log1p(cons_df['target'] - prod_df['target']))\n",
    "plt.show()"
   ]
  },
  {
   "cell_type": "code",
   "execution_count": null,
   "id": "22212330-f34d-4932-a78b-e597dafe9711",
   "metadata": {
    "tags": []
   },
   "outputs": [],
   "source": [
    "plt.figure(figsize=(22,10),dpi=300)\n",
    "sns.scatterplot(cons_df['target'] + prod_df['target'])\n",
    "plt.show()"
   ]
  },
  {
   "cell_type": "code",
   "execution_count": null,
   "id": "5bae692e-4306-42b1-b218-1461f4d6ef96",
   "metadata": {
    "tags": []
   },
   "outputs": [],
   "source": [
    "plt.figure(figsize=(22,10),dpi=300)\n",
    "sns.histplot(np.log1p(cons_df['target'] + prod_df['target']))\n",
    "plt.show()"
   ]
  },
  {
   "cell_type": "code",
   "execution_count": null,
   "id": "3617c093-61ee-4136-a626-ebdf796d0a36",
   "metadata": {},
   "outputs": [],
   "source": []
  }
 ],
 "metadata": {
  "kernelspec": {
   "display_name": "Python 3 (ipykernel)",
   "language": "python",
   "name": "python3"
  },
  "language_info": {
   "codemirror_mode": {
    "name": "ipython",
    "version": 3
   },
   "file_extension": ".py",
   "mimetype": "text/x-python",
   "name": "python",
   "nbconvert_exporter": "python",
   "pygments_lexer": "ipython3",
   "version": "3.11.3"
  }
 },
 "nbformat": 4,
 "nbformat_minor": 5
}
