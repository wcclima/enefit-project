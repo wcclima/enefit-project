{
 "cells": [
  {
   "cell_type": "markdown",
   "id": "64191a3f-fa22-4ad0-b166-143ad4c5b615",
   "metadata": {
    "tags": []
   },
   "source": [
    "# **EDA for the client.csv dataset**"
   ]
  },
  {
   "cell_type": "markdown",
   "id": "5006d8ab-859b-45c3-a591-2b91811d4a75",
   "metadata": {},
   "source": [
    "## 0 - Setting up "
   ]
  },
  {
   "cell_type": "markdown",
   "id": "0d8da6bf-085b-44e9-adf3-e0cb0cb71d03",
   "metadata": {},
   "source": [
    "### 0.1 - Libraries"
   ]
  },
  {
   "cell_type": "code",
   "execution_count": null,
   "id": "f506558a-091f-4927-90a3-8e34a159c971",
   "metadata": {},
   "outputs": [],
   "source": [
    "import warnings\n",
    "\n",
    "warnings.filterwarnings(\"ignore\")\n",
    "\n",
    "import pandas as pd\n",
    "import numpy as np\n",
    "import matplotlib.pyplot as plt\n",
    "import plotly.express as px\n",
    "import seaborn as sns\n",
    "\n",
    "import matplotlib.pyplot as plt\n",
    "from IPython.display import display, IFrame\n",
    "\n",
    "\n",
    "from matplotlib.ticker import PercentFormatter\n",
    "plt.rcParams.update({ \"figure.figsize\" : (8, 5),\"axes.facecolor\" : \"white\", \"axes.edgecolor\":  \"black\"})\n",
    "plt.rcParams[\"figure.facecolor\"]= \"w\"\n",
    "pd.plotting.register_matplotlib_converters()\n",
    "pd.set_option('display.float_format', lambda x: '%.3f' % x)\n",
    "\n",
    "\n",
    "# Set the style of seaborn\n",
    "sns.set(style=\"whitegrid\")"
   ]
  },
  {
   "cell_type": "markdown",
   "id": "f08db7be-1b41-4cbf-b78e-79c80bf1b9e0",
   "metadata": {},
   "source": [
    "## 1 - Loading the data"
   ]
  },
  {
   "cell_type": "code",
   "execution_count": null,
   "id": "9f69175b-97b6-4885-8a41-697907541db3",
   "metadata": {
    "tags": []
   },
   "outputs": [],
   "source": [
    "# Reading my csv file\n",
    "client_df = pd.read_csv('../data/client.csv')"
   ]
  },
  {
   "cell_type": "markdown",
   "id": "82a12ebb-8c75-457b-b15b-4d038fbafc2b",
   "metadata": {},
   "source": [
    "## 2 - Client data"
   ]
  },
  {
   "cell_type": "markdown",
   "id": "ac86ab70-63f5-4986-913e-29727e8adcc0",
   "metadata": {
    "tags": []
   },
   "source": [
    "### 2.1 - Data documentation\n",
    "\n",
    "- `product_type`\n",
    "- `county` - An ID code for the county. See county_id_to_name_map.json for the mapping of ID codes to county names.\n",
    "- `eic_count` - The aggregated number of consumption points (EICs - European Identifier Code).\n",
    "- `installed_capacity` - Installed photovoltaic solar panel capacity in kilowatts.\n",
    "- `is_business` - Boolean for whether or not the prosumer is a business.\n",
    "- `date`\n",
    "- `data_block_id`"
   ]
  },
  {
   "cell_type": "code",
   "execution_count": null,
   "id": "a6a5a94d-95ff-4e51-ac12-e794f329f552",
   "metadata": {},
   "outputs": [],
   "source": [
    "client_df.head()"
   ]
  },
  {
   "cell_type": "code",
   "execution_count": null,
   "id": "c9123097-88a1-4a17-b4c2-07fa557a601a",
   "metadata": {
    "tags": []
   },
   "outputs": [],
   "source": [
    "# Converting the date to datetime\n",
    "client_df['date'] = pd.to_datetime(client_df['date'], format='%Y-%m-%d')"
   ]
  },
  {
   "cell_type": "markdown",
   "id": "be106c9f-5f26-48e8-9394-ef9e2157600f",
   "metadata": {},
   "source": [
    "### 2.2 - Checking for missing values and duplicates"
   ]
  },
  {
   "cell_type": "code",
   "execution_count": null,
   "id": "2cbb880c-ebb9-48c8-8002-6b34cd82e427",
   "metadata": {
    "tags": []
   },
   "outputs": [],
   "source": [
    "client_df.info(show_counts = True)"
   ]
  },
  {
   "cell_type": "code",
   "execution_count": null,
   "id": "41046028-dcae-4ffe-a3e0-93fc015c421a",
   "metadata": {
    "tags": []
   },
   "outputs": [],
   "source": [
    "# Check for missing values in each column\n",
    "client_df.isnull().sum()"
   ]
  },
  {
   "cell_type": "markdown",
   "id": "c66af838-0759-4a99-a9d8-dda2f1f2e711",
   "metadata": {},
   "source": [
    "From the output, we can see that there are no missing values in the dataset."
   ]
  },
  {
   "cell_type": "code",
   "execution_count": null,
   "id": "c865f8f8-8f47-4544-8ddd-ab798c48a0b5",
   "metadata": {
    "tags": []
   },
   "outputs": [],
   "source": [
    "# Check for duplicate rows\n",
    "client_df.duplicated().sum()"
   ]
  },
  {
   "cell_type": "markdown",
   "id": "f2255ffc-ee54-4fb2-a874-701e86811afa",
   "metadata": {},
   "source": [
    "Now, the data is cleaned from missing values and duplicates."
   ]
  },
  {
   "cell_type": "markdown",
   "id": "68c49b1f-5366-40ac-a480-8bb094efc932",
   "metadata": {},
   "source": [
    "### 2.3 - Data distribution"
   ]
  },
  {
   "cell_type": "code",
   "execution_count": null,
   "id": "425cd029-4158-4e14-a29d-0685049d8840",
   "metadata": {
    "tags": []
   },
   "outputs": [],
   "source": [
    "# Create a histogram for each column to see the distribution of values\n",
    "client_df.hist(bins=30, figsize=(20,15))\n",
    "plt.show()\n",
    "# This will create a histogram for each column in the dataframe and save it as 'output/histograms-87f83f.png'."
   ]
  },
  {
   "cell_type": "markdown",
   "id": "cc9f4621-5f1f-4061-8d72-2eb2eed1797d",
   "metadata": {},
   "source": [
    "### 2.4 - Correlations"
   ]
  },
  {
   "cell_type": "code",
   "execution_count": null,
   "id": "31782d7f-6c36-4dc2-99f4-83e0be5a77a0",
   "metadata": {
    "tags": []
   },
   "outputs": [],
   "source": [
    "# Create a correlation matrix to see the relationship between variables\n",
    "corr_matrix = client_df.corr()\n",
    "plt.figure(figsize=(10,8))\n",
    "sns.heatmap(corr_matrix, annot=True, cmap='coolwarm')\n",
    "plt.show()\n",
    "# This will create a heatmap of the correlation matrix and save it as 'output/correlation_matrix-87f83f.png'.\n"
   ]
  },
  {
   "cell_type": "code",
   "execution_count": null,
   "id": "39cdce4a-3508-41ab-9ba1-6b3fccebc7f3",
   "metadata": {
    "tags": []
   },
   "outputs": [],
   "source": [
    "# Relationship between 'eic_count' and 'installed_capacity'\n",
    "\n",
    "plt.figure(figsize=(10,8))\n",
    "sns.scatterplot(x='eic_count', y='installed_capacity', hue='is_business', data=client_df)\n",
    "plt.show()"
   ]
  },
  {
   "cell_type": "code",
   "execution_count": null,
   "id": "e19aded2-236b-4acd-b09e-9377e3f1c8e7",
   "metadata": {
    "tags": []
   },
   "outputs": [],
   "source": [
    "# Relationship between 'eic_count' and 'installed_capacity' for business with different contracts\n",
    "\n",
    "cond = client_df['is_business'] == 1\n",
    "\n",
    "plt.figure(figsize=(10,8))\n",
    "sns.scatterplot(x='eic_count', y='installed_capacity', hue='product_type', data=client_df[cond])\n",
    "plt.show()"
   ]
  },
  {
   "cell_type": "code",
   "execution_count": null,
   "id": "70461441-287c-4e60-b493-ed4c23b8b794",
   "metadata": {
    "tags": []
   },
   "outputs": [],
   "source": [
    "# Relationship between 'eic_count' and 'installed_capacity' for private with different contracts\n",
    "\n",
    "cond = client_df['is_business'] == 0\n",
    "\n",
    "plt.figure(figsize=(10,8))\n",
    "sns.scatterplot(x='eic_count', y='installed_capacity', hue='product_type', data=client_df[cond])\n",
    "plt.show()"
   ]
  },
  {
   "cell_type": "code",
   "execution_count": null,
   "id": "71d5058d-e22b-4feb-9abb-996726f4a38d",
   "metadata": {
    "tags": []
   },
   "outputs": [],
   "source": [
    "# Filter data where 'county' is equal to 9, 'is_business' is equal to 0, and 'product_type' is equal to 1\n",
    "client_df_filtered_0 = client_df[(client_df['county'] == 9) & (client_df['is_business'] == 0) & (client_df['product_type'] == 1)]\n",
    "\n",
    "# Filter data where 'county' is equal to 9, 'is_business' is equal to 1, and 'product_type' is equal to 1\n",
    "client_df_filtered_1 = client_df[(client_df['county'] == 9) & (client_df['is_business'] == 1) & (client_df['product_type'] == 1)]\n",
    "\n",
    "# Plotting\n",
    "plt.figure(figsize=(10, 6))\n",
    "\n",
    "# Plot for is_business=0\n",
    "plt.plot(client_df_filtered_0['date'], client_df_filtered_0['eic_count'], label='EIC Count (is_business=0)', color='blue')\n",
    "plt.plot(client_df_filtered_0['date'], client_df_filtered_0['installed_capacity'], label='Installed Capacity (is_business=0)', color='orange')\n",
    "\n",
    "# Plot for is_business=1\n",
    "plt.plot(client_df_filtered_1['date'], client_df_filtered_1['eic_count'], label='EIC Count (is_business=1)', color='green')\n",
    "plt.plot(client_df_filtered_1['date'], client_df_filtered_1['installed_capacity'], label='Installed Capacity (is_business=1)', color='red')\n",
    "\n",
    "# Adding labels and title\n",
    "plt.xlabel('Date')\n",
    "plt.ylabel('Count/Capacity')\n",
    "plt.title('EIC Count and Installed Capacity Over Time (County 9, product_type=1)')\n",
    "plt.legend()\n",
    "\n",
    "# Show the plot\n",
    "plt.show()"
   ]
  },
  {
   "cell_type": "code",
   "execution_count": null,
   "id": "692d5ca7-316c-4d0c-a9c3-f78f503ecf91",
   "metadata": {
    "tags": []
   },
   "outputs": [],
   "source": [
    "# Selecting specified columns\n",
    "selected_columns = ['product_type', 'county', 'eic_count', 'installed_capacity', 'is_business', 'data_block_id']\n",
    "df_selected = df[selected_columns]\n",
    "\n",
    "# Creating pair plot\n",
    "sns.pairplot(client_df_selected, hue='is_business', markers=['o', 's'], palette={0: 'blue', 1: 'orange'})\n",
    "\n",
    "# Show the plot\n",
    "plt.show()"
   ]
  },
  {
   "cell_type": "code",
   "execution_count": null,
   "id": "de408843-9bcd-403f-b1fb-741dbece9e48",
   "metadata": {},
   "outputs": [],
   "source": [
    "df['capacity_per_eic'] = df['installed_capacity'] / df['eic_count']\n",
    "df"
   ]
  },
  {
   "cell_type": "code",
   "execution_count": null,
   "id": "7732b520-d686-4112-b07b-c10193cf9241",
   "metadata": {
    "tags": []
   },
   "outputs": [],
   "source": [
    "plt.hist(df['capacity_per_eic'], bins=20, color='blue', edgecolor='black')\n",
    "plt.title('Histogram of capacity_per_eic')\n",
    "plt.xlabel('Values in capacity_per_eic')\n",
    "plt.ylabel('Frequency')\n",
    "plt.show()"
   ]
  },
  {
   "cell_type": "code",
   "execution_count": null,
   "id": "b60879c9-2461-4053-b074-58744d62fc42",
   "metadata": {
    "tags": []
   },
   "outputs": [],
   "source": [
    "plt.scatter(df['eic_count'], df['capacity_per_eic'], color='green', alpha=0.5)\n",
    "plt.title('Scatter Plot of capacity_per_eic vs. eic_count')\n",
    "plt.xlabel('eic_count')\n",
    "plt.ylabel('capacity_per_eic')\n",
    "plt.show()"
   ]
  }
 ],
 "metadata": {
  "kernelspec": {
   "display_name": "Python 3 (ipykernel)",
   "language": "python",
   "name": "python3"
  },
  "language_info": {
   "codemirror_mode": {
    "name": "ipython",
    "version": 3
   },
   "file_extension": ".py",
   "mimetype": "text/x-python",
   "name": "python",
   "nbconvert_exporter": "python",
   "pygments_lexer": "ipython3",
   "version": "3.11.3"
  }
 },
 "nbformat": 4,
 "nbformat_minor": 5
}
