{
 "cells": [
  {
   "cell_type": "markdown",
   "id": "649edd05-f69c-4532-a6b7-9d6a85ce57d1",
   "metadata": {
    "tags": []
   },
   "source": [
    "# **Model for the Business Energy Consumption**\n",
    "\n",
    "The aim of this notebook is to create a baseline model for the deterministc part of the solar energy production time series, treated here as a cross-sectional problem. Furthermore, we will de-trend and de-seasonal the data."
   ]
  },
  {
   "cell_type": "markdown",
   "id": "d0080676-fb05-43c0-8366-9a647f2a1592",
   "metadata": {
    "tags": []
   },
   "source": [
    "## 0 - Set up"
   ]
  },
  {
   "cell_type": "markdown",
   "id": "8f4fc8c2-f5b8-4956-9a4e-752c4bd9a407",
   "metadata": {
    "tags": []
   },
   "source": [
    "### 0.1 - Loading relevant packages"
   ]
  },
  {
   "cell_type": "code",
   "execution_count": 1,
   "id": "a52871f4-84e8-4042-8620-5be57b75bc05",
   "metadata": {},
   "outputs": [],
   "source": [
    "#for handling the data\n",
    "import numpy as np\n",
    "import pandas as pd\n",
    "\n",
    "#for visualisation\n",
    "import matplotlib.pyplot as plt\n",
    "import seaborn as sns\n",
    "\n",
    "sns.set() # set seaborn as default style\n",
    "\n",
    "\n",
    "#for the modelling\n",
    "from catboost import CatBoostRegressor, Pool\n",
    "\n",
    "#for hyperparameter tunning\n",
    "import optuna\n",
    "\n",
    "#for model evaluation\n",
    "from sklearn.metrics import mean_absolute_error, root_mean_squared_error, r2_score, mean_absolute_percentage_error, make_scorer\n",
    "\n",
    "\n",
    "#model serilasation\n",
    "import pickle as pk\n",
    "\n",
    "#miscellania\n",
    "import json\n",
    "import warnings\n",
    "warnings.filterwarnings(\"ignore\")\n",
    "\n",
    "RSEED = 42"
   ]
  },
  {
   "cell_type": "markdown",
   "id": "93ee0819-f844-4509-8050-249f59d4b90f",
   "metadata": {
    "tags": []
   },
   "source": [
    "### 0.2 - User-defined functions"
   ]
  },
  {
   "cell_type": "markdown",
   "id": "347405b7-d719-40f2-b6fb-73e8a1a334e3",
   "metadata": {
    "tags": []
   },
   "source": [
    "#### Optuna objective function"
   ]
  },
  {
   "cell_type": "code",
   "execution_count": 2,
   "id": "4f9af36e-5a75-4792-aaef-88660a11f703",
   "metadata": {
    "tags": []
   },
   "outputs": [],
   "source": [
    "def objective(trial):\n",
    "    \n",
    "    fixed_ignored_feats = ['shortwave_radiation', 'eic_count', \"is_business\",\n",
    "                           \"cloudcover_high\", \"snowfall\", \"rain\", 'highest_price_per_mwh', \n",
    "                           'lowest_price_per_mwh', 'euros_per_mwh', 'prediction_unit_id']\n",
    "    \n",
    "    ignored_feats = [fixed_ignored_feats,\n",
    "                     fixed_ignored_feats + [\"is_holiday\", \"is_school_holiday\"],\n",
    "                     fixed_ignored_feats + [\"solar_azimuth\", \"solar_altitude\"], \n",
    "                     fixed_ignored_feats + [\"windspeed_10m\", \"winddirection_10m\"],\n",
    "                     fixed_ignored_feats + [\"windspeed_10m\", \"winddirection_10m\", \"is_holiday\", \"is_school_holiday\"]\n",
    "                    ]    \n",
    "    \n",
    "    idx = trial.suggest_categorical('idx', [0, 1, 2, 3, 4])\n",
    "    \n",
    "    params = {\n",
    "        \"n_estimators\": trial.suggest_int(\"n_estimators\", 500, 1200),\n",
    "        \"task_type\" : 'CPU',\n",
    "        \"learning_rate\": trial.suggest_float(\"learning_rate\", 1e-3, 0.1, log=True),\n",
    "        \"depth\": trial.suggest_int(\"depth\", 3, 10),\n",
    "        \"min_data_in_leaf\": trial.suggest_int(\"min_data_in_leaf\", 1, 100),\n",
    "        \"ignored_features\" : ignored_feats[idx],\n",
    "        \"loss_function\" : 'RMSE',\n",
    "        \"eval_metric\" : MAE_EXP(),\n",
    "        \"use_best_model\" : True,\n",
    "        \"random_seed\" : RSEED,\n",
    "        \"cat_features\" : cat_feats\n",
    "    }\n",
    "\n",
    "\n",
    "    weight_train = np.array(X_train.eic_count)\n",
    "    weight_val = np.array(X_val.eic_count)\n",
    "\n",
    "    train_data = Pool(data = X_train, \n",
    "                      label = y_train.log1p_target_per_eic_count, \n",
    "                      weight = weight_train, \n",
    "                      cat_features = cat_feats\n",
    "                     )\n",
    "\n",
    "\n",
    "    eval_data = Pool(data = X_val, \n",
    "                     label = y_val.log1p_target_per_eic_count, \n",
    "                     weight = weight_val, \n",
    "                     cat_features = cat_feats\n",
    "                    )\n",
    "\n",
    "\n",
    "    model = CatBoostRegressor(**params, silent=True)\n",
    "    model.fit(train_data, eval_set = eval_data)\n",
    "    predictions = model.predict(X_val)\n",
    "    \n",
    "    y_true = np.array(y_val.target)\n",
    "    y_pred = np.expm1(np.array(predictions))*weight_val\n",
    "    \n",
    "    mae_score = mean_absolute_error(y_true, y_pred)\n",
    "    \n",
    "    return mae_score"
   ]
  },
  {
   "cell_type": "markdown",
   "id": "414ad30f-21b1-4c67-a5d0-63c7c52ca661",
   "metadata": {},
   "source": [
    "#### MAE with exponentials"
   ]
  },
  {
   "cell_type": "code",
   "execution_count": 3,
   "id": "714e86f2-3413-4b52-8fc3-ead30790c76a",
   "metadata": {
    "tags": []
   },
   "outputs": [],
   "source": [
    "class MAE_EXP:\n",
    "   \n",
    "    def is_max_optimal(self):\n",
    "        return False # lower is better\n",
    "\n",
    "    def evaluate(self, approxes, target, weight):\n",
    " \n",
    "        y_true = np.exp(np.array(target))\n",
    "        y_pred = np.exp(np.array(approxes))\n",
    "        w = np.array(weight)\n",
    "        \n",
    "        \n",
    "        score = np.mean(np.abs(y_true - y_pred)*w)\n",
    "        return score, 1\n",
    "\n",
    "    def get_final_error(self, error, weight):\n",
    "        return error"
   ]
  },
  {
   "cell_type": "markdown",
   "id": "340ecb7e-7b51-4c0b-a7b6-ee771ab2b0ef",
   "metadata": {
    "tags": []
   },
   "source": [
    "#### Get targets and features"
   ]
  },
  {
   "cell_type": "code",
   "execution_count": 4,
   "id": "763a46dc-38b3-4d95-91d4-f5423c1cef31",
   "metadata": {},
   "outputs": [],
   "source": [
    "def get_feats_and_target(df):\n",
    "    \n",
    "    datetime_feats = df.select_dtypes(include=[\"datetime64\"]).columns.to_list()\n",
    "    cat_feats = df.select_dtypes(include=[\"category\"]).columns.to_list()\n",
    "    num_cols = df.select_dtypes(include=[\"float64\", \"int64\"]).columns.to_list()\n",
    "    \n",
    "    num_feats = [elem for elem in num_cols if \"target\" not in elem]\n",
    "    target = [elem for elem in num_cols if elem not in num_feats]\n",
    "    \n",
    "    cat_num_feats = cat_feats + num_feats\n",
    "        \n",
    "    return cat_feats, num_feats, cat_num_feats, target"
   ]
  },
  {
   "cell_type": "markdown",
   "id": "c1ac648a-ca9c-40b2-b83e-481c5934f8f5",
   "metadata": {},
   "source": [
    "#### Train/validation split"
   ]
  },
  {
   "cell_type": "code",
   "execution_count": 5,
   "id": "be5c2e26-e7d1-4cb8-a602-decca86e5390",
   "metadata": {},
   "outputs": [],
   "source": [
    "def my_train_val_split(df, date):\n",
    "\n",
    "    train_cond = pd.to_datetime(df['date']) < pd.to_datetime(date)\n",
    "    val_cond = pd.to_datetime(df['date']) >= pd.to_datetime(date)\n",
    "    \n",
    "    df_train = df[train_cond]\n",
    "    df_val = df[val_cond]\n",
    "    \n",
    "    return df_train, df_val"
   ]
  },
  {
   "cell_type": "markdown",
   "id": "24151829-080e-43f2-b316-ddda5b02147d",
   "metadata": {
    "tags": []
   },
   "source": [
    "## 1 - Loading the data"
   ]
  },
  {
   "cell_type": "code",
   "execution_count": 6,
   "id": "22546c56-dc5f-4007-94c8-1f76676366d0",
   "metadata": {
    "tags": []
   },
   "outputs": [],
   "source": [
    "data_cons_df = pd.read_csv('../data/data_consumption.csv', parse_dates = [\"datetime\", \"date\"])"
   ]
  },
  {
   "cell_type": "code",
   "execution_count": 7,
   "id": "1938bd61-9318-4b2d-a49e-d9d0f938c37e",
   "metadata": {},
   "outputs": [],
   "source": [
    "cat_cols = [\n",
    "    \"county\",\n",
    "    \"is_business\",\n",
    "    \"product_type\",\n",
    "    \"hour\",\n",
    "    \"month\",\n",
    "    \"is_weekend\",\n",
    "    \"is_holiday\",\n",
    "    \"is_school_holiday\",\n",
    "    \"is_population_over_100k\"\n",
    "]\n",
    "\n",
    "data_cons_df[cat_cols] = data_cons_df[cat_cols].astype(\"category\")"
   ]
  },
  {
   "cell_type": "code",
   "execution_count": 8,
   "id": "87105cb2-790f-4f14-ac79-ce3e2fb41509",
   "metadata": {
    "tags": []
   },
   "outputs": [
    {
     "data": {
      "text/html": [
       "<div>\n",
       "<style scoped>\n",
       "    .dataframe tbody tr th:only-of-type {\n",
       "        vertical-align: middle;\n",
       "    }\n",
       "\n",
       "    .dataframe tbody tr th {\n",
       "        vertical-align: top;\n",
       "    }\n",
       "\n",
       "    .dataframe thead th {\n",
       "        text-align: right;\n",
       "    }\n",
       "</style>\n",
       "<table border=\"1\" class=\"dataframe\">\n",
       "  <thead>\n",
       "    <tr style=\"text-align: right;\">\n",
       "      <th></th>\n",
       "      <th>county</th>\n",
       "      <th>is_business</th>\n",
       "      <th>product_type</th>\n",
       "      <th>prediction_unit_id</th>\n",
       "      <th>datetime</th>\n",
       "      <th>date</th>\n",
       "      <th>solar_azimuth</th>\n",
       "      <th>solar_altitude</th>\n",
       "      <th>hour</th>\n",
       "      <th>month</th>\n",
       "      <th>...</th>\n",
       "      <th>cloudcover_high</th>\n",
       "      <th>windspeed_10m</th>\n",
       "      <th>winddirection_10m</th>\n",
       "      <th>shortwave_radiation</th>\n",
       "      <th>direct_solar_radiation</th>\n",
       "      <th>diffuse_radiation</th>\n",
       "      <th>is_population_over_100k</th>\n",
       "      <th>is_holiday</th>\n",
       "      <th>is_school_holiday</th>\n",
       "      <th>target</th>\n",
       "    </tr>\n",
       "  </thead>\n",
       "  <tbody>\n",
       "    <tr>\n",
       "      <th>0</th>\n",
       "      <td>0</td>\n",
       "      <td>0</td>\n",
       "      <td>1</td>\n",
       "      <td>0</td>\n",
       "      <td>2022-02-09</td>\n",
       "      <td>2022-02-09</td>\n",
       "      <td>167.90799</td>\n",
       "      <td>-45.119922</td>\n",
       "      <td>0</td>\n",
       "      <td>2</td>\n",
       "      <td>...</td>\n",
       "      <td>0.0</td>\n",
       "      <td>4.69</td>\n",
       "      <td>154.0</td>\n",
       "      <td>0.0</td>\n",
       "      <td>0.0</td>\n",
       "      <td>0.0</td>\n",
       "      <td>1</td>\n",
       "      <td>0</td>\n",
       "      <td>0</td>\n",
       "      <td>450.947</td>\n",
       "    </tr>\n",
       "    <tr>\n",
       "      <th>1</th>\n",
       "      <td>0</td>\n",
       "      <td>0</td>\n",
       "      <td>2</td>\n",
       "      <td>1</td>\n",
       "      <td>2022-02-09</td>\n",
       "      <td>2022-02-09</td>\n",
       "      <td>167.90799</td>\n",
       "      <td>-45.119922</td>\n",
       "      <td>0</td>\n",
       "      <td>2</td>\n",
       "      <td>...</td>\n",
       "      <td>0.0</td>\n",
       "      <td>4.69</td>\n",
       "      <td>154.0</td>\n",
       "      <td>0.0</td>\n",
       "      <td>0.0</td>\n",
       "      <td>0.0</td>\n",
       "      <td>1</td>\n",
       "      <td>0</td>\n",
       "      <td>0</td>\n",
       "      <td>40.182</td>\n",
       "    </tr>\n",
       "    <tr>\n",
       "      <th>2</th>\n",
       "      <td>0</td>\n",
       "      <td>0</td>\n",
       "      <td>3</td>\n",
       "      <td>2</td>\n",
       "      <td>2022-02-09</td>\n",
       "      <td>2022-02-09</td>\n",
       "      <td>167.90799</td>\n",
       "      <td>-45.119922</td>\n",
       "      <td>0</td>\n",
       "      <td>2</td>\n",
       "      <td>...</td>\n",
       "      <td>0.0</td>\n",
       "      <td>4.69</td>\n",
       "      <td>154.0</td>\n",
       "      <td>0.0</td>\n",
       "      <td>0.0</td>\n",
       "      <td>0.0</td>\n",
       "      <td>1</td>\n",
       "      <td>0</td>\n",
       "      <td>0</td>\n",
       "      <td>1501.646</td>\n",
       "    </tr>\n",
       "    <tr>\n",
       "      <th>3</th>\n",
       "      <td>0</td>\n",
       "      <td>1</td>\n",
       "      <td>0</td>\n",
       "      <td>3</td>\n",
       "      <td>2022-02-09</td>\n",
       "      <td>2022-02-09</td>\n",
       "      <td>167.90799</td>\n",
       "      <td>-45.119922</td>\n",
       "      <td>0</td>\n",
       "      <td>2</td>\n",
       "      <td>...</td>\n",
       "      <td>0.0</td>\n",
       "      <td>4.69</td>\n",
       "      <td>154.0</td>\n",
       "      <td>0.0</td>\n",
       "      <td>0.0</td>\n",
       "      <td>0.0</td>\n",
       "      <td>1</td>\n",
       "      <td>0</td>\n",
       "      <td>0</td>\n",
       "      <td>314.820</td>\n",
       "    </tr>\n",
       "    <tr>\n",
       "      <th>4</th>\n",
       "      <td>0</td>\n",
       "      <td>1</td>\n",
       "      <td>1</td>\n",
       "      <td>4</td>\n",
       "      <td>2022-02-09</td>\n",
       "      <td>2022-02-09</td>\n",
       "      <td>167.90799</td>\n",
       "      <td>-45.119922</td>\n",
       "      <td>0</td>\n",
       "      <td>2</td>\n",
       "      <td>...</td>\n",
       "      <td>0.0</td>\n",
       "      <td>4.69</td>\n",
       "      <td>154.0</td>\n",
       "      <td>0.0</td>\n",
       "      <td>0.0</td>\n",
       "      <td>0.0</td>\n",
       "      <td>1</td>\n",
       "      <td>0</td>\n",
       "      <td>0</td>\n",
       "      <td>882.220</td>\n",
       "    </tr>\n",
       "  </tbody>\n",
       "</table>\n",
       "<p>5 rows × 47 columns</p>\n",
       "</div>"
      ],
      "text/plain": [
       "  county is_business product_type  prediction_unit_id   datetime       date  \\\n",
       "0      0           0            1                   0 2022-02-09 2022-02-09   \n",
       "1      0           0            2                   1 2022-02-09 2022-02-09   \n",
       "2      0           0            3                   2 2022-02-09 2022-02-09   \n",
       "3      0           1            0                   3 2022-02-09 2022-02-09   \n",
       "4      0           1            1                   4 2022-02-09 2022-02-09   \n",
       "\n",
       "   solar_azimuth  solar_altitude hour month  ... cloudcover_high  \\\n",
       "0      167.90799      -45.119922    0     2  ...             0.0   \n",
       "1      167.90799      -45.119922    0     2  ...             0.0   \n",
       "2      167.90799      -45.119922    0     2  ...             0.0   \n",
       "3      167.90799      -45.119922    0     2  ...             0.0   \n",
       "4      167.90799      -45.119922    0     2  ...             0.0   \n",
       "\n",
       "   windspeed_10m  winddirection_10m  shortwave_radiation  \\\n",
       "0           4.69              154.0                  0.0   \n",
       "1           4.69              154.0                  0.0   \n",
       "2           4.69              154.0                  0.0   \n",
       "3           4.69              154.0                  0.0   \n",
       "4           4.69              154.0                  0.0   \n",
       "\n",
       "   direct_solar_radiation  diffuse_radiation  is_population_over_100k  \\\n",
       "0                     0.0                0.0                        1   \n",
       "1                     0.0                0.0                        1   \n",
       "2                     0.0                0.0                        1   \n",
       "3                     0.0                0.0                        1   \n",
       "4                     0.0                0.0                        1   \n",
       "\n",
       "   is_holiday  is_school_holiday    target  \n",
       "0           0                  0   450.947  \n",
       "1           0                  0    40.182  \n",
       "2           0                  0  1501.646  \n",
       "3           0                  0   314.820  \n",
       "4           0                  0   882.220  \n",
       "\n",
       "[5 rows x 47 columns]"
      ]
     },
     "execution_count": 8,
     "metadata": {},
     "output_type": "execute_result"
    }
   ],
   "source": [
    "data_cons_df.head()"
   ]
  },
  {
   "cell_type": "markdown",
   "id": "7563151d-e94a-4fee-ada7-32d962b76405",
   "metadata": {
    "tags": []
   },
   "source": [
    "## 2 - Features and target\n",
    "\n",
    "We separate the different types of features we have in our dataset, namely *datetime*, *categorical* and *numerical features*."
   ]
  },
  {
   "cell_type": "code",
   "execution_count": 9,
   "id": "9f47ea20-4637-44da-b78f-5ebe12b7058c",
   "metadata": {},
   "outputs": [],
   "source": [
    "data_cons_df[\"log1p_target_per_eic_count\"] = np.log1p(data_cons_df.target/data_cons_df.eic_count)"
   ]
  },
  {
   "cell_type": "code",
   "execution_count": 10,
   "id": "b3278fa1-8d9c-4b8e-a518-0ec55121355f",
   "metadata": {
    "tags": []
   },
   "outputs": [],
   "source": [
    "cat_feats, num_feats, cat_num_feats, target = get_feats_and_target(data_cons_df)"
   ]
  },
  {
   "cell_type": "code",
   "execution_count": 11,
   "id": "ea748583-df92-4729-9934-54066ae66d6c",
   "metadata": {
    "tags": []
   },
   "outputs": [],
   "source": [
    "data_df = data_cons_df[data_cons_df['is_business'] == 1]\n",
    "data_train_df, data_val_df = my_train_val_split(data_df, date = '2023-05-24')"
   ]
  },
  {
   "cell_type": "code",
   "execution_count": 12,
   "id": "84709e10-a236-4a09-8b60-8fab2b32b126",
   "metadata": {
    "tags": []
   },
   "outputs": [],
   "source": [
    "X_train = data_train_df[cat_num_feats].copy()\n",
    "y_train = data_train_df[['datetime'] + target].copy()\n",
    "\n",
    "X_val = data_val_df[cat_num_feats].copy()\n",
    "y_val = data_val_df[['datetime'] + target].copy()"
   ]
  },
  {
   "cell_type": "markdown",
   "id": "dcc0a8ef-4a71-4d36-bf24-64f7903f6148",
   "metadata": {
    "tags": []
   },
   "source": [
    "##  3 - Hyperparameter tuning"
   ]
  },
  {
   "cell_type": "code",
   "execution_count": 13,
   "id": "e1e72594-ab17-4024-b26f-7a3621a247b1",
   "metadata": {
    "tags": []
   },
   "outputs": [
    {
     "name": "stderr",
     "output_type": "stream",
     "text": [
      "[I 2024-04-19 19:50:07,642] A new study created in memory with name: no-name-3d2056b4-64d8-4837-86a3-56e1664f2960\n",
      "[I 2024-04-19 19:53:09,271] Trial 0 finished with value: 151.71533469636782 and parameters: {'idx': 0, 'n_estimators': 557, 'learning_rate': 0.015072849416191114, 'depth': 9, 'min_data_in_leaf': 30}. Best is trial 0 with value: 151.71533469636782.\n",
      "[I 2024-04-19 19:55:37,823] Trial 1 finished with value: 217.72501180854923 and parameters: {'idx': 1, 'n_estimators': 1023, 'learning_rate': 0.001520893424855543, 'depth': 5, 'min_data_in_leaf': 68}. Best is trial 0 with value: 151.71533469636782.\n",
      "[I 2024-04-19 19:56:53,902] Trial 2 finished with value: 207.20324920571153 and parameters: {'idx': 0, 'n_estimators': 557, 'learning_rate': 0.0033953797915703492, 'depth': 5, 'min_data_in_leaf': 43}. Best is trial 0 with value: 151.71533469636782.\n",
      "[I 2024-04-19 20:00:31,051] Trial 3 finished with value: 132.67681325152813 and parameters: {'idx': 0, 'n_estimators': 938, 'learning_rate': 0.08023888041911875, 'depth': 7, 'min_data_in_leaf': 18}. Best is trial 3 with value: 132.67681325152813.\n",
      "[I 2024-04-19 20:01:28,846] Trial 4 finished with value: 295.04891456672794 and parameters: {'idx': 0, 'n_estimators': 713, 'learning_rate': 0.0010740274347011132, 'depth': 3, 'min_data_in_leaf': 9}. Best is trial 3 with value: 132.67681325152813.\n",
      "[I 2024-04-19 20:05:33,498] Trial 5 finished with value: 188.9013204521006 and parameters: {'idx': 3, 'n_estimators': 1181, 'learning_rate': 0.001561227539340471, 'depth': 7, 'min_data_in_leaf': 43}. Best is trial 3 with value: 132.67681325152813.\n",
      "[I 2024-04-19 20:09:30,248] Trial 6 finished with value: 153.8320620315013 and parameters: {'idx': 3, 'n_estimators': 918, 'learning_rate': 0.035690032538962045, 'depth': 6, 'min_data_in_leaf': 68}. Best is trial 3 with value: 132.67681325152813.\n",
      "[I 2024-04-19 20:15:20,717] Trial 7 finished with value: 158.68729901973174 and parameters: {'idx': 0, 'n_estimators': 968, 'learning_rate': 0.005357152265259343, 'depth': 9, 'min_data_in_leaf': 28}. Best is trial 3 with value: 132.67681325152813.\n",
      "[I 2024-04-19 20:16:46,743] Trial 8 finished with value: 167.9860148119232 and parameters: {'idx': 0, 'n_estimators': 584, 'learning_rate': 0.06139888191223429, 'depth': 4, 'min_data_in_leaf': 59}. Best is trial 3 with value: 132.67681325152813.\n",
      "[I 2024-04-19 20:18:14,049] Trial 9 finished with value: 232.91868290167895 and parameters: {'idx': 3, 'n_estimators': 703, 'learning_rate': 0.002261116592646695, 'depth': 4, 'min_data_in_leaf': 62}. Best is trial 3 with value: 132.67681325152813.\n",
      "[I 2024-04-19 20:23:59,715] Trial 10 finished with value: 143.33252752508062 and parameters: {'idx': 4, 'n_estimators': 1115, 'learning_rate': 0.0996500646368361, 'depth': 8, 'min_data_in_leaf': 99}. Best is trial 3 with value: 132.67681325152813.\n",
      "[I 2024-04-19 20:29:50,171] Trial 11 finished with value: 132.79673177245414 and parameters: {'idx': 4, 'n_estimators': 1124, 'learning_rate': 0.0985425104198984, 'depth': 8, 'min_data_in_leaf': 97}. Best is trial 3 with value: 132.67681325152813.\n",
      "[I 2024-04-19 20:36:31,526] Trial 12 finished with value: 129.49774198373404 and parameters: {'idx': 4, 'n_estimators': 849, 'learning_rate': 0.024369176181523393, 'depth': 10, 'min_data_in_leaf': 95}. Best is trial 12 with value: 129.49774198373404.\n",
      "[I 2024-04-19 20:42:29,449] Trial 13 finished with value: 137.3932512458074 and parameters: {'idx': 2, 'n_estimators': 806, 'learning_rate': 0.018998658077405993, 'depth': 10, 'min_data_in_leaf': 9}. Best is trial 12 with value: 129.49774198373404.\n",
      "[I 2024-04-19 20:48:32,274] Trial 14 finished with value: 124.01045413334407 and parameters: {'idx': 4, 'n_estimators': 817, 'learning_rate': 0.030822301714567398, 'depth': 10, 'min_data_in_leaf': 85}. Best is trial 14 with value: 124.01045413334407.\n",
      "[I 2024-04-19 20:54:31,768] Trial 15 finished with value: 122.92117620805291 and parameters: {'idx': 4, 'n_estimators': 798, 'learning_rate': 0.03074993492975976, 'depth': 10, 'min_data_in_leaf': 83}. Best is trial 15 with value: 122.92117620805291.\n",
      "[I 2024-04-19 20:59:59,014] Trial 16 finished with value: 122.69190813438094 and parameters: {'idx': 4, 'n_estimators': 737, 'learning_rate': 0.04065059644785301, 'depth': 10, 'min_data_in_leaf': 79}. Best is trial 16 with value: 122.69190813438094.\n",
      "[I 2024-04-19 21:03:37,069] Trial 17 finished with value: 158.4776490330804 and parameters: {'idx': 4, 'n_estimators': 706, 'learning_rate': 0.007650532043168352, 'depth': 9, 'min_data_in_leaf': 81}. Best is trial 16 with value: 122.69190813438094.\n",
      "[I 2024-04-19 21:06:42,459] Trial 18 finished with value: 135.42630218013767 and parameters: {'idx': 1, 'n_estimators': 635, 'learning_rate': 0.04809681129496022, 'depth': 8, 'min_data_in_leaf': 82}. Best is trial 16 with value: 122.69190813438094.\n",
      "[I 2024-04-19 21:12:25,281] Trial 19 finished with value: 141.67773806896798 and parameters: {'idx': 4, 'n_estimators': 758, 'learning_rate': 0.013315433129169581, 'depth': 10, 'min_data_in_leaf': 72}. Best is trial 16 with value: 122.69190813438094.\n",
      "[I 2024-04-19 21:15:54,245] Trial 20 finished with value: 156.4547778122776 and parameters: {'idx': 2, 'n_estimators': 644, 'learning_rate': 0.008818863351848234, 'depth': 9, 'min_data_in_leaf': 49}. Best is trial 16 with value: 122.69190813438094.\n",
      "[I 2024-04-19 21:22:16,142] Trial 21 finished with value: 131.99576863985757 and parameters: {'idx': 4, 'n_estimators': 826, 'learning_rate': 0.03239146882700081, 'depth': 10, 'min_data_in_leaf': 83}. Best is trial 16 with value: 122.69190813438094.\n",
      "[I 2024-04-19 21:28:09,372] Trial 22 finished with value: 131.62081315579613 and parameters: {'idx': 4, 'n_estimators': 775, 'learning_rate': 0.03445522749125954, 'depth': 10, 'min_data_in_leaf': 88}. Best is trial 16 with value: 122.69190813438094.\n",
      "[I 2024-04-19 21:33:12,939] Trial 23 finished with value: 127.37663427495441 and parameters: {'idx': 4, 'n_estimators': 888, 'learning_rate': 0.0509918218287943, 'depth': 9, 'min_data_in_leaf': 75}. Best is trial 16 with value: 122.69190813438094.\n",
      "[I 2024-04-19 21:36:43,568] Trial 24 finished with value: 144.56498499134 and parameters: {'idx': 4, 'n_estimators': 747, 'learning_rate': 0.024876851702604518, 'depth': 8, 'min_data_in_leaf': 90}. Best is trial 16 with value: 122.69190813438094.\n",
      "[I 2024-04-19 21:43:08,544] Trial 25 finished with value: 138.32114750430173 and parameters: {'idx': 4, 'n_estimators': 868, 'learning_rate': 0.013118467363145451, 'depth': 10, 'min_data_in_leaf': 59}. Best is trial 16 with value: 122.69190813438094.\n",
      "[I 2024-04-19 21:46:47,834] Trial 26 finished with value: 138.252866864144 and parameters: {'idx': 4, 'n_estimators': 664, 'learning_rate': 0.02067687227677659, 'depth': 9, 'min_data_in_leaf': 77}. Best is trial 16 with value: 122.69190813438094.\n",
      "[I 2024-04-19 21:51:00,969] Trial 27 finished with value: 141.7858329851129 and parameters: {'idx': 2, 'n_estimators': 1009, 'learning_rate': 0.04415246210969586, 'depth': 7, 'min_data_in_leaf': 90}. Best is trial 16 with value: 122.69190813438094.\n",
      "[I 2024-04-19 21:57:28,490] Trial 28 finished with value: 126.90993544569777 and parameters: {'idx': 1, 'n_estimators': 804, 'learning_rate': 0.06687792833345849, 'depth': 10, 'min_data_in_leaf': 87}. Best is trial 16 with value: 122.69190813438094.\n",
      "[I 2024-04-19 22:00:14,234] Trial 29 finished with value: 150.1061932486214 and parameters: {'idx': 4, 'n_estimators': 504, 'learning_rate': 0.015955085679623206, 'depth': 9, 'min_data_in_leaf': 65}. Best is trial 16 with value: 122.69190813438094.\n",
      "[I 2024-04-19 22:02:59,706] Trial 30 finished with value: 148.91217585136891 and parameters: {'idx': 4, 'n_estimators': 606, 'learning_rate': 0.027515786010433377, 'depth': 8, 'min_data_in_leaf': 55}. Best is trial 16 with value: 122.69190813438094.\n",
      "[I 2024-04-19 22:09:23,047] Trial 31 finished with value: 117.85777156103043 and parameters: {'idx': 1, 'n_estimators': 795, 'learning_rate': 0.06324806469439596, 'depth': 10, 'min_data_in_leaf': 86}. Best is trial 31 with value: 117.85777156103043.\n",
      "[I 2024-04-19 22:15:42,502] Trial 32 finished with value: 116.15412470285597 and parameters: {'idx': 1, 'n_estimators': 769, 'learning_rate': 0.0631080417504875, 'depth': 10, 'min_data_in_leaf': 74}. Best is trial 32 with value: 116.15412470285597.\n",
      "[I 2024-04-19 22:20:02,795] Trial 33 finished with value: 118.0931349333238 and parameters: {'idx': 1, 'n_estimators': 736, 'learning_rate': 0.06652903487160833, 'depth': 9, 'min_data_in_leaf': 72}. Best is trial 32 with value: 116.15412470285597.\n",
      "[I 2024-04-19 22:24:21,396] Trial 34 finished with value: 136.59435993270355 and parameters: {'idx': 1, 'n_estimators': 740, 'learning_rate': 0.07032080693866795, 'depth': 9, 'min_data_in_leaf': 71}. Best is trial 32 with value: 116.15412470285597.\n",
      "[I 2024-04-19 22:28:20,256] Trial 35 finished with value: 136.79756087589826 and parameters: {'idx': 1, 'n_estimators': 678, 'learning_rate': 0.05241306521391917, 'depth': 9, 'min_data_in_leaf': 77}. Best is trial 32 with value: 116.15412470285597.\n",
      "[I 2024-04-19 22:34:13,803] Trial 36 finished with value: 118.95596254415598 and parameters: {'idx': 1, 'n_estimators': 736, 'learning_rate': 0.07176429040899646, 'depth': 10, 'min_data_in_leaf': 51}. Best is trial 32 with value: 116.15412470285597.\n",
      "[I 2024-04-19 22:39:31,087] Trial 37 finished with value: 117.8176834400079 and parameters: {'idx': 1, 'n_estimators': 897, 'learning_rate': 0.07720037013280598, 'depth': 9, 'min_data_in_leaf': 45}. Best is trial 32 with value: 116.15412470285597.\n",
      "[I 2024-04-19 22:43:25,179] Trial 38 finished with value: 125.39073062002532 and parameters: {'idx': 1, 'n_estimators': 916, 'learning_rate': 0.08718073200274383, 'depth': 7, 'min_data_in_leaf': 30}. Best is trial 32 with value: 116.15412470285597.\n",
      "[I 2024-04-19 22:46:49,071] Trial 39 finished with value: 145.5178849731138 and parameters: {'idx': 1, 'n_estimators': 958, 'learning_rate': 0.06024067540533013, 'depth': 6, 'min_data_in_leaf': 45}. Best is trial 32 with value: 116.15412470285597.\n",
      "[I 2024-04-19 22:50:46,051] Trial 40 finished with value: 166.8071514162122 and parameters: {'idx': 1, 'n_estimators': 882, 'learning_rate': 0.004478843248856279, 'depth': 8, 'min_data_in_leaf': 38}. Best is trial 32 with value: 116.15412470285597.\n",
      "[I 2024-04-19 22:55:17,779] Trial 41 finished with value: 133.63753718457716 and parameters: {'idx': 1, 'n_estimators': 776, 'learning_rate': 0.07587035390692212, 'depth': 9, 'min_data_in_leaf': 53}. Best is trial 32 with value: 116.15412470285597.\n",
      "[I 2024-04-19 23:00:19,004] Trial 42 finished with value: 132.43697955438313 and parameters: {'idx': 1, 'n_estimators': 855, 'learning_rate': 0.05846210612077862, 'depth': 9, 'min_data_in_leaf': 36}. Best is trial 32 with value: 116.15412470285597.\n",
      "[I 2024-04-19 23:05:53,119] Trial 43 finished with value: 122.2557533643791 and parameters: {'idx': 1, 'n_estimators': 694, 'learning_rate': 0.08443888566427647, 'depth': 10, 'min_data_in_leaf': 68}. Best is trial 32 with value: 116.15412470285597.\n",
      "[I 2024-04-19 23:07:42,680] Trial 44 finished with value: 176.5382761573537 and parameters: {'idx': 1, 'n_estimators': 1000, 'learning_rate': 0.04195068663796674, 'depth': 3, 'min_data_in_leaf': 23}. Best is trial 32 with value: 116.15412470285597.\n",
      "[I 2024-04-19 23:12:01,547] Trial 45 finished with value: 135.07880113267103 and parameters: {'idx': 1, 'n_estimators': 727, 'learning_rate': 0.07444408781781653, 'depth': 9, 'min_data_in_leaf': 47}. Best is trial 32 with value: 116.15412470285597.\n",
      "[I 2024-04-19 23:19:17,396] Trial 46 finished with value: 120.01358544483601 and parameters: {'idx': 3, 'n_estimators': 923, 'learning_rate': 0.0594743017903406, 'depth': 10, 'min_data_in_leaf': 40}. Best is trial 32 with value: 116.15412470285597.\n",
      "[I 2024-04-19 23:21:18,484] Trial 47 finished with value: 160.92059242435732 and parameters: {'idx': 1, 'n_estimators': 834, 'learning_rate': 0.09391241302319875, 'depth': 4, 'min_data_in_leaf': 61}. Best is trial 32 with value: 116.15412470285597.\n",
      "[I 2024-04-19 23:25:06,866] Trial 48 finished with value: 147.08631064859225 and parameters: {'idx': 1, 'n_estimators': 1082, 'learning_rate': 0.03656832349190772, 'depth': 6, 'min_data_in_leaf': 94}. Best is trial 32 with value: 116.15412470285597.\n",
      "[I 2024-04-19 23:31:15,823] Trial 49 finished with value: 126.49621646159622 and parameters: {'idx': 0, 'n_estimators': 764, 'learning_rate': 0.07721908868136722, 'depth': 10, 'min_data_in_leaf': 53}. Best is trial 32 with value: 116.15412470285597.\n",
      "[I 2024-04-19 23:35:14,486] Trial 50 finished with value: 184.82479321227916 and parameters: {'idx': 1, 'n_estimators': 779, 'learning_rate': 0.002133218017885094, 'depth': 9, 'min_data_in_leaf': 67}. Best is trial 32 with value: 116.15412470285597.\n",
      "[I 2024-04-19 23:43:22,585] Trial 51 finished with value: 122.67215984823628 and parameters: {'idx': 3, 'n_estimators': 899, 'learning_rate': 0.060802262317013654, 'depth': 10, 'min_data_in_leaf': 41}. Best is trial 32 with value: 116.15412470285597.\n",
      "[I 2024-04-19 23:52:09,594] Trial 52 finished with value: 122.81448088584074 and parameters: {'idx': 3, 'n_estimators': 940, 'learning_rate': 0.05202439783041174, 'depth': 10, 'min_data_in_leaf': 33}. Best is trial 32 with value: 116.15412470285597.\n",
      "[I 2024-04-20 00:01:01,250] Trial 53 finished with value: 121.13555083517493 and parameters: {'idx': 3, 'n_estimators': 975, 'learning_rate': 0.09687620723776245, 'depth': 10, 'min_data_in_leaf': 14}. Best is trial 32 with value: 116.15412470285597.\n",
      "[I 2024-04-20 00:08:07,343] Trial 54 finished with value: 128.3547920650142 and parameters: {'idx': 3, 'n_estimators': 838, 'learning_rate': 0.04148478368680679, 'depth': 10, 'min_data_in_leaf': 39}. Best is trial 32 with value: 116.15412470285597.\n",
      "[I 2024-04-20 00:16:02,590] Trial 55 finished with value: 111.58933763866946 and parameters: {'idx': 1, 'n_estimators': 919, 'learning_rate': 0.06399674325935742, 'depth': 10, 'min_data_in_leaf': 24}. Best is trial 55 with value: 111.58933763866946.\n",
      "[I 2024-04-20 00:21:33,315] Trial 56 finished with value: 135.8614252544415 and parameters: {'idx': 1, 'n_estimators': 1036, 'learning_rate': 0.06766002515045154, 'depth': 8, 'min_data_in_leaf': 26}. Best is trial 55 with value: 111.58933763866946.\n",
      "[I 2024-04-20 00:26:50,561] Trial 57 finished with value: 131.16769765692462 and parameters: {'idx': 1, 'n_estimators': 801, 'learning_rate': 0.04663123063158088, 'depth': 9, 'min_data_in_leaf': 3}. Best is trial 55 with value: 111.58933763866946.\n",
      "[I 2024-04-20 00:33:31,891] Trial 58 finished with value: 122.41778189041334 and parameters: {'idx': 1, 'n_estimators': 703, 'learning_rate': 0.07960704642373341, 'depth': 10, 'min_data_in_leaf': 17}. Best is trial 55 with value: 111.58933763866946.\n",
      "[I 2024-04-20 00:38:40,636] Trial 59 finished with value: 124.62299840109551 and parameters: {'idx': 1, 'n_estimators': 722, 'learning_rate': 0.05306139414541862, 'depth': 9, 'min_data_in_leaf': 71}. Best is trial 55 with value: 111.58933763866946.\n"
     ]
    }
   ],
   "source": [
    "study = optuna.create_study(direction='minimize')\n",
    "study.optimize(objective, n_trials=60)"
   ]
  },
  {
   "cell_type": "code",
   "execution_count": 14,
   "id": "30f19e2c-1456-49f3-82f7-62bf18dd72e8",
   "metadata": {},
   "outputs": [
    {
     "name": "stdout",
     "output_type": "stream",
     "text": [
      "Best MAE for validation set: 111.58933763866946\n"
     ]
    }
   ],
   "source": [
    "fixed_ignored_feats = ['shortwave_radiation', 'eic_count', \"is_business\",\n",
    "                       \"cloudcover_high\", \"snowfall\", \"rain\", 'highest_price_per_mwh', \n",
    "                       'lowest_price_per_mwh', 'euros_per_mwh', 'prediction_unit_id']\n",
    "    \n",
    "ignored_feats = [fixed_ignored_feats,\n",
    "                 fixed_ignored_feats + [\"is_holiday\", \"is_school_holiday\"],\n",
    "                 fixed_ignored_feats + [\"solar_azimuth\", \"solar_altitude\"], \n",
    "                 fixed_ignored_feats + [\"windspeed_10m\", \"winddirection_10m\"],\n",
    "                 fixed_ignored_feats + [\"windspeed_10m\", \"winddirection_10m\", \"is_holiday\", \"is_school_holiday\"]\n",
    "                ]  \n",
    "\n",
    "business_prod_best_params = study.best_params\n",
    "print('Best MAE for validation set:', study.best_value)\n",
    "\n",
    "idx = business_prod_best_params.get('idx')\n",
    "del business_prod_best_params['idx']\n",
    "business_prod_best_params.update({'ignored_features' : ignored_feats[idx], \n",
    "                                 'cat_features' : cat_feats, \n",
    "                                 'MAE' : study.best_value})\n",
    "\n",
    "with open(\"best_parameters_business_consumption_final.json\", \"w\") as outfile: \n",
    "    json.dump(business_prod_best_params, outfile)"
   ]
  },
  {
   "cell_type": "code",
   "execution_count": 15,
   "id": "f1f90f36-345d-4c72-803f-e09d1449f758",
   "metadata": {
    "tags": []
   },
   "outputs": [
    {
     "name": "stdout",
     "output_type": "stream",
     "text": [
      "Contribution to the overall MAE (validation set): 30.318062235200145\n"
     ]
    }
   ],
   "source": [
    "cont_overall_mae = study.best_value*data_df['target'].size/(2*data_cons_df['target'].size)\n",
    "print('Contribution to the overall MAE (validation set):', cont_overall_mae)"
   ]
  }
 ],
 "metadata": {
  "kernelspec": {
   "display_name": "Python 3 (ipykernel)",
   "language": "python",
   "name": "python3"
  },
  "language_info": {
   "codemirror_mode": {
    "name": "ipython",
    "version": 3
   },
   "file_extension": ".py",
   "mimetype": "text/x-python",
   "name": "python",
   "nbconvert_exporter": "python",
   "pygments_lexer": "ipython3",
   "version": "3.11.3"
  }
 },
 "nbformat": 4,
 "nbformat_minor": 5
}
