{
 "cells": [
  {
   "cell_type": "markdown",
   "id": "649edd05-f69c-4532-a6b7-9d6a85ce57d1",
   "metadata": {
    "tags": []
   },
   "source": [
    "# **Model for the Business Solar Energy Production**\n",
    "\n",
    "The aim of this notebook is to create a baseline model for the deterministc part of the solar energy production time series, treated here as a cross-sectional problem. Furthermore, we will de-trend and de-seasonal the data."
   ]
  },
  {
   "cell_type": "markdown",
   "id": "d0080676-fb05-43c0-8366-9a647f2a1592",
   "metadata": {
    "tags": []
   },
   "source": [
    "## 0 - Set up"
   ]
  },
  {
   "cell_type": "markdown",
   "id": "8f4fc8c2-f5b8-4956-9a4e-752c4bd9a407",
   "metadata": {
    "tags": []
   },
   "source": [
    "### 0.1 - Loading relevant packages"
   ]
  },
  {
   "cell_type": "code",
   "execution_count": 1,
   "id": "a52871f4-84e8-4042-8620-5be57b75bc05",
   "metadata": {},
   "outputs": [],
   "source": [
    "#for handling the data\n",
    "import numpy as np\n",
    "import pandas as pd\n",
    "\n",
    "#for visualisation\n",
    "import matplotlib.pyplot as plt\n",
    "import seaborn as sns\n",
    "\n",
    "sns.set() # set seaborn as default style\n",
    "\n",
    "\n",
    "#for the modelling\n",
    "from catboost import CatBoostRegressor, Pool\n",
    "\n",
    "#for hyperparameter tunning\n",
    "import optuna\n",
    "\n",
    "#for model evaluation\n",
    "from sklearn.metrics import mean_absolute_error\n",
    "\n",
    "\n",
    "#model serilasation\n",
    "import pickle as pk\n",
    "\n",
    "#miscellania\n",
    "import json\n",
    "import warnings\n",
    "warnings.filterwarnings(\"ignore\")\n",
    "\n",
    "RSEED = 42"
   ]
  },
  {
   "cell_type": "markdown",
   "id": "93ee0819-f844-4509-8050-249f59d4b90f",
   "metadata": {
    "tags": []
   },
   "source": [
    "### 0.2 - User-defined functions"
   ]
  },
  {
   "cell_type": "markdown",
   "id": "347405b7-d719-40f2-b6fb-73e8a1a334e3",
   "metadata": {
    "tags": []
   },
   "source": [
    "#### Optuna objective function"
   ]
  },
  {
   "cell_type": "code",
   "execution_count": 2,
   "id": "4f9af36e-5a75-4792-aaef-88660a11f703",
   "metadata": {
    "tags": []
   },
   "outputs": [],
   "source": [
    "def objective(trial):\n",
    "    \n",
    "    fixed_ignored_feats = ['shortwave_radiation', 'installed_capacity', \n",
    "                           \"is_school_holiday\", \"is_holiday\", \"is_weekend\", \n",
    "                           \"cloudcover_high\", 'highest_price_per_mwh', \"snowfall\",\n",
    "                           'lowest_price_per_mwh', 'euros_per_mwh', 'prediction_unit_id'\n",
    "                          ]\n",
    "    \n",
    "    ignored_feats = [fixed_ignored_feats, \n",
    "                     fixed_ignored_feats + ['is_population_over_100k'], \n",
    "                     fixed_ignored_feats + ['windspeed_10m', \"winddirection_10m\"],\n",
    "                     fixed_ignored_feats + ['is_population_over_100k', 'windspeed_10m', \"winddirection_10m\"],\n",
    "                     fixed_ignored_feats + ['highest_price_per_mwh_21_weeks_lag', 'lowest_price_per_mwh_21_weeks_lag', \n",
    "                                            'highest_price_per_mwh_23_weeks_lag', 'lowest_price_per_mwh_23_weeks_lag']\n",
    "                    ]    \n",
    "    \n",
    "    idx = trial.suggest_categorical('idx', [0, 1, 2, 3, 4])\n",
    "    \n",
    "    params = {\n",
    "        \"n_estimators\": trial.suggest_int(\"n_estimators\", 500, 1200),\n",
    "        \"task_type\" : 'CPU',\n",
    "        \"learning_rate\": trial.suggest_float(\"learning_rate\", 1e-3, 0.1, log=True),\n",
    "        \"depth\": trial.suggest_int(\"depth\", 3, 10),\n",
    "        \"min_data_in_leaf\": trial.suggest_int(\"min_data_in_leaf\", 1, 100),\n",
    "        \"ignored_features\" : ignored_feats[idx],\n",
    "        \"loss_function\" : 'RMSE',\n",
    "        \"eval_metric\" : MAE_EXP(),\n",
    "        \"use_best_model\" : True,\n",
    "        \"random_seed\" : RSEED,\n",
    "        \"cat_features\" : cat_feats\n",
    "    }\n",
    "\n",
    "\n",
    "    weight_train = np.array(X_train.installed_capacity)\n",
    "    weight_val = np.array(X_val.installed_capacity)\n",
    "\n",
    "    train_data = Pool(data = X_train, \n",
    "                      label = y_train.log1p_target_per_installed_capacity, \n",
    "                      weight = weight_train, \n",
    "                      cat_features = cat_feats\n",
    "                     )\n",
    "\n",
    "\n",
    "    eval_data = Pool(data = X_val, \n",
    "                     label = y_val.log1p_target_per_installed_capacity, \n",
    "                     weight = weight_val, \n",
    "                     cat_features = cat_feats\n",
    "                    )\n",
    "\n",
    "\n",
    "    model = CatBoostRegressor(**params, silent=True)\n",
    "    model.fit(train_data, eval_set = eval_data)\n",
    "    predictions = model.predict(X_val)\n",
    "    \n",
    "    y_true = np.array(y_val.target)\n",
    "    y_pred = np.expm1(np.array(predictions))*weight_val\n",
    "    \n",
    "    mae_score = mean_absolute_error(y_true, y_pred)\n",
    "    \n",
    "    return mae_score"
   ]
  },
  {
   "cell_type": "markdown",
   "id": "414ad30f-21b1-4c67-a5d0-63c7c52ca661",
   "metadata": {},
   "source": [
    "#### MAE with exponentials"
   ]
  },
  {
   "cell_type": "code",
   "execution_count": 3,
   "id": "714e86f2-3413-4b52-8fc3-ead30790c76a",
   "metadata": {
    "tags": []
   },
   "outputs": [],
   "source": [
    "class MAE_EXP:\n",
    "   \n",
    "    def is_max_optimal(self):\n",
    "        return False # lower is better\n",
    "\n",
    "    def evaluate(self, approxes, target, weight):\n",
    " \n",
    "        y_true = np.exp(np.array(target))\n",
    "        y_pred = np.exp(np.array(approxes))\n",
    "        w = np.array(weight)\n",
    "        \n",
    "        \n",
    "        score = np.mean(np.abs(y_true - y_pred)*w)\n",
    "        return score, 1\n",
    "\n",
    "    def get_final_error(self, error, weight):\n",
    "        return error"
   ]
  },
  {
   "cell_type": "markdown",
   "id": "340ecb7e-7b51-4c0b-a7b6-ee771ab2b0ef",
   "metadata": {
    "tags": []
   },
   "source": [
    "#### Get targets and features"
   ]
  },
  {
   "cell_type": "code",
   "execution_count": 4,
   "id": "763a46dc-38b3-4d95-91d4-f5423c1cef31",
   "metadata": {},
   "outputs": [],
   "source": [
    "def get_feats_and_target(df):\n",
    "    \n",
    "    datetime_feats = df.select_dtypes(include=[\"datetime64\"]).columns.to_list()\n",
    "    cat_feats = df.select_dtypes(include=[\"category\"]).columns.to_list()\n",
    "    num_cols = df.select_dtypes(include=[\"float64\", \"int64\"]).columns.to_list()\n",
    "    \n",
    "    num_feats = [elem for elem in num_cols if \"target\" not in elem]\n",
    "    target = [elem for elem in num_cols if elem not in num_feats]\n",
    "    \n",
    "    cat_num_feats = cat_feats + num_feats\n",
    "        \n",
    "    return cat_feats, num_feats, cat_num_feats, target"
   ]
  },
  {
   "cell_type": "markdown",
   "id": "c1ac648a-ca9c-40b2-b83e-481c5934f8f5",
   "metadata": {},
   "source": [
    "#### Train/validation split"
   ]
  },
  {
   "cell_type": "code",
   "execution_count": 5,
   "id": "be5c2e26-e7d1-4cb8-a602-decca86e5390",
   "metadata": {},
   "outputs": [],
   "source": [
    "def my_train_val_split(df, date):\n",
    "\n",
    "    train_cond = pd.to_datetime(df['date']) < pd.to_datetime(date)\n",
    "    val_cond = pd.to_datetime(df['date']) >= pd.to_datetime(date)\n",
    "    \n",
    "    df_train = df[train_cond]\n",
    "    df_val = df[val_cond]\n",
    "    \n",
    "    return df_train, df_val"
   ]
  },
  {
   "cell_type": "markdown",
   "id": "24151829-080e-43f2-b316-ddda5b02147d",
   "metadata": {
    "tags": []
   },
   "source": [
    "## 1 - Loading the data"
   ]
  },
  {
   "cell_type": "code",
   "execution_count": 6,
   "id": "22546c56-dc5f-4007-94c8-1f76676366d0",
   "metadata": {
    "tags": []
   },
   "outputs": [],
   "source": [
    "data_prod_df = pd.read_csv('../data/data_production.csv', parse_dates = [\"datetime\", \"date\"])"
   ]
  },
  {
   "cell_type": "code",
   "execution_count": 7,
   "id": "037984b2-878c-4e62-a5bb-e13a0c49ffa0",
   "metadata": {
    "tags": []
   },
   "outputs": [],
   "source": [
    "cat_cols = [\n",
    "    \"county\",\n",
    "    \"is_business\",\n",
    "    \"product_type\",\n",
    "    \"hour\",\n",
    "    \"month\",\n",
    "    \"is_weekend\",\n",
    "    \"is_holiday\",\n",
    "    \"is_school_holiday\",\n",
    "    \"is_population_over_100k\"\n",
    "]\n",
    "\n",
    "data_prod_df[cat_cols] = data_prod_df[cat_cols].astype(\"category\")"
   ]
  },
  {
   "cell_type": "code",
   "execution_count": 8,
   "id": "87105cb2-790f-4f14-ac79-ce3e2fb41509",
   "metadata": {
    "tags": []
   },
   "outputs": [
    {
     "data": {
      "text/html": [
       "<div>\n",
       "<style scoped>\n",
       "    .dataframe tbody tr th:only-of-type {\n",
       "        vertical-align: middle;\n",
       "    }\n",
       "\n",
       "    .dataframe tbody tr th {\n",
       "        vertical-align: top;\n",
       "    }\n",
       "\n",
       "    .dataframe thead th {\n",
       "        text-align: right;\n",
       "    }\n",
       "</style>\n",
       "<table border=\"1\" class=\"dataframe\">\n",
       "  <thead>\n",
       "    <tr style=\"text-align: right;\">\n",
       "      <th></th>\n",
       "      <th>county</th>\n",
       "      <th>is_business</th>\n",
       "      <th>product_type</th>\n",
       "      <th>prediction_unit_id</th>\n",
       "      <th>datetime</th>\n",
       "      <th>date</th>\n",
       "      <th>solar_azimuth</th>\n",
       "      <th>solar_altitude</th>\n",
       "      <th>hour</th>\n",
       "      <th>month</th>\n",
       "      <th>...</th>\n",
       "      <th>cloudcover_high</th>\n",
       "      <th>windspeed_10m</th>\n",
       "      <th>winddirection_10m</th>\n",
       "      <th>shortwave_radiation</th>\n",
       "      <th>direct_solar_radiation</th>\n",
       "      <th>diffuse_radiation</th>\n",
       "      <th>is_population_over_100k</th>\n",
       "      <th>is_holiday</th>\n",
       "      <th>is_school_holiday</th>\n",
       "      <th>target</th>\n",
       "    </tr>\n",
       "  </thead>\n",
       "  <tbody>\n",
       "    <tr>\n",
       "      <th>0</th>\n",
       "      <td>0</td>\n",
       "      <td>0</td>\n",
       "      <td>1</td>\n",
       "      <td>0</td>\n",
       "      <td>2022-02-09</td>\n",
       "      <td>2022-02-09</td>\n",
       "      <td>167.90799</td>\n",
       "      <td>-45.119922</td>\n",
       "      <td>0</td>\n",
       "      <td>2</td>\n",
       "      <td>...</td>\n",
       "      <td>0.0</td>\n",
       "      <td>4.69</td>\n",
       "      <td>154.0</td>\n",
       "      <td>0.0</td>\n",
       "      <td>0.0</td>\n",
       "      <td>0.0</td>\n",
       "      <td>1</td>\n",
       "      <td>0</td>\n",
       "      <td>0</td>\n",
       "      <td>0.212</td>\n",
       "    </tr>\n",
       "    <tr>\n",
       "      <th>1</th>\n",
       "      <td>0</td>\n",
       "      <td>0</td>\n",
       "      <td>2</td>\n",
       "      <td>1</td>\n",
       "      <td>2022-02-09</td>\n",
       "      <td>2022-02-09</td>\n",
       "      <td>167.90799</td>\n",
       "      <td>-45.119922</td>\n",
       "      <td>0</td>\n",
       "      <td>2</td>\n",
       "      <td>...</td>\n",
       "      <td>0.0</td>\n",
       "      <td>4.69</td>\n",
       "      <td>154.0</td>\n",
       "      <td>0.0</td>\n",
       "      <td>0.0</td>\n",
       "      <td>0.0</td>\n",
       "      <td>1</td>\n",
       "      <td>0</td>\n",
       "      <td>0</td>\n",
       "      <td>0.000</td>\n",
       "    </tr>\n",
       "    <tr>\n",
       "      <th>2</th>\n",
       "      <td>0</td>\n",
       "      <td>0</td>\n",
       "      <td>3</td>\n",
       "      <td>2</td>\n",
       "      <td>2022-02-09</td>\n",
       "      <td>2022-02-09</td>\n",
       "      <td>167.90799</td>\n",
       "      <td>-45.119922</td>\n",
       "      <td>0</td>\n",
       "      <td>2</td>\n",
       "      <td>...</td>\n",
       "      <td>0.0</td>\n",
       "      <td>4.69</td>\n",
       "      <td>154.0</td>\n",
       "      <td>0.0</td>\n",
       "      <td>0.0</td>\n",
       "      <td>0.0</td>\n",
       "      <td>1</td>\n",
       "      <td>0</td>\n",
       "      <td>0</td>\n",
       "      <td>0.005</td>\n",
       "    </tr>\n",
       "    <tr>\n",
       "      <th>3</th>\n",
       "      <td>0</td>\n",
       "      <td>1</td>\n",
       "      <td>0</td>\n",
       "      <td>3</td>\n",
       "      <td>2022-02-09</td>\n",
       "      <td>2022-02-09</td>\n",
       "      <td>167.90799</td>\n",
       "      <td>-45.119922</td>\n",
       "      <td>0</td>\n",
       "      <td>2</td>\n",
       "      <td>...</td>\n",
       "      <td>0.0</td>\n",
       "      <td>4.69</td>\n",
       "      <td>154.0</td>\n",
       "      <td>0.0</td>\n",
       "      <td>0.0</td>\n",
       "      <td>0.0</td>\n",
       "      <td>1</td>\n",
       "      <td>0</td>\n",
       "      <td>0</td>\n",
       "      <td>0.000</td>\n",
       "    </tr>\n",
       "    <tr>\n",
       "      <th>4</th>\n",
       "      <td>0</td>\n",
       "      <td>1</td>\n",
       "      <td>1</td>\n",
       "      <td>4</td>\n",
       "      <td>2022-02-09</td>\n",
       "      <td>2022-02-09</td>\n",
       "      <td>167.90799</td>\n",
       "      <td>-45.119922</td>\n",
       "      <td>0</td>\n",
       "      <td>2</td>\n",
       "      <td>...</td>\n",
       "      <td>0.0</td>\n",
       "      <td>4.69</td>\n",
       "      <td>154.0</td>\n",
       "      <td>0.0</td>\n",
       "      <td>0.0</td>\n",
       "      <td>0.0</td>\n",
       "      <td>1</td>\n",
       "      <td>0</td>\n",
       "      <td>0</td>\n",
       "      <td>0.000</td>\n",
       "    </tr>\n",
       "  </tbody>\n",
       "</table>\n",
       "<p>5 rows × 47 columns</p>\n",
       "</div>"
      ],
      "text/plain": [
       "  county is_business product_type  prediction_unit_id   datetime       date  \\\n",
       "0      0           0            1                   0 2022-02-09 2022-02-09   \n",
       "1      0           0            2                   1 2022-02-09 2022-02-09   \n",
       "2      0           0            3                   2 2022-02-09 2022-02-09   \n",
       "3      0           1            0                   3 2022-02-09 2022-02-09   \n",
       "4      0           1            1                   4 2022-02-09 2022-02-09   \n",
       "\n",
       "   solar_azimuth  solar_altitude hour month  ... cloudcover_high  \\\n",
       "0      167.90799      -45.119922    0     2  ...             0.0   \n",
       "1      167.90799      -45.119922    0     2  ...             0.0   \n",
       "2      167.90799      -45.119922    0     2  ...             0.0   \n",
       "3      167.90799      -45.119922    0     2  ...             0.0   \n",
       "4      167.90799      -45.119922    0     2  ...             0.0   \n",
       "\n",
       "   windspeed_10m  winddirection_10m  shortwave_radiation  \\\n",
       "0           4.69              154.0                  0.0   \n",
       "1           4.69              154.0                  0.0   \n",
       "2           4.69              154.0                  0.0   \n",
       "3           4.69              154.0                  0.0   \n",
       "4           4.69              154.0                  0.0   \n",
       "\n",
       "   direct_solar_radiation  diffuse_radiation  is_population_over_100k  \\\n",
       "0                     0.0                0.0                        1   \n",
       "1                     0.0                0.0                        1   \n",
       "2                     0.0                0.0                        1   \n",
       "3                     0.0                0.0                        1   \n",
       "4                     0.0                0.0                        1   \n",
       "\n",
       "   is_holiday  is_school_holiday  target  \n",
       "0           0                  0   0.212  \n",
       "1           0                  0   0.000  \n",
       "2           0                  0   0.005  \n",
       "3           0                  0   0.000  \n",
       "4           0                  0   0.000  \n",
       "\n",
       "[5 rows x 47 columns]"
      ]
     },
     "execution_count": 8,
     "metadata": {},
     "output_type": "execute_result"
    }
   ],
   "source": [
    "data_prod_df.head()"
   ]
  },
  {
   "cell_type": "markdown",
   "id": "7563151d-e94a-4fee-ada7-32d962b76405",
   "metadata": {
    "tags": []
   },
   "source": [
    "## 2 - Features and target\n",
    "\n",
    "We separate the different types of features we have in our dataset, namely *datetime*, *categorical* and *numerical features*."
   ]
  },
  {
   "cell_type": "code",
   "execution_count": 9,
   "id": "96726775-4fd0-4cc1-bb59-07a748d7b839",
   "metadata": {
    "tags": []
   },
   "outputs": [],
   "source": [
    "data_prod_df[\"log1p_target_per_installed_capacity\"] = np.log1p(data_prod_df.target/data_prod_df.installed_capacity)"
   ]
  },
  {
   "cell_type": "code",
   "execution_count": 10,
   "id": "f6c4d04f-7bb5-472b-a5e2-756693f7682f",
   "metadata": {
    "tags": []
   },
   "outputs": [],
   "source": [
    "cat_feats, num_feats, cat_num_feats, target = get_feats_and_target(data_prod_df)"
   ]
  },
  {
   "cell_type": "code",
   "execution_count": 11,
   "id": "4e61355f-7de6-46e4-9f3e-5f9019c173cc",
   "metadata": {
    "tags": []
   },
   "outputs": [],
   "source": [
    "data_df = data_prod_df[data_prod_df['is_business'] == 1]\n",
    "data_train_df, data_val_df = my_train_val_split(data_df, date = '2023-05-24')"
   ]
  },
  {
   "cell_type": "code",
   "execution_count": 12,
   "id": "94d4ff90-c5ac-4ce4-8904-308e30c4d01c",
   "metadata": {
    "tags": []
   },
   "outputs": [],
   "source": [
    "X_train = data_train_df[cat_num_feats].copy()\n",
    "y_train = data_train_df[['datetime'] + target].copy()\n",
    "\n",
    "X_val = data_val_df[cat_num_feats].copy()\n",
    "y_val = data_val_df[['datetime'] + target].copy()"
   ]
  },
  {
   "cell_type": "markdown",
   "id": "dcc0a8ef-4a71-4d36-bf24-64f7903f6148",
   "metadata": {
    "tags": []
   },
   "source": [
    "##  3 - Hyperparameter tuning"
   ]
  },
  {
   "cell_type": "code",
   "execution_count": 13,
   "id": "e1e72594-ab17-4024-b26f-7a3621a247b1",
   "metadata": {
    "tags": []
   },
   "outputs": [
    {
     "name": "stderr",
     "output_type": "stream",
     "text": [
      "[I 2024-04-20 16:27:17,424] A new study created in memory with name: no-name-ec9c49dd-9954-49fe-93d4-d75aed9a9318\n",
      "[I 2024-04-20 16:32:00,074] Trial 0 finished with value: 87.44178080656717 and parameters: {'idx': 4, 'n_estimators': 1178, 'learning_rate': 0.07592279806927878, 'depth': 7, 'min_data_in_leaf': 42}. Best is trial 0 with value: 87.44178080656717.\n",
      "[I 2024-04-20 16:34:22,956] Trial 1 finished with value: 130.87197810953182 and parameters: {'idx': 0, 'n_estimators': 957, 'learning_rate': 0.006692709283172387, 'depth': 5, 'min_data_in_leaf': 47}. Best is trial 0 with value: 87.44178080656717.\n",
      "[I 2024-04-20 16:37:38,550] Trial 2 finished with value: 140.5626433420545 and parameters: {'idx': 1, 'n_estimators': 793, 'learning_rate': 0.0030765984771863055, 'depth': 9, 'min_data_in_leaf': 32}. Best is trial 0 with value: 87.44178080656717.\n",
      "[I 2024-04-20 16:41:02,046] Trial 3 finished with value: 131.2767259189026 and parameters: {'idx': 3, 'n_estimators': 853, 'learning_rate': 0.004584125432807026, 'depth': 9, 'min_data_in_leaf': 37}. Best is trial 0 with value: 87.44178080656717.\n",
      "[I 2024-04-20 16:42:44,646] Trial 4 finished with value: 127.52340024374236 and parameters: {'idx': 0, 'n_estimators': 527, 'learning_rate': 0.01090051881202899, 'depth': 7, 'min_data_in_leaf': 20}. Best is trial 0 with value: 87.44178080656717.\n",
      "[I 2024-04-20 16:44:39,646] Trial 5 finished with value: 115.63397426831196 and parameters: {'idx': 0, 'n_estimators': 523, 'learning_rate': 0.0200070677883537, 'depth': 8, 'min_data_in_leaf': 26}. Best is trial 0 with value: 87.44178080656717.\n",
      "[I 2024-04-20 16:47:29,381] Trial 6 finished with value: 121.26660673733706 and parameters: {'idx': 2, 'n_estimators': 814, 'learning_rate': 0.00945775791230155, 'depth': 7, 'min_data_in_leaf': 18}. Best is trial 0 with value: 87.44178080656717.\n",
      "[I 2024-04-20 16:52:08,147] Trial 7 finished with value: 97.66046113787102 and parameters: {'idx': 4, 'n_estimators': 1003, 'learning_rate': 0.01744512963786795, 'depth': 9, 'min_data_in_leaf': 71}. Best is trial 0 with value: 87.44178080656717.\n",
      "[I 2024-04-20 16:55:01,984] Trial 8 finished with value: 153.58657490885287 and parameters: {'idx': 1, 'n_estimators': 1092, 'learning_rate': 0.001767657628448406, 'depth': 5, 'min_data_in_leaf': 47}. Best is trial 0 with value: 87.44178080656717.\n",
      "[I 2024-04-20 16:58:20,254] Trial 9 finished with value: 136.04659451566764 and parameters: {'idx': 4, 'n_estimators': 1120, 'learning_rate': 0.0028420493757479667, 'depth': 6, 'min_data_in_leaf': 46}. Best is trial 0 with value: 87.44178080656717.\n",
      "[I 2024-04-20 17:01:03,879] Trial 10 finished with value: 94.28988283545999 and parameters: {'idx': 4, 'n_estimators': 1187, 'learning_rate': 0.09750083849973616, 'depth': 4, 'min_data_in_leaf': 86}. Best is trial 0 with value: 87.44178080656717.\n",
      "[I 2024-04-20 17:03:05,505] Trial 11 finished with value: 104.02961319430158 and parameters: {'idx': 4, 'n_estimators': 1160, 'learning_rate': 0.08095836840345572, 'depth': 3, 'min_data_in_leaf': 100}. Best is trial 0 with value: 87.44178080656717.\n",
      "[I 2024-04-20 17:05:10,094] Trial 12 finished with value: 102.64770526395611 and parameters: {'idx': 4, 'n_estimators': 1199, 'learning_rate': 0.09127360182661484, 'depth': 3, 'min_data_in_leaf': 71}. Best is trial 0 with value: 87.44178080656717.\n",
      "[I 2024-04-20 17:07:53,871] Trial 13 finished with value: 96.77582980770006 and parameters: {'idx': 4, 'n_estimators': 1013, 'learning_rate': 0.04060979844907261, 'depth': 5, 'min_data_in_leaf': 3}. Best is trial 0 with value: 87.44178080656717.\n",
      "[I 2024-04-20 17:10:18,314] Trial 14 finished with value: 97.88671904572811 and parameters: {'idx': 3, 'n_estimators': 1067, 'learning_rate': 0.04364272441346836, 'depth': 4, 'min_data_in_leaf': 68}. Best is trial 0 with value: 87.44178080656717.\n",
      "[I 2024-04-20 17:12:22,524] Trial 15 finished with value: 99.65849839895264 and parameters: {'idx': 2, 'n_estimators': 639, 'learning_rate': 0.04232057045654195, 'depth': 6, 'min_data_in_leaf': 95}. Best is trial 0 with value: 87.44178080656717.\n",
      "[I 2024-04-20 17:16:43,872] Trial 16 finished with value: 88.8934542923994 and parameters: {'idx': 4, 'n_estimators': 906, 'learning_rate': 0.09493823781336425, 'depth': 8, 'min_data_in_leaf': 65}. Best is trial 0 with value: 87.44178080656717.\n",
      "[I 2024-04-20 17:24:03,517] Trial 17 finished with value: 89.55683032837204 and parameters: {'idx': 4, 'n_estimators': 909, 'learning_rate': 0.025949094799219235, 'depth': 10, 'min_data_in_leaf': 60}. Best is trial 0 with value: 87.44178080656717.\n",
      "[I 2024-04-20 17:28:20,976] Trial 18 finished with value: 89.77111619826746 and parameters: {'idx': 4, 'n_estimators': 730, 'learning_rate': 0.054957971199525384, 'depth': 8, 'min_data_in_leaf': 82}. Best is trial 0 with value: 87.44178080656717.\n",
      "[I 2024-04-20 17:32:02,766] Trial 19 finished with value: 96.54787500283426 and parameters: {'idx': 2, 'n_estimators': 684, 'learning_rate': 0.03149979851026378, 'depth': 8, 'min_data_in_leaf': 60}. Best is trial 0 with value: 87.44178080656717.\n",
      "[I 2024-04-20 17:41:04,263] Trial 20 finished with value: 88.06071830336694 and parameters: {'idx': 1, 'n_estimators': 918, 'learning_rate': 0.06381124745362667, 'depth': 10, 'min_data_in_leaf': 59}. Best is trial 0 with value: 87.44178080656717.\n",
      "[I 2024-04-20 17:49:42,808] Trial 21 finished with value: 86.22560805893204 and parameters: {'idx': 1, 'n_estimators': 894, 'learning_rate': 0.06538478112172534, 'depth': 10, 'min_data_in_leaf': 59}. Best is trial 21 with value: 86.22560805893204.\n",
      "[I 2024-04-20 17:59:49,232] Trial 22 finished with value: 88.36368761890209 and parameters: {'idx': 1, 'n_estimators': 1021, 'learning_rate': 0.06012880462384713, 'depth': 10, 'min_data_in_leaf': 55}. Best is trial 21 with value: 86.22560805893204.\n",
      "[I 2024-04-20 18:08:38,706] Trial 23 finished with value: 85.1705194313398 and parameters: {'idx': 1, 'n_estimators': 918, 'learning_rate': 0.059801874640713064, 'depth': 10, 'min_data_in_leaf': 41}. Best is trial 23 with value: 85.1705194313398.\n",
      "[I 2024-04-20 18:13:21,697] Trial 24 finished with value: 93.69071777076618 and parameters: {'idx': 1, 'n_estimators': 762, 'learning_rate': 0.026726990740613764, 'depth': 9, 'min_data_in_leaf': 38}. Best is trial 23 with value: 85.1705194313398.\n",
      "[I 2024-04-20 18:20:27,903] Trial 25 finished with value: 105.50185793359505 and parameters: {'idx': 1, 'n_estimators': 963, 'learning_rate': 0.015915624563593047, 'depth': 10, 'min_data_in_leaf': 40}. Best is trial 23 with value: 85.1705194313398.\n",
      "[I 2024-04-20 18:25:17,520] Trial 26 finished with value: 90.85206632204849 and parameters: {'idx': 1, 'n_estimators': 871, 'learning_rate': 0.06237866585389017, 'depth': 7, 'min_data_in_leaf': 30}. Best is trial 23 with value: 85.1705194313398.\n",
      "[I 2024-04-20 18:29:24,968] Trial 27 finished with value: 89.40228496770044 and parameters: {'idx': 1, 'n_estimators': 608, 'learning_rate': 0.0384742493879142, 'depth': 9, 'min_data_in_leaf': 4}. Best is trial 23 with value: 85.1705194313398.\n",
      "[I 2024-04-20 18:39:40,134] Trial 28 finished with value: 87.58971570976604 and parameters: {'idx': 3, 'n_estimators': 1061, 'learning_rate': 0.06599837343856178, 'depth': 10, 'min_data_in_leaf': 51}. Best is trial 23 with value: 85.1705194313398.\n",
      "[I 2024-04-20 18:43:24,839] Trial 29 finished with value: 123.76547277753912 and parameters: {'idx': 0, 'n_estimators': 976, 'learning_rate': 0.010117472653007182, 'depth': 6, 'min_data_in_leaf': 43}. Best is trial 23 with value: 85.1705194313398.\n",
      "[I 2024-04-20 18:49:39,124] Trial 30 finished with value: 178.54940144028856 and parameters: {'idx': 1, 'n_estimators': 1128, 'learning_rate': 0.0010152602347392467, 'depth': 9, 'min_data_in_leaf': 78}. Best is trial 23 with value: 85.1705194313398.\n",
      "[I 2024-04-20 18:59:28,627] Trial 31 finished with value: 86.8191802690072 and parameters: {'idx': 3, 'n_estimators': 1075, 'learning_rate': 0.053591626105112616, 'depth': 10, 'min_data_in_leaf': 52}. Best is trial 23 with value: 85.1705194313398.\n",
      "[I 2024-04-20 19:07:11,012] Trial 32 finished with value: 84.40850744312488 and parameters: {'idx': 3, 'n_estimators': 1053, 'learning_rate': 0.04953717487552132, 'depth': 10, 'min_data_in_leaf': 52}. Best is trial 32 with value: 84.40850744312488.\n",
      "[I 2024-04-20 19:14:27,258] Trial 33 finished with value: 85.08876152747942 and parameters: {'idx': 3, 'n_estimators': 1048, 'learning_rate': 0.04894156861656693, 'depth': 10, 'min_data_in_leaf': 51}. Best is trial 32 with value: 84.40850744312488.\n",
      "[I 2024-04-20 19:19:38,461] Trial 34 finished with value: 87.39173141176563 and parameters: {'idx': 3, 'n_estimators': 820, 'learning_rate': 0.031140011796037086, 'depth': 10, 'min_data_in_leaf': 34}. Best is trial 32 with value: 84.40850744312488.\n",
      "[I 2024-04-20 19:23:53,164] Trial 35 finished with value: 93.20211613349949 and parameters: {'idx': 3, 'n_estimators': 938, 'learning_rate': 0.02121945803324282, 'depth': 9, 'min_data_in_leaf': 55}. Best is trial 32 with value: 84.40850744312488.\n",
      "[I 2024-04-20 19:28:05,491] Trial 36 finished with value: 114.56662274039849 and parameters: {'idx': 3, 'n_estimators': 862, 'learning_rate': 0.014197120585515574, 'depth': 9, 'min_data_in_leaf': 26}. Best is trial 32 with value: 84.40850744312488.\n",
      "[I 2024-04-20 19:34:34,823] Trial 37 finished with value: 122.23826385376876 and parameters: {'idx': 3, 'n_estimators': 1024, 'learning_rate': 0.00625391121199919, 'depth': 10, 'min_data_in_leaf': 46}. Best is trial 32 with value: 84.40850744312488.\n",
      "[I 2024-04-20 19:40:01,645] Trial 38 finished with value: 86.60756334099968 and parameters: {'idx': 3, 'n_estimators': 990, 'learning_rate': 0.047564105675676996, 'depth': 9, 'min_data_in_leaf': 76}. Best is trial 32 with value: 84.40850744312488.\n",
      "[I 2024-04-20 19:44:20,729] Trial 39 finished with value: 91.58688801519635 and parameters: {'idx': 0, 'n_estimators': 883, 'learning_rate': 0.07314105463872468, 'depth': 8, 'min_data_in_leaf': 15}. Best is trial 32 with value: 84.40850744312488.\n",
      "[I 2024-04-20 19:51:20,150] Trial 40 finished with value: 87.10416937418778 and parameters: {'idx': 1, 'n_estimators': 940, 'learning_rate': 0.031721271065027444, 'depth': 10, 'min_data_in_leaf': 64}. Best is trial 32 with value: 84.40850744312488.\n",
      "[I 2024-04-20 20:00:27,297] Trial 41 finished with value: 86.4490814534051 and parameters: {'idx': 3, 'n_estimators': 982, 'learning_rate': 0.04411081864342557, 'depth': 9, 'min_data_in_leaf': 75}. Best is trial 32 with value: 84.40850744312488.\n",
      "[I 2024-04-20 20:14:19,645] Trial 42 finished with value: 86.62905994434621 and parameters: {'idx': 3, 'n_estimators': 1037, 'learning_rate': 0.07684905202321003, 'depth': 10, 'min_data_in_leaf': 90}. Best is trial 32 with value: 84.40850744312488.\n",
      "[I 2024-04-20 20:24:18,627] Trial 43 finished with value: 88.41447302960266 and parameters: {'idx': 3, 'n_estimators': 1109, 'learning_rate': 0.023248277044195246, 'depth': 9, 'min_data_in_leaf': 42}. Best is trial 32 with value: 84.40850744312488.\n",
      "[I 2024-04-20 20:30:59,932] Trial 44 finished with value: 84.12082501533493 and parameters: {'idx': 3, 'n_estimators': 830, 'learning_rate': 0.049985670552441575, 'depth': 9, 'min_data_in_leaf': 50}. Best is trial 44 with value: 84.12082501533493.\n",
      "[I 2024-04-20 20:36:46,237] Trial 45 finished with value: 86.71874150974382 and parameters: {'idx': 2, 'n_estimators': 830, 'learning_rate': 0.035424988181311, 'depth': 10, 'min_data_in_leaf': 49}. Best is trial 44 with value: 84.12082501533493.\n",
      "[I 2024-04-20 20:42:21,842] Trial 46 finished with value: 88.68355113490436 and parameters: {'idx': 3, 'n_estimators': 780, 'learning_rate': 0.05504382350108076, 'depth': 10, 'min_data_in_leaf': 55}. Best is trial 44 with value: 84.12082501533493.\n",
      "[I 2024-04-20 20:48:31,869] Trial 47 finished with value: 87.99669579141676 and parameters: {'idx': 1, 'n_estimators': 1152, 'learning_rate': 0.07837917988337816, 'depth': 9, 'min_data_in_leaf': 35}. Best is trial 44 with value: 84.12082501533493.\n",
      "[I 2024-04-20 20:54:50,497] Trial 48 finished with value: 85.79208663855077 and parameters: {'idx': 0, 'n_estimators': 839, 'learning_rate': 0.05009001170833255, 'depth': 10, 'min_data_in_leaf': 44}. Best is trial 44 with value: 84.12082501533493.\n",
      "[I 2024-04-20 20:58:15,914] Trial 49 finished with value: 114.90763280870904 and parameters: {'idx': 0, 'n_estimators': 804, 'learning_rate': 0.012141212767221195, 'depth': 9, 'min_data_in_leaf': 31}. Best is trial 44 with value: 84.12082501533493.\n",
      "[I 2024-04-20 21:00:56,678] Trial 50 finished with value: 139.05600068684342 and parameters: {'idx': 0, 'n_estimators': 724, 'learning_rate': 0.0034377339604915987, 'depth': 8, 'min_data_in_leaf': 44}. Best is trial 44 with value: 84.12082501533493.\n",
      "[I 2024-04-20 21:06:46,000] Trial 51 finished with value: 89.58593007623558 and parameters: {'idx': 0, 'n_estimators': 840, 'learning_rate': 0.04919589406008056, 'depth': 10, 'min_data_in_leaf': 50}. Best is trial 44 with value: 84.12082501533493.\n",
      "[I 2024-04-20 21:12:57,405] Trial 52 finished with value: 87.7339132832198 and parameters: {'idx': 0, 'n_estimators': 888, 'learning_rate': 0.09985894540187469, 'depth': 10, 'min_data_in_leaf': 62}. Best is trial 44 with value: 84.12082501533493.\n",
      "[I 2024-04-20 21:17:50,399] Trial 53 finished with value: 86.74437280648003 and parameters: {'idx': 3, 'n_estimators': 774, 'learning_rate': 0.03616560804258979, 'depth': 10, 'min_data_in_leaf': 56}. Best is trial 44 with value: 84.12082501533493.\n",
      "[I 2024-04-20 21:24:36,304] Trial 54 finished with value: 89.94885377997032 and parameters: {'idx': 2, 'n_estimators': 942, 'learning_rate': 0.07082953302064343, 'depth': 10, 'min_data_in_leaf': 67}. Best is trial 44 with value: 84.12082501533493.\n",
      "[I 2024-04-20 21:27:25,398] Trial 55 finished with value: 93.93483513952242 and parameters: {'idx': 1, 'n_estimators': 738, 'learning_rate': 0.08212900140929011, 'depth': 7, 'min_data_in_leaf': 38}. Best is trial 44 with value: 84.12082501533493.\n",
      "[I 2024-04-20 21:32:04,839] Trial 56 finished with value: 87.71931591649803 and parameters: {'idx': 3, 'n_estimators': 906, 'learning_rate': 0.04795454694217969, 'depth': 9, 'min_data_in_leaf': 47}. Best is trial 44 with value: 84.12082501533493.\n",
      "[I 2024-04-20 21:37:35,119] Trial 57 finished with value: 86.71337087951179 and parameters: {'idx': 0, 'n_estimators': 845, 'learning_rate': 0.030275846321857078, 'depth': 10, 'min_data_in_leaf': 57}. Best is trial 44 with value: 84.12082501533493.\n",
      "[I 2024-04-20 21:42:47,205] Trial 58 finished with value: 89.31940113718507 and parameters: {'idx': 1, 'n_estimators': 1056, 'learning_rate': 0.026150296096858885, 'depth': 9, 'min_data_in_leaf': 52}. Best is trial 44 with value: 84.12082501533493.\n",
      "[I 2024-04-20 21:45:03,216] Trial 59 finished with value: 133.2271126428565 and parameters: {'idx': 3, 'n_estimators': 1093, 'learning_rate': 0.008389255002651858, 'depth': 4, 'min_data_in_leaf': 41}. Best is trial 44 with value: 84.12082501533493.\n"
     ]
    }
   ],
   "source": [
    "study = optuna.create_study(direction='minimize')\n",
    "study.optimize(objective, n_trials=60)"
   ]
  },
  {
   "cell_type": "code",
   "execution_count": 14,
   "id": "30f19e2c-1456-49f3-82f7-62bf18dd72e8",
   "metadata": {},
   "outputs": [
    {
     "name": "stdout",
     "output_type": "stream",
     "text": [
      "Best MAE for validation set: 84.12082501533493\n"
     ]
    }
   ],
   "source": [
    "fixed_ignored_feats = ['shortwave_radiation', 'installed_capacity', \n",
    "                       \"is_school_holiday\", \"is_holiday\", \"is_weekend\", \n",
    "                       \"cloudcover_high\", 'highest_price_per_mwh', \"snowfall\",\n",
    "                       'lowest_price_per_mwh', 'euros_per_mwh', 'prediction_unit_id'\n",
    "                      ]\n",
    "    \n",
    "ignored_feats = [fixed_ignored_feats, \n",
    "                 fixed_ignored_feats + ['is_population_over_100k'], \n",
    "                 fixed_ignored_feats + ['windspeed_10m', \"winddirection_10m\"],\n",
    "                 fixed_ignored_feats + ['is_population_over_100k', 'windspeed_10m', \"winddirection_10m\"], \n",
    "                 fixed_ignored_feats + ['highest_price_per_mwh_21_weeks_lag', 'lowest_price_per_mwh_21_weeks_lag', \n",
    "                                        'highest_price_per_mwh_23_weeks_lag', 'lowest_price_per_mwh_23_weeks_lag']\n",
    "                ] \n",
    "\n",
    "business_prod_best_params = study.best_params\n",
    "print('Best MAE for validation set:', study.best_value)\n",
    "\n",
    "idx = business_prod_best_params.get('idx')\n",
    "del business_prod_best_params['idx']\n",
    "business_prod_best_params.update({'ignored_features' : ignored_feats[idx], \n",
    "                                 'cat_features' : cat_feats, \n",
    "                                 'MAE' : study.best_value})\n",
    "\n",
    "with open(\"best_parameters_business_production_final.json\", \"w\") as outfile: \n",
    "    json.dump(business_prod_best_params, outfile)"
   ]
  },
  {
   "cell_type": "code",
   "execution_count": 15,
   "id": "d292c6b3-cf69-4e5d-b75c-d9f4b0a939b9",
   "metadata": {
    "tags": []
   },
   "outputs": [
    {
     "name": "stdout",
     "output_type": "stream",
     "text": [
      "Contribution to the overall MAE: 22.855054632096973\n"
     ]
    }
   ],
   "source": [
    "cont_overall_mae = study.best_value*data_df['target'].size/(2*data_prod_df['target'].size)\n",
    "print('Contribution to the overall MAE:', cont_overall_mae)"
   ]
  }
 ],
 "metadata": {
  "kernelspec": {
   "display_name": "Python 3 (ipykernel)",
   "language": "python",
   "name": "python3"
  },
  "language_info": {
   "codemirror_mode": {
    "name": "ipython",
    "version": 3
   },
   "file_extension": ".py",
   "mimetype": "text/x-python",
   "name": "python",
   "nbconvert_exporter": "python",
   "pygments_lexer": "ipython3",
   "version": "3.11.3"
  }
 },
 "nbformat": 4,
 "nbformat_minor": 5
}
