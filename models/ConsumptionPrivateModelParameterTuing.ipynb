{
 "cells": [
  {
   "cell_type": "markdown",
   "id": "649edd05-f69c-4532-a6b7-9d6a85ce57d1",
   "metadata": {
    "tags": []
   },
   "source": [
    "# **Model for Private Energy Consumption**\n",
    "\n",
    "The aim of this notebook is to create a baseline model for the deterministc part of the solar energy production time series, treated here as a cross-sectional problem. Furthermore, we will de-trend and de-seasonal the data."
   ]
  },
  {
   "cell_type": "markdown",
   "id": "d0080676-fb05-43c0-8366-9a647f2a1592",
   "metadata": {
    "tags": []
   },
   "source": [
    "## 0 - Set up"
   ]
  },
  {
   "cell_type": "markdown",
   "id": "8f4fc8c2-f5b8-4956-9a4e-752c4bd9a407",
   "metadata": {
    "tags": []
   },
   "source": [
    "### 0.1 - Loading relevant packages"
   ]
  },
  {
   "cell_type": "code",
   "execution_count": 1,
   "id": "a52871f4-84e8-4042-8620-5be57b75bc05",
   "metadata": {},
   "outputs": [],
   "source": [
    "#for handling the data\n",
    "import numpy as np\n",
    "import pandas as pd\n",
    "\n",
    "#for visualisation\n",
    "import matplotlib.pyplot as plt\n",
    "import seaborn as sns\n",
    "\n",
    "sns.set() # set seaborn as default style\n",
    "\n",
    "\n",
    "#for the modelling\n",
    "from catboost import CatBoostRegressor, Pool\n",
    "\n",
    "#for hyperparameter tunning\n",
    "import optuna\n",
    "\n",
    "#for model evaluation\n",
    "from sklearn.metrics import mean_absolute_error, root_mean_squared_error, r2_score, mean_absolute_percentage_error, make_scorer\n",
    "\n",
    "\n",
    "#model serilasation\n",
    "import pickle as pk\n",
    "\n",
    "#miscellania\n",
    "import json\n",
    "import warnings\n",
    "warnings.filterwarnings(\"ignore\")\n",
    "\n",
    "RSEED = 42"
   ]
  },
  {
   "cell_type": "markdown",
   "id": "93ee0819-f844-4509-8050-249f59d4b90f",
   "metadata": {
    "tags": []
   },
   "source": [
    "### 0.2 - User-defined functions"
   ]
  },
  {
   "cell_type": "markdown",
   "id": "347405b7-d719-40f2-b6fb-73e8a1a334e3",
   "metadata": {
    "tags": []
   },
   "source": [
    "#### Optuna objective function"
   ]
  },
  {
   "cell_type": "code",
   "execution_count": 2,
   "id": "4f9af36e-5a75-4792-aaef-88660a11f703",
   "metadata": {
    "tags": []
   },
   "outputs": [],
   "source": [
    "def objective(trial):\n",
    "    \n",
    "    fixed_ignored_feats = ['shortwave_radiation', 'eic_count', \"is_business\",\n",
    "                           \"cloudcover_high\", \"rain\", \"snowfall\", 'highest_price_per_mwh', \n",
    "                           'lowest_price_per_mwh', 'euros_per_mwh', 'prediction_unit_id']\n",
    "    \n",
    "    ignored_feats = [fixed_ignored_feats,\n",
    "                     fixed_ignored_feats + [\"is_holiday\", \"is_school_holiday\"],\n",
    "                     fixed_ignored_feats + [\"solar_azimuth\", \"solar_altitude\"], \n",
    "                     fixed_ignored_feats + [\"windspeed_10m\", \"winddirection_10m\"],\n",
    "                     fixed_ignored_feats + [\"solar_azimuth\", \"solar_altitude\", \"windspeed_10m\", \"winddirection_10m\"]\n",
    "                    ]    \n",
    "    \n",
    "    idx = trial.suggest_categorical('idx', [0, 1, 2, 3, 4])\n",
    "    \n",
    "    params = {\n",
    "        \"n_estimators\": trial.suggest_int(\"n_estimators\", 500, 1200),\n",
    "        \"task_type\" : 'CPU',\n",
    "        \"learning_rate\": trial.suggest_float(\"learning_rate\", 1e-3, 0.1, log=True),\n",
    "        \"depth\": trial.suggest_int(\"depth\", 3, 10),\n",
    "        \"min_data_in_leaf\": trial.suggest_int(\"min_data_in_leaf\", 1, 100),\n",
    "        \"ignored_features\" : ignored_feats[idx],\n",
    "        \"loss_function\" : 'RMSE',\n",
    "        \"eval_metric\" : MAE_EXP(),\n",
    "        \"use_best_model\" : True,\n",
    "        \"random_seed\" : RSEED,\n",
    "        \"cat_features\" : cat_feats\n",
    "    }\n",
    "\n",
    "\n",
    "    weight_train = np.array(X_train.eic_count)\n",
    "    weight_val = np.array(X_val.eic_count)\n",
    "\n",
    "    train_data = Pool(data = X_train, \n",
    "                      label = y_train.log1p_target_per_eic_count, \n",
    "                      weight = weight_train, \n",
    "                      cat_features = cat_feats\n",
    "                     )\n",
    "\n",
    "\n",
    "    eval_data = Pool(data = X_val, \n",
    "                     label = y_val.log1p_target_per_eic_count, \n",
    "                     weight = weight_val, \n",
    "                     cat_features = cat_feats\n",
    "                    )\n",
    "\n",
    "\n",
    "    model = CatBoostRegressor(**params, silent=True)\n",
    "    model.fit(train_data, eval_set = eval_data)\n",
    "    predictions = model.predict(X_val)\n",
    "    \n",
    "    y_true = np.array(y_val.target)\n",
    "    y_pred = np.expm1(np.array(predictions))*weight_val\n",
    "    \n",
    "    mae_score = mean_absolute_error(y_true, y_pred)\n",
    "    \n",
    "    return mae_score"
   ]
  },
  {
   "cell_type": "markdown",
   "id": "414ad30f-21b1-4c67-a5d0-63c7c52ca661",
   "metadata": {},
   "source": [
    "#### MAE with exponentials"
   ]
  },
  {
   "cell_type": "code",
   "execution_count": 3,
   "id": "714e86f2-3413-4b52-8fc3-ead30790c76a",
   "metadata": {
    "tags": []
   },
   "outputs": [],
   "source": [
    "class MAE_EXP:\n",
    "   \n",
    "    def is_max_optimal(self):\n",
    "        return False # lower is better\n",
    "\n",
    "    def evaluate(self, approxes, target, weight):\n",
    " \n",
    "        y_true = np.exp(np.array(target))\n",
    "        y_pred = np.exp(np.array(approxes))\n",
    "        w = np.array(weight)\n",
    "        \n",
    "        \n",
    "        score = np.mean(np.abs(y_true - y_pred)*w)\n",
    "        return score, 1\n",
    "\n",
    "    def get_final_error(self, error, weight):\n",
    "        return error"
   ]
  },
  {
   "cell_type": "markdown",
   "id": "340ecb7e-7b51-4c0b-a7b6-ee771ab2b0ef",
   "metadata": {
    "tags": []
   },
   "source": [
    "#### Get targets and features"
   ]
  },
  {
   "cell_type": "code",
   "execution_count": 4,
   "id": "763a46dc-38b3-4d95-91d4-f5423c1cef31",
   "metadata": {},
   "outputs": [],
   "source": [
    "def get_feats_and_target(df):\n",
    "    \n",
    "    datetime_feats = df.select_dtypes(include=[\"datetime64\"]).columns.to_list()\n",
    "    cat_feats = df.select_dtypes(include=[\"category\"]).columns.to_list()\n",
    "    num_cols = df.select_dtypes(include=[\"float64\", \"int64\"]).columns.to_list()\n",
    "    \n",
    "    num_feats = [elem for elem in num_cols if \"target\" not in elem]\n",
    "    target = [elem for elem in num_cols if elem not in num_feats]\n",
    "    \n",
    "    cat_num_feats = cat_feats + num_feats\n",
    "        \n",
    "    return cat_feats, num_feats, cat_num_feats, target"
   ]
  },
  {
   "cell_type": "markdown",
   "id": "c1ac648a-ca9c-40b2-b83e-481c5934f8f5",
   "metadata": {},
   "source": [
    "#### Train/validation split"
   ]
  },
  {
   "cell_type": "code",
   "execution_count": 5,
   "id": "be5c2e26-e7d1-4cb8-a602-decca86e5390",
   "metadata": {},
   "outputs": [],
   "source": [
    "def my_train_val_split(df, date):\n",
    "\n",
    "    train_cond = pd.to_datetime(df['date']) < pd.to_datetime(date)\n",
    "    val_cond = pd.to_datetime(df['date']) >= pd.to_datetime(date)\n",
    "    \n",
    "    df_train = df[train_cond]\n",
    "    df_val = df[val_cond]\n",
    "    \n",
    "    return df_train, df_val"
   ]
  },
  {
   "cell_type": "markdown",
   "id": "24151829-080e-43f2-b316-ddda5b02147d",
   "metadata": {
    "tags": []
   },
   "source": [
    "## 1 - Loading the data"
   ]
  },
  {
   "cell_type": "code",
   "execution_count": 6,
   "id": "22546c56-dc5f-4007-94c8-1f76676366d0",
   "metadata": {
    "tags": []
   },
   "outputs": [],
   "source": [
    "data_cons_df = pd.read_csv('../data/data_consumption.csv', parse_dates = [\"datetime\", \"date\"])"
   ]
  },
  {
   "cell_type": "code",
   "execution_count": 7,
   "id": "74269ec4-9857-49f6-b9e5-7a545ea1e3c1",
   "metadata": {
    "tags": []
   },
   "outputs": [],
   "source": [
    "cat_cols = [\n",
    "    \"county\",\n",
    "    \"is_business\",\n",
    "    \"product_type\",\n",
    "    \"hour\",\n",
    "    \"month\",\n",
    "    \"is_weekend\",\n",
    "    \"is_holiday\",\n",
    "    \"is_school_holiday\",\n",
    "    \"is_population_over_100k\"\n",
    "]\n",
    "\n",
    "data_cons_df[cat_cols] = data_cons_df[cat_cols].astype(\"category\")"
   ]
  },
  {
   "cell_type": "code",
   "execution_count": 8,
   "id": "87105cb2-790f-4f14-ac79-ce3e2fb41509",
   "metadata": {
    "tags": []
   },
   "outputs": [
    {
     "data": {
      "text/html": [
       "<div>\n",
       "<style scoped>\n",
       "    .dataframe tbody tr th:only-of-type {\n",
       "        vertical-align: middle;\n",
       "    }\n",
       "\n",
       "    .dataframe tbody tr th {\n",
       "        vertical-align: top;\n",
       "    }\n",
       "\n",
       "    .dataframe thead th {\n",
       "        text-align: right;\n",
       "    }\n",
       "</style>\n",
       "<table border=\"1\" class=\"dataframe\">\n",
       "  <thead>\n",
       "    <tr style=\"text-align: right;\">\n",
       "      <th></th>\n",
       "      <th>county</th>\n",
       "      <th>is_business</th>\n",
       "      <th>product_type</th>\n",
       "      <th>prediction_unit_id</th>\n",
       "      <th>datetime</th>\n",
       "      <th>date</th>\n",
       "      <th>solar_azimuth</th>\n",
       "      <th>solar_altitude</th>\n",
       "      <th>hour</th>\n",
       "      <th>month</th>\n",
       "      <th>...</th>\n",
       "      <th>cloudcover_high</th>\n",
       "      <th>windspeed_10m</th>\n",
       "      <th>winddirection_10m</th>\n",
       "      <th>shortwave_radiation</th>\n",
       "      <th>direct_solar_radiation</th>\n",
       "      <th>diffuse_radiation</th>\n",
       "      <th>is_population_over_100k</th>\n",
       "      <th>is_holiday</th>\n",
       "      <th>is_school_holiday</th>\n",
       "      <th>target</th>\n",
       "    </tr>\n",
       "  </thead>\n",
       "  <tbody>\n",
       "    <tr>\n",
       "      <th>0</th>\n",
       "      <td>0</td>\n",
       "      <td>0</td>\n",
       "      <td>1</td>\n",
       "      <td>0</td>\n",
       "      <td>2022-02-09</td>\n",
       "      <td>2022-02-09</td>\n",
       "      <td>167.90799</td>\n",
       "      <td>-45.119922</td>\n",
       "      <td>0</td>\n",
       "      <td>2</td>\n",
       "      <td>...</td>\n",
       "      <td>0.0</td>\n",
       "      <td>4.69</td>\n",
       "      <td>154.0</td>\n",
       "      <td>0.0</td>\n",
       "      <td>0.0</td>\n",
       "      <td>0.0</td>\n",
       "      <td>1</td>\n",
       "      <td>0</td>\n",
       "      <td>0</td>\n",
       "      <td>450.947</td>\n",
       "    </tr>\n",
       "    <tr>\n",
       "      <th>1</th>\n",
       "      <td>0</td>\n",
       "      <td>0</td>\n",
       "      <td>2</td>\n",
       "      <td>1</td>\n",
       "      <td>2022-02-09</td>\n",
       "      <td>2022-02-09</td>\n",
       "      <td>167.90799</td>\n",
       "      <td>-45.119922</td>\n",
       "      <td>0</td>\n",
       "      <td>2</td>\n",
       "      <td>...</td>\n",
       "      <td>0.0</td>\n",
       "      <td>4.69</td>\n",
       "      <td>154.0</td>\n",
       "      <td>0.0</td>\n",
       "      <td>0.0</td>\n",
       "      <td>0.0</td>\n",
       "      <td>1</td>\n",
       "      <td>0</td>\n",
       "      <td>0</td>\n",
       "      <td>40.182</td>\n",
       "    </tr>\n",
       "    <tr>\n",
       "      <th>2</th>\n",
       "      <td>0</td>\n",
       "      <td>0</td>\n",
       "      <td>3</td>\n",
       "      <td>2</td>\n",
       "      <td>2022-02-09</td>\n",
       "      <td>2022-02-09</td>\n",
       "      <td>167.90799</td>\n",
       "      <td>-45.119922</td>\n",
       "      <td>0</td>\n",
       "      <td>2</td>\n",
       "      <td>...</td>\n",
       "      <td>0.0</td>\n",
       "      <td>4.69</td>\n",
       "      <td>154.0</td>\n",
       "      <td>0.0</td>\n",
       "      <td>0.0</td>\n",
       "      <td>0.0</td>\n",
       "      <td>1</td>\n",
       "      <td>0</td>\n",
       "      <td>0</td>\n",
       "      <td>1501.646</td>\n",
       "    </tr>\n",
       "    <tr>\n",
       "      <th>3</th>\n",
       "      <td>0</td>\n",
       "      <td>1</td>\n",
       "      <td>0</td>\n",
       "      <td>3</td>\n",
       "      <td>2022-02-09</td>\n",
       "      <td>2022-02-09</td>\n",
       "      <td>167.90799</td>\n",
       "      <td>-45.119922</td>\n",
       "      <td>0</td>\n",
       "      <td>2</td>\n",
       "      <td>...</td>\n",
       "      <td>0.0</td>\n",
       "      <td>4.69</td>\n",
       "      <td>154.0</td>\n",
       "      <td>0.0</td>\n",
       "      <td>0.0</td>\n",
       "      <td>0.0</td>\n",
       "      <td>1</td>\n",
       "      <td>0</td>\n",
       "      <td>0</td>\n",
       "      <td>314.820</td>\n",
       "    </tr>\n",
       "    <tr>\n",
       "      <th>4</th>\n",
       "      <td>0</td>\n",
       "      <td>1</td>\n",
       "      <td>1</td>\n",
       "      <td>4</td>\n",
       "      <td>2022-02-09</td>\n",
       "      <td>2022-02-09</td>\n",
       "      <td>167.90799</td>\n",
       "      <td>-45.119922</td>\n",
       "      <td>0</td>\n",
       "      <td>2</td>\n",
       "      <td>...</td>\n",
       "      <td>0.0</td>\n",
       "      <td>4.69</td>\n",
       "      <td>154.0</td>\n",
       "      <td>0.0</td>\n",
       "      <td>0.0</td>\n",
       "      <td>0.0</td>\n",
       "      <td>1</td>\n",
       "      <td>0</td>\n",
       "      <td>0</td>\n",
       "      <td>882.220</td>\n",
       "    </tr>\n",
       "  </tbody>\n",
       "</table>\n",
       "<p>5 rows × 47 columns</p>\n",
       "</div>"
      ],
      "text/plain": [
       "  county is_business product_type  prediction_unit_id   datetime       date  \\\n",
       "0      0           0            1                   0 2022-02-09 2022-02-09   \n",
       "1      0           0            2                   1 2022-02-09 2022-02-09   \n",
       "2      0           0            3                   2 2022-02-09 2022-02-09   \n",
       "3      0           1            0                   3 2022-02-09 2022-02-09   \n",
       "4      0           1            1                   4 2022-02-09 2022-02-09   \n",
       "\n",
       "   solar_azimuth  solar_altitude hour month  ... cloudcover_high  \\\n",
       "0      167.90799      -45.119922    0     2  ...             0.0   \n",
       "1      167.90799      -45.119922    0     2  ...             0.0   \n",
       "2      167.90799      -45.119922    0     2  ...             0.0   \n",
       "3      167.90799      -45.119922    0     2  ...             0.0   \n",
       "4      167.90799      -45.119922    0     2  ...             0.0   \n",
       "\n",
       "   windspeed_10m  winddirection_10m  shortwave_radiation  \\\n",
       "0           4.69              154.0                  0.0   \n",
       "1           4.69              154.0                  0.0   \n",
       "2           4.69              154.0                  0.0   \n",
       "3           4.69              154.0                  0.0   \n",
       "4           4.69              154.0                  0.0   \n",
       "\n",
       "   direct_solar_radiation  diffuse_radiation  is_population_over_100k  \\\n",
       "0                     0.0                0.0                        1   \n",
       "1                     0.0                0.0                        1   \n",
       "2                     0.0                0.0                        1   \n",
       "3                     0.0                0.0                        1   \n",
       "4                     0.0                0.0                        1   \n",
       "\n",
       "   is_holiday  is_school_holiday    target  \n",
       "0           0                  0   450.947  \n",
       "1           0                  0    40.182  \n",
       "2           0                  0  1501.646  \n",
       "3           0                  0   314.820  \n",
       "4           0                  0   882.220  \n",
       "\n",
       "[5 rows x 47 columns]"
      ]
     },
     "execution_count": 8,
     "metadata": {},
     "output_type": "execute_result"
    }
   ],
   "source": [
    "data_cons_df.head()"
   ]
  },
  {
   "cell_type": "markdown",
   "id": "7563151d-e94a-4fee-ada7-32d962b76405",
   "metadata": {
    "tags": []
   },
   "source": [
    "## 2 - Features and target\n",
    "\n",
    "We separate the different types of features we have in our dataset, namely *datetime*, *categorical* and *numerical features*."
   ]
  },
  {
   "cell_type": "code",
   "execution_count": 9,
   "id": "e9da4fcb-9222-4acd-8229-175d326e69a6",
   "metadata": {
    "tags": []
   },
   "outputs": [],
   "source": [
    "data_cons_df[\"log1p_target_per_eic_count\"] = np.log1p(data_cons_df.target/data_cons_df.eic_count)"
   ]
  },
  {
   "cell_type": "code",
   "execution_count": 10,
   "id": "6f5f76a0-4051-4647-b117-e1ab7868bd1d",
   "metadata": {
    "tags": []
   },
   "outputs": [],
   "source": [
    "cat_feats, num_feats, cat_num_feats, target = get_feats_and_target(data_cons_df)"
   ]
  },
  {
   "cell_type": "code",
   "execution_count": 11,
   "id": "617efeee-1f11-4c8a-9818-0bc4d96258dd",
   "metadata": {
    "tags": []
   },
   "outputs": [],
   "source": [
    "data_df = data_cons_df[data_cons_df['is_business'] == 0]\n",
    "data_train_df, data_val_df = my_train_val_split(data_df, date = '2023-05-24')"
   ]
  },
  {
   "cell_type": "code",
   "execution_count": 12,
   "id": "3cd94aa0-cdd2-4087-a5d2-b39b3b166e86",
   "metadata": {
    "tags": []
   },
   "outputs": [],
   "source": [
    "X_train = data_train_df[cat_num_feats].copy()\n",
    "y_train = data_train_df[['datetime'] + target].copy()\n",
    "\n",
    "X_val = data_val_df[cat_num_feats].copy()\n",
    "y_val = data_val_df[['datetime'] + target].copy()"
   ]
  },
  {
   "cell_type": "markdown",
   "id": "dcc0a8ef-4a71-4d36-bf24-64f7903f6148",
   "metadata": {
    "tags": []
   },
   "source": [
    "##  3 - Hyperparameter tuning"
   ]
  },
  {
   "cell_type": "code",
   "execution_count": 13,
   "id": "e1e72594-ab17-4024-b26f-7a3621a247b1",
   "metadata": {
    "tags": []
   },
   "outputs": [
    {
     "name": "stderr",
     "output_type": "stream",
     "text": [
      "[I 2024-04-20 00:41:16,184] A new study created in memory with name: no-name-af959f8c-1144-4715-a66e-4f5f2d6ab682\n",
      "[I 2024-04-20 00:44:12,737] Trial 0 finished with value: 16.430047647995565 and parameters: {'idx': 0, 'n_estimators': 789, 'learning_rate': 0.007000208145846735, 'depth': 6, 'min_data_in_leaf': 38}. Best is trial 0 with value: 16.430047647995565.\n",
      "[I 2024-04-20 00:48:25,346] Trial 1 finished with value: 19.776691807136977 and parameters: {'idx': 0, 'n_estimators': 582, 'learning_rate': 0.005095376491431618, 'depth': 10, 'min_data_in_leaf': 78}. Best is trial 0 with value: 16.430047647995565.\n",
      "[I 2024-04-20 00:58:05,446] Trial 2 finished with value: 8.535979333383167 and parameters: {'idx': 2, 'n_estimators': 1096, 'learning_rate': 0.06678806819484756, 'depth': 10, 'min_data_in_leaf': 18}. Best is trial 2 with value: 8.535979333383167.\n",
      "[I 2024-04-20 00:59:34,098] Trial 3 finished with value: 10.783958087122683 and parameters: {'idx': 1, 'n_estimators': 559, 'learning_rate': 0.061171446552417554, 'depth': 4, 'min_data_in_leaf': 15}. Best is trial 2 with value: 8.535979333383167.\n",
      "[I 2024-04-20 01:01:17,216] Trial 4 finished with value: 17.376657833485968 and parameters: {'idx': 1, 'n_estimators': 929, 'learning_rate': 0.008293830041923944, 'depth': 3, 'min_data_in_leaf': 45}. Best is trial 2 with value: 8.535979333383167.\n",
      "[I 2024-04-20 01:05:11,877] Trial 5 finished with value: 29.734103253196743 and parameters: {'idx': 1, 'n_estimators': 779, 'learning_rate': 0.002199414605581162, 'depth': 8, 'min_data_in_leaf': 100}. Best is trial 2 with value: 8.535979333383167.\n",
      "[I 2024-04-20 01:10:08,508] Trial 6 finished with value: 9.472805575689007 and parameters: {'idx': 1, 'n_estimators': 525, 'learning_rate': 0.05097588061997304, 'depth': 10, 'min_data_in_leaf': 63}. Best is trial 2 with value: 8.535979333383167.\n",
      "[I 2024-04-20 01:14:26,882] Trial 7 finished with value: 9.395233201694937 and parameters: {'idx': 2, 'n_estimators': 1120, 'learning_rate': 0.024653453698893334, 'depth': 7, 'min_data_in_leaf': 19}. Best is trial 2 with value: 8.535979333383167.\n",
      "[I 2024-04-20 01:17:22,091] Trial 8 finished with value: 12.243674732401931 and parameters: {'idx': 0, 'n_estimators': 1126, 'learning_rate': 0.017913482585637668, 'depth': 5, 'min_data_in_leaf': 30}. Best is trial 2 with value: 8.535979333383167.\n",
      "[I 2024-04-20 01:18:24,633] Trial 9 finished with value: 29.181886368434096 and parameters: {'idx': 0, 'n_estimators': 639, 'learning_rate': 0.003159254112393587, 'depth': 3, 'min_data_in_leaf': 82}. Best is trial 2 with value: 8.535979333383167.\n",
      "[I 2024-04-20 01:22:45,118] Trial 10 finished with value: 40.566028956093874 and parameters: {'idx': 2, 'n_estimators': 981, 'learning_rate': 0.0011675364626930352, 'depth': 8, 'min_data_in_leaf': 4}. Best is trial 2 with value: 8.535979333383167.\n",
      "[I 2024-04-20 01:27:51,163] Trial 11 finished with value: 9.058242546476187 and parameters: {'idx': 2, 'n_estimators': 1172, 'learning_rate': 0.023741658772506207, 'depth': 8, 'min_data_in_leaf': 20}. Best is trial 2 with value: 8.535979333383167.\n",
      "[I 2024-04-20 01:34:16,183] Trial 12 finished with value: 8.52273289472515 and parameters: {'idx': 2, 'n_estimators': 1175, 'learning_rate': 0.09283165338609656, 'depth': 9, 'min_data_in_leaf': 1}. Best is trial 12 with value: 8.52273289472515.\n",
      "[I 2024-04-20 01:42:19,384] Trial 13 finished with value: 8.788718940418436 and parameters: {'idx': 4, 'n_estimators': 1030, 'learning_rate': 0.08416945127184602, 'depth': 10, 'min_data_in_leaf': 3}. Best is trial 12 with value: 8.52273289472515.\n",
      "[I 2024-04-20 01:50:15,973] Trial 14 finished with value: 8.384113764586314 and parameters: {'idx': 3, 'n_estimators': 1200, 'learning_rate': 0.09826892447138627, 'depth': 9, 'min_data_in_leaf': 2}. Best is trial 14 with value: 8.384113764586314.\n",
      "[I 2024-04-20 01:56:31,781] Trial 15 finished with value: 8.588779231947681 and parameters: {'idx': 3, 'n_estimators': 1200, 'learning_rate': 0.03015956018198058, 'depth': 9, 'min_data_in_leaf': 2}. Best is trial 14 with value: 8.384113764586314.\n",
      "[I 2024-04-20 02:00:49,610] Trial 16 finished with value: 8.324369000919805 and parameters: {'idx': 3, 'n_estimators': 892, 'learning_rate': 0.0947127181459636, 'depth': 7, 'min_data_in_leaf': 55}. Best is trial 16 with value: 8.324369000919805.\n",
      "[I 2024-04-20 02:03:39,448] Trial 17 finished with value: 9.449463565880398 and parameters: {'idx': 3, 'n_estimators': 865, 'learning_rate': 0.03825803714516573, 'depth': 6, 'min_data_in_leaf': 57}. Best is trial 16 with value: 8.324369000919805.\n",
      "[I 2024-04-20 02:05:56,589] Trial 18 finished with value: 14.324046146050334 and parameters: {'idx': 3, 'n_estimators': 687, 'learning_rate': 0.012719811079624064, 'depth': 7, 'min_data_in_leaf': 67}. Best is trial 16 with value: 8.324369000919805.\n",
      "[I 2024-04-20 02:08:45,901] Trial 19 finished with value: 9.138541423025648 and parameters: {'idx': 3, 'n_estimators': 1037, 'learning_rate': 0.045525347145625054, 'depth': 5, 'min_data_in_leaf': 45}. Best is trial 16 with value: 8.324369000919805.\n",
      "[I 2024-04-20 02:13:16,078] Trial 20 finished with value: 8.427254924913766 and parameters: {'idx': 3, 'n_estimators': 904, 'learning_rate': 0.09690235767582896, 'depth': 9, 'min_data_in_leaf': 31}. Best is trial 16 with value: 8.324369000919805.\n",
      "[I 2024-04-20 02:17:39,498] Trial 21 finished with value: 8.312423570415376 and parameters: {'idx': 3, 'n_estimators': 909, 'learning_rate': 0.08286482212272844, 'depth': 9, 'min_data_in_leaf': 30}. Best is trial 21 with value: 8.312423570415376.\n",
      "[I 2024-04-20 02:20:48,976] Trial 22 finished with value: 8.964575132946639 and parameters: {'idx': 3, 'n_estimators': 793, 'learning_rate': 0.05791170673074683, 'depth': 8, 'min_data_in_leaf': 53}. Best is trial 21 with value: 8.312423570415376.\n",
      "[I 2024-04-20 02:25:15,275] Trial 23 finished with value: 9.001171399614698 and parameters: {'idx': 3, 'n_estimators': 957, 'learning_rate': 0.03367823904004903, 'depth': 9, 'min_data_in_leaf': 34}. Best is trial 21 with value: 8.312423570415376.\n",
      "[I 2024-04-20 02:27:25,326] Trial 24 finished with value: 13.673621726878169 and parameters: {'idx': 4, 'n_estimators': 719, 'learning_rate': 0.015263655565402288, 'depth': 7, 'min_data_in_leaf': 71}. Best is trial 21 with value: 8.312423570415376.\n",
      "[I 2024-04-20 02:31:34,088] Trial 25 finished with value: 8.442252058280381 and parameters: {'idx': 3, 'n_estimators': 867, 'learning_rate': 0.07151416790974853, 'depth': 9, 'min_data_in_leaf': 25}. Best is trial 21 with value: 8.312423570415376.\n",
      "[I 2024-04-20 02:35:38,383] Trial 26 finished with value: 8.726729927131311 and parameters: {'idx': 3, 'n_estimators': 1018, 'learning_rate': 0.047824620462868714, 'depth': 8, 'min_data_in_leaf': 12}. Best is trial 21 with value: 8.312423570415376.\n",
      "[I 2024-04-20 02:38:45,126] Trial 27 finished with value: 8.995964387099773 and parameters: {'idx': 3, 'n_estimators': 1066, 'learning_rate': 0.09086226119704124, 'depth': 6, 'min_data_in_leaf': 49}. Best is trial 21 with value: 8.312423570415376.\n",
      "[I 2024-04-20 02:41:28,379] Trial 28 finished with value: 10.537812804676681 and parameters: {'idx': 3, 'n_estimators': 824, 'learning_rate': 0.022052629219490732, 'depth': 7, 'min_data_in_leaf': 40}. Best is trial 21 with value: 8.312423570415376.\n",
      "[I 2024-04-20 02:43:04,635] Trial 29 finished with value: 19.985262294860636 and parameters: {'idx': 4, 'n_estimators': 741, 'learning_rate': 0.005169630071906941, 'depth': 5, 'min_data_in_leaf': 59}. Best is trial 21 with value: 8.312423570415376.\n",
      "[I 2024-04-20 02:47:15,308] Trial 30 finished with value: 8.850563301430103 and parameters: {'idx': 3, 'n_estimators': 911, 'learning_rate': 0.03867102385263888, 'depth': 9, 'min_data_in_leaf': 36}. Best is trial 21 with value: 8.312423570415376.\n",
      "[I 2024-04-20 02:51:37,102] Trial 31 finished with value: 8.448300072681906 and parameters: {'idx': 3, 'n_estimators': 907, 'learning_rate': 0.09975206326349496, 'depth': 9, 'min_data_in_leaf': 25}. Best is trial 21 with value: 8.312423570415376.\n",
      "[I 2024-04-20 02:57:57,317] Trial 32 finished with value: 8.494632377609513 and parameters: {'idx': 3, 'n_estimators': 985, 'learning_rate': 0.07266425168788951, 'depth': 10, 'min_data_in_leaf': 9}. Best is trial 21 with value: 8.312423570415376.\n",
      "[I 2024-04-20 03:01:19,423] Trial 33 finished with value: 8.81390207376963 and parameters: {'idx': 3, 'n_estimators': 838, 'learning_rate': 0.06760750591820591, 'depth': 8, 'min_data_in_leaf': 29}. Best is trial 21 with value: 8.312423570415376.\n",
      "[I 2024-04-20 03:07:12,670] Trial 34 finished with value: 8.922362643638419 and parameters: {'idx': 0, 'n_estimators': 891, 'learning_rate': 0.09740848735983901, 'depth': 10, 'min_data_in_leaf': 42}. Best is trial 21 with value: 8.312423570415376.\n",
      "[I 2024-04-20 03:11:46,113] Trial 35 finished with value: 8.378798668619172 and parameters: {'idx': 3, 'n_estimators': 946, 'learning_rate': 0.05975192245688203, 'depth': 9, 'min_data_in_leaf': 81}. Best is trial 21 with value: 8.312423570415376.\n",
      "[I 2024-04-20 03:17:42,927] Trial 36 finished with value: 9.001261776007807 and parameters: {'idx': 3, 'n_estimators': 942, 'learning_rate': 0.0574802642335735, 'depth': 10, 'min_data_in_leaf': 88}. Best is trial 21 with value: 8.312423570415376.\n",
      "[I 2024-04-20 03:20:52,630] Trial 37 finished with value: 9.332308853576913 and parameters: {'idx': 1, 'n_estimators': 790, 'learning_rate': 0.04806810802541523, 'depth': 8, 'min_data_in_leaf': 96}. Best is trial 21 with value: 8.312423570415376.\n",
      "[I 2024-04-20 03:24:34,516] Trial 38 finished with value: 8.838525337138732 and parameters: {'idx': 3, 'n_estimators': 1072, 'learning_rate': 0.07070548951074966, 'depth': 7, 'min_data_in_leaf': 86}. Best is trial 21 with value: 8.312423570415376.\n",
      "[I 2024-04-20 03:27:22,004] Trial 39 finished with value: 8.626001841803092 and parameters: {'idx': 4, 'n_estimators': 983, 'learning_rate': 0.057477249574227035, 'depth': 6, 'min_data_in_leaf': 78}. Best is trial 21 with value: 8.312423570415376.\n",
      "[I 2024-04-20 03:29:34,114] Trial 40 finished with value: 10.848531955307791 and parameters: {'idx': 1, 'n_estimators': 1117, 'learning_rate': 0.029640167045738817, 'depth': 4, 'min_data_in_leaf': 71}. Best is trial 21 with value: 8.312423570415376.\n",
      "[I 2024-04-20 03:33:30,898] Trial 41 finished with value: 8.31844271860015 and parameters: {'idx': 3, 'n_estimators': 819, 'learning_rate': 0.08085437605684379, 'depth': 9, 'min_data_in_leaf': 52}. Best is trial 21 with value: 8.312423570415376.\n",
      "[I 2024-04-20 03:36:55,205] Trial 42 finished with value: 8.958292154465465 and parameters: {'idx': 3, 'n_estimators': 608, 'learning_rate': 0.07973922108223756, 'depth': 9, 'min_data_in_leaf': 54}. Best is trial 21 with value: 8.312423570415376.\n",
      "[I 2024-04-20 03:44:39,225] Trial 43 finished with value: 9.331289485902952 and parameters: {'idx': 0, 'n_estimators': 829, 'learning_rate': 0.04136588844919334, 'depth': 10, 'min_data_in_leaf': 63}. Best is trial 21 with value: 8.312423570415376.\n",
      "[I 2024-04-20 03:47:52,527] Trial 44 finished with value: 15.059510503644757 and parameters: {'idx': 3, 'n_estimators': 761, 'learning_rate': 0.008818451365808751, 'depth': 8, 'min_data_in_leaf': 51}. Best is trial 21 with value: 8.312423570415376.\n",
      "[I 2024-04-20 03:52:48,677] Trial 45 finished with value: 8.864791988440018 and parameters: {'idx': 3, 'n_estimators': 874, 'learning_rate': 0.059481546575701615, 'depth': 9, 'min_data_in_leaf': 9}. Best is trial 21 with value: 8.312423570415376.\n",
      "[I 2024-04-20 03:57:12,712] Trial 46 finished with value: 9.259148314952107 and parameters: {'idx': 2, 'n_estimators': 815, 'learning_rate': 0.07806035200755371, 'depth': 9, 'min_data_in_leaf': 48}. Best is trial 21 with value: 8.312423570415376.\n",
      "[I 2024-04-20 04:02:54,631] Trial 47 finished with value: 45.49351430960726 and parameters: {'idx': 3, 'n_estimators': 958, 'learning_rate': 0.0010196766978702945, 'depth': 10, 'min_data_in_leaf': 59}. Best is trial 21 with value: 8.312423570415376.\n",
      "[I 2024-04-20 04:05:56,595] Trial 48 finished with value: 40.58945548569422 and parameters: {'idx': 1, 'n_estimators': 708, 'learning_rate': 0.001632906566318927, 'depth': 8, 'min_data_in_leaf': 95}. Best is trial 21 with value: 8.312423570415376.\n",
      "[I 2024-04-20 04:12:19,632] Trial 49 finished with value: 18.314573114519703 and parameters: {'idx': 0, 'n_estimators': 1008, 'learning_rate': 0.0035753784895479618, 'depth': 10, 'min_data_in_leaf': 18}. Best is trial 21 with value: 8.312423570415376.\n",
      "[I 2024-04-20 04:14:43,611] Trial 50 finished with value: 9.12847344755127 and parameters: {'idx': 3, 'n_estimators': 646, 'learning_rate': 0.05247857084503764, 'depth': 7, 'min_data_in_leaf': 73}. Best is trial 21 with value: 8.312423570415376.\n",
      "[I 2024-04-20 04:19:45,595] Trial 51 finished with value: 8.228809557957241 and parameters: {'idx': 3, 'n_estimators': 922, 'learning_rate': 0.09946346439030349, 'depth': 9, 'min_data_in_leaf': 33}. Best is trial 51 with value: 8.228809557957241.\n",
      "[I 2024-04-20 04:24:54,622] Trial 52 finished with value: 8.69742248879477 and parameters: {'idx': 3, 'n_estimators': 923, 'learning_rate': 0.07798200950641483, 'depth': 9, 'min_data_in_leaf': 45}. Best is trial 51 with value: 8.228809557957241.\n",
      "[I 2024-04-20 04:28:49,395] Trial 53 finished with value: 8.456661295746489 and parameters: {'idx': 3, 'n_estimators': 858, 'learning_rate': 0.06393575711493617, 'depth': 8, 'min_data_in_leaf': 65}. Best is trial 51 with value: 8.228809557957241.\n",
      "[I 2024-04-20 04:33:56,851] Trial 54 finished with value: 8.482923909553513 and parameters: {'idx': 3, 'n_estimators': 940, 'learning_rate': 0.08007912626625102, 'depth': 9, 'min_data_in_leaf': 26}. Best is trial 51 with value: 8.228809557957241.\n",
      "[I 2024-04-20 04:38:45,500] Trial 55 finished with value: 9.041934342936898 and parameters: {'idx': 2, 'n_estimators': 875, 'learning_rate': 0.09928964115279242, 'depth': 9, 'min_data_in_leaf': 40}. Best is trial 51 with value: 8.228809557957241.\n",
      "[I 2024-04-20 04:43:57,471] Trial 56 finished with value: 8.50026301587792 and parameters: {'idx': 3, 'n_estimators': 1158, 'learning_rate': 0.0670272802550086, 'depth': 8, 'min_data_in_leaf': 15}. Best is trial 51 with value: 8.228809557957241.\n",
      "[I 2024-04-20 04:49:39,959] Trial 57 finished with value: 8.23043356100894 and parameters: {'idx': 3, 'n_estimators': 1055, 'learning_rate': 0.04375149114392185, 'depth': 9, 'min_data_in_leaf': 34}. Best is trial 51 with value: 8.228809557957241.\n",
      "[I 2024-04-20 04:52:57,642] Trial 58 finished with value: 9.937547613850896 and parameters: {'idx': 3, 'n_estimators': 506, 'learning_rate': 0.0341893615504987, 'depth': 10, 'min_data_in_leaf': 33}. Best is trial 51 with value: 8.228809557957241.\n",
      "[I 2024-04-20 04:55:21,834] Trial 59 finished with value: 9.837075266377164 and parameters: {'idx': 4, 'n_estimators': 1055, 'learning_rate': 0.04445888023879199, 'depth': 4, 'min_data_in_leaf': 23}. Best is trial 51 with value: 8.228809557957241.\n"
     ]
    }
   ],
   "source": [
    "study = optuna.create_study(direction='minimize')\n",
    "study.optimize(objective, n_trials=60)"
   ]
  },
  {
   "cell_type": "code",
   "execution_count": 14,
   "id": "30f19e2c-1456-49f3-82f7-62bf18dd72e8",
   "metadata": {},
   "outputs": [
    {
     "name": "stdout",
     "output_type": "stream",
     "text": [
      "Best MAE for validation set: 8.228809557957241\n"
     ]
    }
   ],
   "source": [
    "fixed_ignored_feats = ['shortwave_radiation', 'eic_count', \"is_business\",\n",
    "                       \"cloudcover_high\", \"rain\", \"snowfall\", 'highest_price_per_mwh', \n",
    "                       'lowest_price_per_mwh', 'euros_per_mwh', 'prediction_unit_id']\n",
    "    \n",
    "ignored_feats = [fixed_ignored_feats,\n",
    "                 fixed_ignored_feats + [\"is_holiday\", \"is_school_holiday\"],\n",
    "                 fixed_ignored_feats + [\"solar_azimuth\", \"solar_altitude\"], \n",
    "                 fixed_ignored_feats + [\"windspeed_10m\", \"winddirection_10m\"],\n",
    "                 fixed_ignored_feats + [\"solar_azimuth\", \"solar_altitude\", \"windspeed_10m\", \"winddirection_10m\"]\n",
    "                ]      \n",
    "\n",
    "private_cons_best_params = study.best_params\n",
    "print('Best MAE for validation set:', study.best_value)\n",
    "\n",
    "idx = private_cons_best_params.get('idx')\n",
    "del private_cons_best_params['idx']\n",
    "private_cons_best_params.update({'ignored_features' : ignored_feats[idx], \n",
    "                                 'cat_features' : cat_feats})\n",
    "\n",
    "with open(\"best_parameters_private_consumption_final.json\", \"w\") as outfile: \n",
    "    json.dump(private_cons_best_params, outfile)"
   ]
  },
  {
   "cell_type": "code",
   "execution_count": 15,
   "id": "6565970e-2f57-4246-829a-410b94ee8551",
   "metadata": {
    "tags": []
   },
   "outputs": [
    {
     "name": "stdout",
     "output_type": "stream",
     "text": [
      "Contribution to the overall MAE: 1.8786933250080964\n"
     ]
    }
   ],
   "source": [
    "cont_overall_mae = study.best_value*data_df['target'].size/(2*data_cons_df['target'].size)\n",
    "print('Contribution to the overall MAE:', cont_overall_mae)"
   ]
  }
 ],
 "metadata": {
  "kernelspec": {
   "display_name": "Python 3 (ipykernel)",
   "language": "python",
   "name": "python3"
  },
  "language_info": {
   "codemirror_mode": {
    "name": "ipython",
    "version": 3
   },
   "file_extension": ".py",
   "mimetype": "text/x-python",
   "name": "python",
   "nbconvert_exporter": "python",
   "pygments_lexer": "ipython3",
   "version": "3.11.3"
  }
 },
 "nbformat": 4,
 "nbformat_minor": 5
}
