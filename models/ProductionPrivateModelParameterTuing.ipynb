{
 "cells": [
  {
   "cell_type": "markdown",
   "id": "649edd05-f69c-4532-a6b7-9d6a85ce57d1",
   "metadata": {
    "tags": []
   },
   "source": [
    "# **Model for the Private Solar Energy Production**\n",
    "\n",
    "The aim of this notebook is to create a baseline model for the deterministc part of the solar energy production time series, treated here as a cross-sectional problem. Furthermore, we will de-trend and de-seasonal the data."
   ]
  },
  {
   "cell_type": "markdown",
   "id": "d0080676-fb05-43c0-8366-9a647f2a1592",
   "metadata": {
    "tags": []
   },
   "source": [
    "## 0 - Set up"
   ]
  },
  {
   "cell_type": "markdown",
   "id": "8f4fc8c2-f5b8-4956-9a4e-752c4bd9a407",
   "metadata": {
    "tags": []
   },
   "source": [
    "### 0.1 - Loading relevant packages"
   ]
  },
  {
   "cell_type": "code",
   "execution_count": 1,
   "id": "a52871f4-84e8-4042-8620-5be57b75bc05",
   "metadata": {},
   "outputs": [],
   "source": [
    "#for handling the data\n",
    "import numpy as np\n",
    "import pandas as pd\n",
    "\n",
    "#for visualisation\n",
    "import matplotlib.pyplot as plt\n",
    "import seaborn as sns\n",
    "\n",
    "sns.set() # set seaborn as default style\n",
    "\n",
    "\n",
    "#for the modelling\n",
    "from catboost import CatBoostRegressor, Pool\n",
    "\n",
    "#for hyperparameter tunning\n",
    "import optuna\n",
    "\n",
    "#for model evaluation\n",
    "from sklearn.metrics import mean_absolute_error\n",
    "\n",
    "\n",
    "#model serilasation\n",
    "import pickle as pk\n",
    "\n",
    "#miscellania\n",
    "import json\n",
    "import warnings\n",
    "warnings.filterwarnings(\"ignore\")\n",
    "\n",
    "RSEED = 42"
   ]
  },
  {
   "cell_type": "markdown",
   "id": "93ee0819-f844-4509-8050-249f59d4b90f",
   "metadata": {
    "tags": []
   },
   "source": [
    "### 0.2 - User-defined functions"
   ]
  },
  {
   "cell_type": "markdown",
   "id": "347405b7-d719-40f2-b6fb-73e8a1a334e3",
   "metadata": {
    "tags": []
   },
   "source": [
    "#### Optuna objective function"
   ]
  },
  {
   "cell_type": "code",
   "execution_count": 2,
   "id": "4f9af36e-5a75-4792-aaef-88660a11f703",
   "metadata": {
    "tags": []
   },
   "outputs": [],
   "source": [
    "def objective(trial):\n",
    "    \n",
    "    fixed_ignored_feats = ['shortwave_radiation', 'installed_capacity', \n",
    "                           \"is_school_holiday\", \"is_holiday\", \"is_weekend\", \n",
    "                           \"cloudcover_high\", 'highest_price_per_mwh', \"snowfall\",\n",
    "                           'lowest_price_per_mwh', 'euros_per_mwh', 'prediction_unit_id',\n",
    "                           \"is_population_over_100k\"\n",
    "                          ]\n",
    "    \n",
    "    ignored_feats = [fixed_ignored_feats,\n",
    "                     fixed_ignored_feats + [\"hour_number\", \"day_number\"],\n",
    "                     fixed_ignored_feats + [\"dewpoint\"],\n",
    "                     fixed_ignored_feats + ['windspeed_10m', \"winddirection_10m\"],\n",
    "                     fixed_ignored_feats + ['dewpoint', 'windspeed_10m', \"winddirection_10m\"], \n",
    "                     fixed_ignored_feats + ['highest_price_per_mwh_11_weeks_lag', 'lowest_price_per_mwh_11_weeks_lag', \n",
    "                                            'highest_price_per_mwh_23_weeks_lag', 'lowest_price_per_mwh_23_weeks_lag']\n",
    "                    ] \n",
    "    \n",
    "    idx = trial.suggest_categorical('idx', [0, 1, 2, 3, 4, 5])\n",
    "    \n",
    "    params = {\n",
    "        \"n_estimators\": trial.suggest_int(\"n_estimators\", 500, 1200),\n",
    "        \"task_type\" : 'CPU',\n",
    "        \"learning_rate\": trial.suggest_float(\"learning_rate\", 1e-3, 0.1, log=True),\n",
    "        \"depth\": trial.suggest_int(\"depth\", 3, 10),\n",
    "        \"ignored_features\" : ignored_feats[idx],\n",
    "        \"loss_function\" : 'RMSE',\n",
    "        \"eval_metric\" : MAE_EXP(),\n",
    "        \"use_best_model\" : True,\n",
    "        \"random_seed\" : RSEED,\n",
    "        \"cat_features\" : cat_feats\n",
    "    }\n",
    "\n",
    "\n",
    "    weight_train = np.array(X_train.installed_capacity)\n",
    "    weight_val = np.array(X_val.installed_capacity)\n",
    "\n",
    "    train_data = Pool(data = X_train, \n",
    "                      label = y_train.log1p_target_per_installed_capacity, \n",
    "                      weight = weight_train, \n",
    "                      cat_features = cat_feats\n",
    "                     )\n",
    "\n",
    "\n",
    "    eval_data = Pool(data = X_val, \n",
    "                     label = y_val.log1p_target_per_installed_capacity, \n",
    "                     weight = weight_val, \n",
    "                     cat_features = cat_feats\n",
    "                    )\n",
    "\n",
    "\n",
    "    model = CatBoostRegressor(**params, silent=True)\n",
    "    model.fit(train_data, eval_set = eval_data)\n",
    "    predictions = model.predict(X_val)\n",
    "    \n",
    "    y_true = np.array(y_val.target)\n",
    "    y_pred = np.expm1(np.array(predictions))*weight_val\n",
    "    \n",
    "    mae_score = mean_absolute_error(y_true, y_pred)\n",
    "    \n",
    "    return mae_score"
   ]
  },
  {
   "cell_type": "markdown",
   "id": "414ad30f-21b1-4c67-a5d0-63c7c52ca661",
   "metadata": {},
   "source": [
    "#### MAE with exponentials"
   ]
  },
  {
   "cell_type": "code",
   "execution_count": 3,
   "id": "714e86f2-3413-4b52-8fc3-ead30790c76a",
   "metadata": {
    "tags": []
   },
   "outputs": [],
   "source": [
    "class MAE_EXP:\n",
    "   \n",
    "    def is_max_optimal(self):\n",
    "        return False # lower is better\n",
    "\n",
    "    def evaluate(self, approxes, target, weight):\n",
    " \n",
    "        y_true = np.exp(np.array(target))\n",
    "        y_pred = np.exp(np.array(approxes))\n",
    "        w = np.array(weight)\n",
    "        \n",
    "        \n",
    "        score = np.mean(np.abs(y_true - y_pred)*w)\n",
    "        return score, 1\n",
    "\n",
    "    def get_final_error(self, error, weight):\n",
    "        return error"
   ]
  },
  {
   "cell_type": "markdown",
   "id": "340ecb7e-7b51-4c0b-a7b6-ee771ab2b0ef",
   "metadata": {
    "tags": []
   },
   "source": [
    "#### Get targets and features"
   ]
  },
  {
   "cell_type": "code",
   "execution_count": 4,
   "id": "763a46dc-38b3-4d95-91d4-f5423c1cef31",
   "metadata": {},
   "outputs": [],
   "source": [
    "def get_feats_and_target(df):\n",
    "    \n",
    "    datetime_feats = df.select_dtypes(include=[\"datetime64\"]).columns.to_list()\n",
    "    cat_feats = df.select_dtypes(include=[\"category\"]).columns.to_list()\n",
    "    num_cols = df.select_dtypes(include=[\"float64\", \"int64\"]).columns.to_list()\n",
    "    \n",
    "    num_feats = [elem for elem in num_cols if \"target\" not in elem]\n",
    "    target = [elem for elem in num_cols if elem not in num_feats]\n",
    "    \n",
    "    cat_num_feats = cat_feats + num_feats\n",
    "        \n",
    "    return cat_feats, num_feats, cat_num_feats, target"
   ]
  },
  {
   "cell_type": "markdown",
   "id": "c1ac648a-ca9c-40b2-b83e-481c5934f8f5",
   "metadata": {},
   "source": [
    "#### Train/validation split"
   ]
  },
  {
   "cell_type": "code",
   "execution_count": 5,
   "id": "be5c2e26-e7d1-4cb8-a602-decca86e5390",
   "metadata": {},
   "outputs": [],
   "source": [
    "def my_train_val_split(df, date):\n",
    "\n",
    "    train_cond = pd.to_datetime(df['date']) < pd.to_datetime(date)\n",
    "    val_cond = pd.to_datetime(df['date']) >= pd.to_datetime(date)\n",
    "    \n",
    "    df_train = df[train_cond]\n",
    "    df_val = df[val_cond]\n",
    "    \n",
    "    return df_train, df_val"
   ]
  },
  {
   "cell_type": "markdown",
   "id": "24151829-080e-43f2-b316-ddda5b02147d",
   "metadata": {
    "tags": []
   },
   "source": [
    "## 1 - Loading the data"
   ]
  },
  {
   "cell_type": "code",
   "execution_count": 6,
   "id": "22546c56-dc5f-4007-94c8-1f76676366d0",
   "metadata": {
    "tags": []
   },
   "outputs": [],
   "source": [
    "data_prod_df = pd.read_csv('../data/data_production.csv', parse_dates = [\"datetime\", \"date\"])"
   ]
  },
  {
   "cell_type": "code",
   "execution_count": 7,
   "id": "52044eb5-e1a7-42b6-90d1-04caa8db14a2",
   "metadata": {},
   "outputs": [],
   "source": [
    "cat_cols = [\n",
    "    \"county\",\n",
    "    \"is_business\",\n",
    "    \"product_type\",\n",
    "    \"hour\",\n",
    "    \"month\",\n",
    "    \"is_weekend\",\n",
    "    \"is_holiday\",\n",
    "    \"is_school_holiday\",\n",
    "    \"is_population_over_100k\"\n",
    "]\n",
    "\n",
    "data_prod_df[cat_cols] = data_prod_df[cat_cols].astype(\"category\")"
   ]
  },
  {
   "cell_type": "code",
   "execution_count": 8,
   "id": "87105cb2-790f-4f14-ac79-ce3e2fb41509",
   "metadata": {
    "tags": []
   },
   "outputs": [
    {
     "data": {
      "text/html": [
       "<div>\n",
       "<style scoped>\n",
       "    .dataframe tbody tr th:only-of-type {\n",
       "        vertical-align: middle;\n",
       "    }\n",
       "\n",
       "    .dataframe tbody tr th {\n",
       "        vertical-align: top;\n",
       "    }\n",
       "\n",
       "    .dataframe thead th {\n",
       "        text-align: right;\n",
       "    }\n",
       "</style>\n",
       "<table border=\"1\" class=\"dataframe\">\n",
       "  <thead>\n",
       "    <tr style=\"text-align: right;\">\n",
       "      <th></th>\n",
       "      <th>county</th>\n",
       "      <th>is_business</th>\n",
       "      <th>product_type</th>\n",
       "      <th>prediction_unit_id</th>\n",
       "      <th>datetime</th>\n",
       "      <th>date</th>\n",
       "      <th>solar_azimuth</th>\n",
       "      <th>solar_altitude</th>\n",
       "      <th>hour</th>\n",
       "      <th>month</th>\n",
       "      <th>...</th>\n",
       "      <th>cloudcover_high</th>\n",
       "      <th>windspeed_10m</th>\n",
       "      <th>winddirection_10m</th>\n",
       "      <th>shortwave_radiation</th>\n",
       "      <th>direct_solar_radiation</th>\n",
       "      <th>diffuse_radiation</th>\n",
       "      <th>is_population_over_100k</th>\n",
       "      <th>is_holiday</th>\n",
       "      <th>is_school_holiday</th>\n",
       "      <th>target</th>\n",
       "    </tr>\n",
       "  </thead>\n",
       "  <tbody>\n",
       "    <tr>\n",
       "      <th>0</th>\n",
       "      <td>0</td>\n",
       "      <td>0</td>\n",
       "      <td>1</td>\n",
       "      <td>0</td>\n",
       "      <td>2022-02-09</td>\n",
       "      <td>2022-02-09</td>\n",
       "      <td>167.90799</td>\n",
       "      <td>-45.119922</td>\n",
       "      <td>0</td>\n",
       "      <td>2</td>\n",
       "      <td>...</td>\n",
       "      <td>0.0</td>\n",
       "      <td>4.69</td>\n",
       "      <td>154.0</td>\n",
       "      <td>0.0</td>\n",
       "      <td>0.0</td>\n",
       "      <td>0.0</td>\n",
       "      <td>1</td>\n",
       "      <td>0</td>\n",
       "      <td>0</td>\n",
       "      <td>0.212</td>\n",
       "    </tr>\n",
       "    <tr>\n",
       "      <th>1</th>\n",
       "      <td>0</td>\n",
       "      <td>0</td>\n",
       "      <td>2</td>\n",
       "      <td>1</td>\n",
       "      <td>2022-02-09</td>\n",
       "      <td>2022-02-09</td>\n",
       "      <td>167.90799</td>\n",
       "      <td>-45.119922</td>\n",
       "      <td>0</td>\n",
       "      <td>2</td>\n",
       "      <td>...</td>\n",
       "      <td>0.0</td>\n",
       "      <td>4.69</td>\n",
       "      <td>154.0</td>\n",
       "      <td>0.0</td>\n",
       "      <td>0.0</td>\n",
       "      <td>0.0</td>\n",
       "      <td>1</td>\n",
       "      <td>0</td>\n",
       "      <td>0</td>\n",
       "      <td>0.000</td>\n",
       "    </tr>\n",
       "    <tr>\n",
       "      <th>2</th>\n",
       "      <td>0</td>\n",
       "      <td>0</td>\n",
       "      <td>3</td>\n",
       "      <td>2</td>\n",
       "      <td>2022-02-09</td>\n",
       "      <td>2022-02-09</td>\n",
       "      <td>167.90799</td>\n",
       "      <td>-45.119922</td>\n",
       "      <td>0</td>\n",
       "      <td>2</td>\n",
       "      <td>...</td>\n",
       "      <td>0.0</td>\n",
       "      <td>4.69</td>\n",
       "      <td>154.0</td>\n",
       "      <td>0.0</td>\n",
       "      <td>0.0</td>\n",
       "      <td>0.0</td>\n",
       "      <td>1</td>\n",
       "      <td>0</td>\n",
       "      <td>0</td>\n",
       "      <td>0.005</td>\n",
       "    </tr>\n",
       "    <tr>\n",
       "      <th>3</th>\n",
       "      <td>0</td>\n",
       "      <td>1</td>\n",
       "      <td>0</td>\n",
       "      <td>3</td>\n",
       "      <td>2022-02-09</td>\n",
       "      <td>2022-02-09</td>\n",
       "      <td>167.90799</td>\n",
       "      <td>-45.119922</td>\n",
       "      <td>0</td>\n",
       "      <td>2</td>\n",
       "      <td>...</td>\n",
       "      <td>0.0</td>\n",
       "      <td>4.69</td>\n",
       "      <td>154.0</td>\n",
       "      <td>0.0</td>\n",
       "      <td>0.0</td>\n",
       "      <td>0.0</td>\n",
       "      <td>1</td>\n",
       "      <td>0</td>\n",
       "      <td>0</td>\n",
       "      <td>0.000</td>\n",
       "    </tr>\n",
       "    <tr>\n",
       "      <th>4</th>\n",
       "      <td>0</td>\n",
       "      <td>1</td>\n",
       "      <td>1</td>\n",
       "      <td>4</td>\n",
       "      <td>2022-02-09</td>\n",
       "      <td>2022-02-09</td>\n",
       "      <td>167.90799</td>\n",
       "      <td>-45.119922</td>\n",
       "      <td>0</td>\n",
       "      <td>2</td>\n",
       "      <td>...</td>\n",
       "      <td>0.0</td>\n",
       "      <td>4.69</td>\n",
       "      <td>154.0</td>\n",
       "      <td>0.0</td>\n",
       "      <td>0.0</td>\n",
       "      <td>0.0</td>\n",
       "      <td>1</td>\n",
       "      <td>0</td>\n",
       "      <td>0</td>\n",
       "      <td>0.000</td>\n",
       "    </tr>\n",
       "  </tbody>\n",
       "</table>\n",
       "<p>5 rows × 47 columns</p>\n",
       "</div>"
      ],
      "text/plain": [
       "  county is_business product_type  prediction_unit_id   datetime       date  \\\n",
       "0      0           0            1                   0 2022-02-09 2022-02-09   \n",
       "1      0           0            2                   1 2022-02-09 2022-02-09   \n",
       "2      0           0            3                   2 2022-02-09 2022-02-09   \n",
       "3      0           1            0                   3 2022-02-09 2022-02-09   \n",
       "4      0           1            1                   4 2022-02-09 2022-02-09   \n",
       "\n",
       "   solar_azimuth  solar_altitude hour month  ... cloudcover_high  \\\n",
       "0      167.90799      -45.119922    0     2  ...             0.0   \n",
       "1      167.90799      -45.119922    0     2  ...             0.0   \n",
       "2      167.90799      -45.119922    0     2  ...             0.0   \n",
       "3      167.90799      -45.119922    0     2  ...             0.0   \n",
       "4      167.90799      -45.119922    0     2  ...             0.0   \n",
       "\n",
       "   windspeed_10m  winddirection_10m  shortwave_radiation  \\\n",
       "0           4.69              154.0                  0.0   \n",
       "1           4.69              154.0                  0.0   \n",
       "2           4.69              154.0                  0.0   \n",
       "3           4.69              154.0                  0.0   \n",
       "4           4.69              154.0                  0.0   \n",
       "\n",
       "   direct_solar_radiation  diffuse_radiation  is_population_over_100k  \\\n",
       "0                     0.0                0.0                        1   \n",
       "1                     0.0                0.0                        1   \n",
       "2                     0.0                0.0                        1   \n",
       "3                     0.0                0.0                        1   \n",
       "4                     0.0                0.0                        1   \n",
       "\n",
       "   is_holiday  is_school_holiday  target  \n",
       "0           0                  0   0.212  \n",
       "1           0                  0   0.000  \n",
       "2           0                  0   0.005  \n",
       "3           0                  0   0.000  \n",
       "4           0                  0   0.000  \n",
       "\n",
       "[5 rows x 47 columns]"
      ]
     },
     "execution_count": 8,
     "metadata": {},
     "output_type": "execute_result"
    }
   ],
   "source": [
    "data_prod_df.head()"
   ]
  },
  {
   "cell_type": "markdown",
   "id": "7563151d-e94a-4fee-ada7-32d962b76405",
   "metadata": {
    "tags": []
   },
   "source": [
    "## 2 - Features and target\n",
    "\n",
    "We separate the different types of features we have in our dataset, namely *datetime*, *categorical* and *numerical features*."
   ]
  },
  {
   "cell_type": "code",
   "execution_count": 9,
   "id": "a913cc12-ee87-47b2-967b-01b07dd65e4b",
   "metadata": {
    "tags": []
   },
   "outputs": [],
   "source": [
    "data_prod_df[\"log1p_target_per_installed_capacity\"] = np.log1p(data_prod_df.target/data_prod_df.installed_capacity)"
   ]
  },
  {
   "cell_type": "code",
   "execution_count": 10,
   "id": "bece401a-7779-4c8a-a00f-527a78f98074",
   "metadata": {
    "tags": []
   },
   "outputs": [],
   "source": [
    "cat_feats, num_feats, cat_num_feats, target = get_feats_and_target(data_prod_df)"
   ]
  },
  {
   "cell_type": "code",
   "execution_count": 11,
   "id": "04a39dc4-e006-4de0-aeb9-f72ca2ca1ea6",
   "metadata": {
    "tags": []
   },
   "outputs": [],
   "source": [
    "data_df = data_prod_df[data_prod_df['is_business'] == 0]\n",
    "data_train_df, data_val_df = my_train_val_split(data_df, date = '2023-05-24')"
   ]
  },
  {
   "cell_type": "code",
   "execution_count": 12,
   "id": "08b5ef64-64ed-4dfc-ac55-352f5d305c85",
   "metadata": {
    "tags": []
   },
   "outputs": [],
   "source": [
    "X_train = data_train_df[cat_num_feats].copy()\n",
    "y_train = data_train_df[['datetime'] + target].copy()\n",
    "\n",
    "X_val = data_val_df[cat_num_feats].copy()\n",
    "y_val = data_val_df[['datetime'] + target].copy()"
   ]
  },
  {
   "cell_type": "markdown",
   "id": "dcc0a8ef-4a71-4d36-bf24-64f7903f6148",
   "metadata": {
    "tags": []
   },
   "source": [
    "##  3 - Hyperparameter tuning"
   ]
  },
  {
   "cell_type": "code",
   "execution_count": 13,
   "id": "e1e72594-ab17-4024-b26f-7a3621a247b1",
   "metadata": {
    "tags": []
   },
   "outputs": [
    {
     "name": "stderr",
     "output_type": "stream",
     "text": [
      "[I 2024-04-20 23:58:10,239] A new study created in memory with name: no-name-ada854d1-88b1-41e9-a050-d1c5fbccf572\n",
      "[I 2024-04-21 00:00:41,699] Trial 0 finished with value: 69.7109738946093 and parameters: {'idx': 2, 'n_estimators': 597, 'learning_rate': 0.0059067546288060595, 'depth': 9}. Best is trial 0 with value: 69.7109738946093.\n",
      "[I 2024-04-21 00:02:17,251] Trial 1 finished with value: 63.15783694711208 and parameters: {'idx': 4, 'n_estimators': 873, 'learning_rate': 0.024331910080471662, 'depth': 3}. Best is trial 1 with value: 63.15783694711208.\n",
      "[I 2024-04-21 00:04:27,749] Trial 2 finished with value: 61.813715246581815 and parameters: {'idx': 0, 'n_estimators': 620, 'learning_rate': 0.01043450317927977, 'depth': 7}. Best is trial 2 with value: 61.813715246581815.\n",
      "[I 2024-04-21 00:06:28,012] Trial 3 finished with value: 63.43365608175135 and parameters: {'idx': 5, 'n_estimators': 964, 'learning_rate': 0.008387687124588606, 'depth': 4}. Best is trial 2 with value: 61.813715246581815.\n",
      "[I 2024-04-21 00:07:51,568] Trial 4 finished with value: 66.35773988242497 and parameters: {'idx': 3, 'n_estimators': 755, 'learning_rate': 0.0634623285885213, 'depth': 3}. Best is trial 2 with value: 61.813715246581815.\n",
      "[I 2024-04-21 00:09:47,981] Trial 5 finished with value: 156.1246984436478 and parameters: {'idx': 5, 'n_estimators': 740, 'learning_rate': 0.0015263546864139083, 'depth': 5}. Best is trial 2 with value: 61.813715246581815.\n",
      "[I 2024-04-21 00:12:04,416] Trial 6 finished with value: 62.13612088880028 and parameters: {'idx': 1, 'n_estimators': 1012, 'learning_rate': 0.043182025846050576, 'depth': 4}. Best is trial 2 with value: 61.813715246581815.\n",
      "[I 2024-04-21 00:19:34,363] Trial 7 finished with value: 57.60126188216346 and parameters: {'idx': 1, 'n_estimators': 995, 'learning_rate': 0.031126594784869527, 'depth': 10}. Best is trial 7 with value: 57.60126188216346.\n",
      "[I 2024-04-21 00:24:27,812] Trial 8 finished with value: 59.821520483830966 and parameters: {'idx': 0, 'n_estimators': 1170, 'learning_rate': 0.0269745295032768, 'depth': 8}. Best is trial 7 with value: 57.60126188216346.\n",
      "[I 2024-04-21 00:27:03,192] Trial 9 finished with value: 61.97655216854235 and parameters: {'idx': 1, 'n_estimators': 1080, 'learning_rate': 0.010657001501826661, 'depth': 6}. Best is trial 7 with value: 57.60126188216346.\n",
      "[I 2024-04-21 00:34:30,961] Trial 10 finished with value: 60.3315235500645 and parameters: {'idx': 1, 'n_estimators': 1192, 'learning_rate': 0.09969999745975991, 'depth': 10}. Best is trial 7 with value: 57.60126188216346.\n",
      "[I 2024-04-21 00:38:53,393] Trial 11 finished with value: 61.11883402514084 and parameters: {'idx': 0, 'n_estimators': 1172, 'learning_rate': 0.025123469729774642, 'depth': 8}. Best is trial 7 with value: 57.60126188216346.\n",
      "[I 2024-04-21 00:46:03,706] Trial 12 finished with value: 59.049190846662384 and parameters: {'idx': 0, 'n_estimators': 1069, 'learning_rate': 0.02270103319031973, 'depth': 10}. Best is trial 7 with value: 57.60126188216346.\n",
      "[I 2024-04-21 00:51:13,809] Trial 13 finished with value: 84.55528072209981 and parameters: {'idx': 3, 'n_estimators': 931, 'learning_rate': 0.002623205141782068, 'depth': 10}. Best is trial 7 with value: 57.60126188216346.\n",
      "[I 2024-04-21 00:55:25,448] Trial 14 finished with value: 59.89821531745726 and parameters: {'idx': 4, 'n_estimators': 1051, 'learning_rate': 0.017733766820873853, 'depth': 9}. Best is trial 7 with value: 57.60126188216346.\n",
      "[I 2024-04-21 01:00:48,136] Trial 15 finished with value: 60.05269117739789 and parameters: {'idx': 2, 'n_estimators': 792, 'learning_rate': 0.04689639383116665, 'depth': 10}. Best is trial 7 with value: 57.60126188216346.\n",
      "[I 2024-04-21 01:04:38,622] Trial 16 finished with value: 63.80537318479805 and parameters: {'idx': 0, 'n_estimators': 1098, 'learning_rate': 0.004657159882315443, 'depth': 8}. Best is trial 7 with value: 57.60126188216346.\n",
      "[I 2024-04-21 01:07:42,453] Trial 17 finished with value: 59.5858322574056 and parameters: {'idx': 1, 'n_estimators': 895, 'learning_rate': 0.016463924221126598, 'depth': 9}. Best is trial 7 with value: 57.60126188216346.\n",
      "[I 2024-04-21 01:10:51,627] Trial 18 finished with value: 59.18596347214562 and parameters: {'idx': 1, 'n_estimators': 1001, 'learning_rate': 0.04134791061088253, 'depth': 7}. Best is trial 7 with value: 57.60126188216346.\n",
      "[I 2024-04-21 01:17:54,031] Trial 19 finished with value: 61.11868216091331 and parameters: {'idx': 0, 'n_estimators': 1103, 'learning_rate': 0.0742307071382465, 'depth': 10}. Best is trial 7 with value: 57.60126188216346.\n",
      "[I 2024-04-21 01:19:48,611] Trial 20 finished with value: 60.764216336817576 and parameters: {'idx': 5, 'n_estimators': 818, 'learning_rate': 0.015491576074758328, 'depth': 6}. Best is trial 7 with value: 57.60126188216346.\n",
      "[I 2024-04-21 01:22:53,923] Trial 21 finished with value: 58.775444474395506 and parameters: {'idx': 1, 'n_estimators': 981, 'learning_rate': 0.04074931167777112, 'depth': 7}. Best is trial 7 with value: 57.60126188216346.\n",
      "[I 2024-04-21 01:26:50,374] Trial 22 finished with value: 58.99911168306042 and parameters: {'idx': 1, 'n_estimators': 946, 'learning_rate': 0.03225365697318637, 'depth': 9}. Best is trial 7 with value: 57.60126188216346.\n",
      "[I 2024-04-21 01:30:47,810] Trial 23 finished with value: 59.25898799731494 and parameters: {'idx': 1, 'n_estimators': 942, 'learning_rate': 0.034719558988735966, 'depth': 9}. Best is trial 7 with value: 57.60126188216346.\n",
      "[I 2024-04-21 01:34:34,981] Trial 24 finished with value: 60.71504546123417 and parameters: {'idx': 1, 'n_estimators': 992, 'learning_rate': 0.06020142269252068, 'depth': 8}. Best is trial 7 with value: 57.60126188216346.\n",
      "[I 2024-04-21 01:36:49,221] Trial 25 finished with value: 60.27867611087 and parameters: {'idx': 1, 'n_estimators': 687, 'learning_rate': 0.08674070750520864, 'depth': 7}. Best is trial 7 with value: 57.60126188216346.\n",
      "[I 2024-04-21 01:40:30,382] Trial 26 finished with value: 59.45270456863307 and parameters: {'idx': 1, 'n_estimators': 874, 'learning_rate': 0.031515585842900866, 'depth': 9}. Best is trial 7 with value: 57.60126188216346.\n",
      "[I 2024-04-21 01:43:01,093] Trial 27 finished with value: 62.02060006590101 and parameters: {'idx': 1, 'n_estimators': 918, 'learning_rate': 0.04727434802331075, 'depth': 6}. Best is trial 7 with value: 57.60126188216346.\n",
      "[I 2024-04-21 01:45:27,637] Trial 28 finished with value: 61.174050680224184 and parameters: {'idx': 1, 'n_estimators': 830, 'learning_rate': 0.013462990099394194, 'depth': 8}. Best is trial 7 with value: 57.60126188216346.\n",
      "[I 2024-04-21 01:49:10,095] Trial 29 finished with value: 61.32990329000666 and parameters: {'idx': 2, 'n_estimators': 1044, 'learning_rate': 0.006569872651148237, 'depth': 9}. Best is trial 7 with value: 57.60126188216346.\n",
      "[I 2024-04-21 01:51:22,292] Trial 30 finished with value: 71.69280854203777 and parameters: {'idx': 3, 'n_estimators': 973, 'learning_rate': 0.003940702354453613, 'depth': 5}. Best is trial 7 with value: 57.60126188216346.\n",
      "[I 2024-04-21 01:57:34,196] Trial 31 finished with value: 58.6365592874856 and parameters: {'idx': 4, 'n_estimators': 1131, 'learning_rate': 0.021668301487849106, 'depth': 10}. Best is trial 7 with value: 57.60126188216346.\n",
      "[I 2024-04-21 01:59:40,979] Trial 32 finished with value: 60.60884057263134 and parameters: {'idx': 4, 'n_estimators': 516, 'learning_rate': 0.02127716306497313, 'depth': 10}. Best is trial 7 with value: 57.60126188216346.\n",
      "[I 2024-04-21 02:04:38,266] Trial 33 finished with value: 60.227464468845305 and parameters: {'idx': 4, 'n_estimators': 1145, 'learning_rate': 0.03293154615750953, 'depth': 9}. Best is trial 7 with value: 57.60126188216346.\n",
      "[I 2024-04-21 02:09:09,120] Trial 34 finished with value: 60.80214748978928 and parameters: {'idx': 4, 'n_estimators': 1016, 'learning_rate': 0.012588301351644461, 'depth': 10}. Best is trial 7 with value: 57.60126188216346.\n",
      "[I 2024-04-21 02:13:20,744] Trial 35 finished with value: 62.91272637715859 and parameters: {'idx': 4, 'n_estimators': 1127, 'learning_rate': 0.061158222420240785, 'depth': 7}. Best is trial 7 with value: 57.60126188216346.\n",
      "[I 2024-04-21 02:16:41,426] Trial 36 finished with value: 59.07707973010927 and parameters: {'idx': 2, 'n_estimators': 887, 'learning_rate': 0.017998397112277673, 'depth': 9}. Best is trial 7 with value: 57.60126188216346.\n",
      "[I 2024-04-21 02:20:38,604] Trial 37 finished with value: 60.72084194538259 and parameters: {'idx': 5, 'n_estimators': 936, 'learning_rate': 0.008514866159681425, 'depth': 10}. Best is trial 7 with value: 57.60126188216346.\n",
      "[I 2024-04-21 02:24:20,058] Trial 38 finished with value: 59.79176505033136 and parameters: {'idx': 1, 'n_estimators': 1041, 'learning_rate': 0.0308151337780172, 'depth': 8}. Best is trial 7 with value: 57.60126188216346.\n",
      "[I 2024-04-21 02:26:32,050] Trial 39 finished with value: 65.3543453544793 and parameters: {'idx': 4, 'n_estimators': 974, 'learning_rate': 0.05203129266553178, 'depth': 5}. Best is trial 7 with value: 57.60126188216346.\n",
      "[I 2024-04-21 02:28:03,511] Trial 40 finished with value: 64.99364878225738 and parameters: {'idx': 3, 'n_estimators': 844, 'learning_rate': 0.036153777007965515, 'depth': 4}. Best is trial 7 with value: 57.60126188216346.\n",
      "[I 2024-04-21 02:33:41,514] Trial 41 finished with value: 59.34228967675311 and parameters: {'idx': 0, 'n_estimators': 1053, 'learning_rate': 0.020921384979378226, 'depth': 10}. Best is trial 7 with value: 57.60126188216346.\n",
      "[I 2024-04-21 02:39:29,751] Trial 42 finished with value: 59.74554574799459 and parameters: {'idx': 0, 'n_estimators': 1083, 'learning_rate': 0.022778079880311282, 'depth': 10}. Best is trial 7 with value: 57.60126188216346.\n",
      "[I 2024-04-21 02:44:17,051] Trial 43 finished with value: 60.16485871079573 and parameters: {'idx': 1, 'n_estimators': 1154, 'learning_rate': 0.027848567354630226, 'depth': 9}. Best is trial 7 with value: 57.60126188216346.\n",
      "[I 2024-04-21 02:48:51,149] Trial 44 finished with value: 60.024644489084764 and parameters: {'idx': 0, 'n_estimators': 1018, 'learning_rate': 0.011096871881750627, 'depth': 10}. Best is trial 7 with value: 57.60126188216346.\n",
      "[I 2024-04-21 02:53:48,961] Trial 45 finished with value: 61.17542149641374 and parameters: {'idx': 1, 'n_estimators': 1197, 'learning_rate': 0.02447590228156939, 'depth': 9}. Best is trial 7 with value: 57.60126188216346.\n",
      "[I 2024-04-21 03:00:11,352] Trial 46 finished with value: 59.77272247088967 and parameters: {'idx': 5, 'n_estimators': 1114, 'learning_rate': 0.04248640869806719, 'depth': 10}. Best is trial 7 with value: 57.60126188216346.\n",
      "[I 2024-04-21 03:06:31,235] Trial 47 finished with value: 64.04124506210736 and parameters: {'idx': 4, 'n_estimators': 1074, 'learning_rate': 0.05436941755874456, 'depth': 10}. Best is trial 7 with value: 57.60126188216346.\n",
      "[I 2024-04-21 03:10:36,487] Trial 48 finished with value: 61.84336846666885 and parameters: {'idx': 1, 'n_estimators': 907, 'learning_rate': 0.0727854497818791, 'depth': 9}. Best is trial 7 with value: 57.60126188216346.\n",
      "[I 2024-04-21 03:14:03,964] Trial 49 finished with value: 59.41034223136976 and parameters: {'idx': 0, 'n_estimators': 950, 'learning_rate': 0.03824668518001873, 'depth': 8}. Best is trial 7 with value: 57.60126188216346.\n",
      "[I 2024-04-21 03:16:43,193] Trial 50 finished with value: 134.57484961189502 and parameters: {'idx': 2, 'n_estimators': 975, 'learning_rate': 0.0013805381721603601, 'depth': 7}. Best is trial 7 with value: 57.60126188216346.\n",
      "[I 2024-04-21 03:19:54,395] Trial 51 finished with value: 59.54744581582222 and parameters: {'idx': 2, 'n_estimators': 884, 'learning_rate': 0.017993479961356085, 'depth': 9}. Best is trial 7 with value: 57.60126188216346.\n",
      "[I 2024-04-21 03:23:22,396] Trial 52 finished with value: 60.96945600652004 and parameters: {'idx': 2, 'n_estimators': 767, 'learning_rate': 0.01935449963473353, 'depth': 10}. Best is trial 7 with value: 57.60126188216346.\n",
      "[I 2024-04-21 03:27:36,040] Trial 53 finished with value: 59.10165025619313 and parameters: {'idx': 2, 'n_estimators': 1017, 'learning_rate': 0.026795643650532497, 'depth': 9}. Best is trial 7 with value: 57.60126188216346.\n",
      "[I 2024-04-21 03:32:38,930] Trial 54 finished with value: 58.89520093349602 and parameters: {'idx': 2, 'n_estimators': 1072, 'learning_rate': 0.014513355151690277, 'depth': 10}. Best is trial 7 with value: 57.60126188216346.\n",
      "[I 2024-04-21 03:37:19,964] Trial 55 finished with value: 59.882675499836196 and parameters: {'idx': 3, 'n_estimators': 1081, 'learning_rate': 0.01389485590063997, 'depth': 10}. Best is trial 7 with value: 57.60126188216346.\n",
      "[I 2024-04-21 03:41:48,150] Trial 56 finished with value: 59.761071878261845 and parameters: {'idx': 1, 'n_estimators': 1047, 'learning_rate': 0.009001049899072126, 'depth': 10}. Best is trial 7 with value: 57.60126188216346.\n",
      "[I 2024-04-21 03:47:31,124] Trial 57 finished with value: 58.48131573667876 and parameters: {'idx': 1, 'n_estimators': 1135, 'learning_rate': 0.0152156806048259, 'depth': 10}. Best is trial 7 with value: 57.60126188216346.\n",
      "[I 2024-04-21 03:53:42,890] Trial 58 finished with value: 58.65779617318456 and parameters: {'idx': 1, 'n_estimators': 1139, 'learning_rate': 0.014997803705054597, 'depth': 10}. Best is trial 7 with value: 57.60126188216346.\n",
      "[I 2024-04-21 03:58:58,069] Trial 59 finished with value: 60.59243798253955 and parameters: {'idx': 1, 'n_estimators': 1133, 'learning_rate': 0.006621194783076831, 'depth': 10}. Best is trial 7 with value: 57.60126188216346.\n"
     ]
    }
   ],
   "source": [
    "study = optuna.create_study(direction='minimize')\n",
    "study.optimize(objective, n_trials=60)"
   ]
  },
  {
   "cell_type": "code",
   "execution_count": 14,
   "id": "d38ec658-2bde-4bad-9046-08d181e421c6",
   "metadata": {},
   "outputs": [
    {
     "name": "stdout",
     "output_type": "stream",
     "text": [
      "Best MAE for validation set: 57.60126188216346\n"
     ]
    }
   ],
   "source": [
    "fixed_ignored_feats = ['shortwave_radiation', 'installed_capacity', \n",
    "                       \"is_school_holiday\", \"is_holiday\", \"is_weekend\", \n",
    "                       \"cloudcover_high\", 'highest_price_per_mwh', \"snowfall\",\n",
    "                       'lowest_price_per_mwh', 'euros_per_mwh', 'prediction_unit_id',\n",
    "                       \"is_population_over_100k\"\n",
    "                      ]\n",
    "    \n",
    "ignored_feats = [fixed_ignored_feats,\n",
    "                 fixed_ignored_feats + [\"hour_number\", \"day_number\"],\n",
    "                 fixed_ignored_feats + [\"dewpoint\"],\n",
    "                 fixed_ignored_feats + ['windspeed_10m', \"winddirection_10m\"],\n",
    "                 fixed_ignored_feats + ['dewpoint', 'windspeed_10m', \"winddirection_10m\"], \n",
    "                 fixed_ignored_feats + ['highest_price_per_mwh_11_weeks_lag', 'lowest_price_per_mwh_11_weeks_lag', \n",
    "                                        'highest_price_per_mwh_23_weeks_lag', 'lowest_price_per_mwh_23_weeks_lag']\n",
    "                ]\n",
    "\n",
    "business_prod_best_params = study.best_params\n",
    "print('Best MAE for validation set:', study.best_value)\n",
    "\n",
    "idx = business_prod_best_params.get('idx')\n",
    "del business_prod_best_params['idx']\n",
    "business_prod_best_params.update({'ignored_features' : ignored_feats[idx], \n",
    "                                 'cat_features' : cat_feats, \n",
    "                                 'MAE' : study.best_value})\n",
    "\n",
    "with open(\"best_parameters_private_production_final.json\", \"w\") as outfile: \n",
    "    json.dump(business_prod_best_params, outfile)"
   ]
  },
  {
   "cell_type": "code",
   "execution_count": 15,
   "id": "a9482472-25d5-40a4-9301-ae3403ab13d1",
   "metadata": {
    "tags": []
   },
   "outputs": [
    {
     "name": "stdout",
     "output_type": "stream",
     "text": [
      "Contribution to the overall MAE: 13.15076080542173\n"
     ]
    }
   ],
   "source": [
    "cont_overall_mae = study.best_value*data_df['target'].size/(2*data_prod_df['target'].size)\n",
    "print('Contribution to the overall MAE:', cont_overall_mae)"
   ]
  },
  {
   "cell_type": "code",
   "execution_count": null,
   "id": "30f19e2c-1456-49f3-82f7-62bf18dd72e8",
   "metadata": {},
   "outputs": [],
   "source": []
  }
 ],
 "metadata": {
  "kernelspec": {
   "display_name": "Python 3 (ipykernel)",
   "language": "python",
   "name": "python3"
  },
  "language_info": {
   "codemirror_mode": {
    "name": "ipython",
    "version": 3
   },
   "file_extension": ".py",
   "mimetype": "text/x-python",
   "name": "python",
   "nbconvert_exporter": "python",
   "pygments_lexer": "ipython3",
   "version": "3.11.3"
  }
 },
 "nbformat": 4,
 "nbformat_minor": 5
}
